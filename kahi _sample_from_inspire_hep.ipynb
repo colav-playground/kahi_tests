{
 "cells": [
  {
   "cell_type": "code",
   "execution_count": 33,
   "id": "0525ad5a-6b29-4bfc-9555-cf125f145e24",
   "metadata": {},
   "outputs": [],
   "source": [
    "from pymongo import MongoClient\n",
    "import requests\n",
    "from IPython.display import display, HTML, JSON\n",
    "import math\n",
    "import re\n",
    "import pandas as pd"
   ]
  },
  {
   "cell_type": "code",
   "execution_count": 2,
   "id": "c999be2c-0868-4f7c-aaa5-141ef55df9a1",
   "metadata": {},
   "outputs": [],
   "source": [
    "def parse_doi(doi):\n",
    "    return re.sub(r'https*\\:\\/\\/[\\w\\.]+\\/','',doi.lower())"
   ]
  },
  {
   "cell_type": "code",
   "execution_count": 3,
   "id": "1cac6d5e-8bec-47dc-8acb-c2a37a834ce8",
   "metadata": {},
   "outputs": [],
   "source": [
    "sample_db = MongoClient()[\"kahi_sample_works\"]"
   ]
  },
  {
   "cell_type": "code",
   "execution_count": 4,
   "id": "22bf85c2-13d8-4206-9751-5b8f97848ca0",
   "metadata": {},
   "outputs": [],
   "source": [
    "url=\"https://inspirehep.net/api/literature?q=a+restrepo,+d&earliest_date=2017--2019&doc_type=published\"\n"
   ]
  },
  {
   "cell_type": "code",
   "execution_count": 5,
   "id": "356ed89f-ab08-487f-b875-8e87f40a9850",
   "metadata": {},
   "outputs": [],
   "source": [
    "req=requests.get(url)"
   ]
  },
  {
   "cell_type": "code",
   "execution_count": 6,
   "id": "813e692f-d350-4933-b7b0-21b54d1fe1ff",
   "metadata": {},
   "outputs": [],
   "source": [
    "dois_data = req.json()"
   ]
  },
  {
   "cell_type": "code",
   "execution_count": 7,
   "id": "80ba987f-aecb-4516-a450-6e56ce07539a",
   "metadata": {},
   "outputs": [
    {
     "data": {
      "application/json": [
       {
        "value": "10.1103/PhysRevD.98.055016"
       },
       {
        "material": "publication",
        "source": "arXiv",
        "value": "10.1103/PhysRevD.98.055016"
       }
      ],
      "text/plain": [
       "<IPython.core.display.JSON object>"
      ]
     },
     "execution_count": 7,
     "metadata": {
      "application/json": {
       "expanded": false,
       "root": "root"
      }
     },
     "output_type": "execute_result"
    }
   ],
   "source": [
    "JSON(dois_data[\"hits\"][\"hits\"][0][\"metadata\"][\"dois\"])"
   ]
  },
  {
   "cell_type": "code",
   "execution_count": 8,
   "id": "9a8e4590-48a1-493e-a14e-2cb160c958aa",
   "metadata": {},
   "outputs": [],
   "source": [
    "dois=[]\n",
    "for i in dois_data[\"hits\"][\"hits\"]:\n",
    "    doi=i[\"metadata\"][\"dois\"][0][\"value\"]\n",
    "    dois.append(doi)"
   ]
  },
  {
   "cell_type": "code",
   "execution_count": 9,
   "id": "d50e9927-fb9f-4e52-9ae8-53f204285519",
   "metadata": {},
   "outputs": [
    {
     "data": {
      "text/plain": [
       "['10.1103/PhysRevD.98.055016',\n",
       " '10.1103/PhysRevD.100.035029',\n",
       " '10.1016/j.physletb.2018.01.009',\n",
       " '10.1103/PhysRevD.99.015038',\n",
       " '10.1016/j.physletb.2019.01.023',\n",
       " '10.1103/PhysRevD.97.055045',\n",
       " '10.1103/PhysRevD.97.115032',\n",
       " '10.1103/PhysRevD.101.035004',\n",
       " '10.1007/JHEP04(2020)134',\n",
       " '10.1142/S0217732318500244']"
      ]
     },
     "execution_count": 9,
     "metadata": {},
     "output_type": "execute_result"
    }
   ],
   "source": [
    "dois"
   ]
  },
  {
   "cell_type": "markdown",
   "id": "32a9c11b-6a9b-4f8a-a153-4ba170cc92e0",
   "metadata": {},
   "source": [
    "# openalex"
   ]
  },
  {
   "cell_type": "code",
   "execution_count": 10,
   "id": "5549e7f1-c048-4014-a243-b36e3c6dfcbf",
   "metadata": {},
   "outputs": [],
   "source": [
    "oa_db = MongoClient()[\"openalexco\"]\n",
    "oa_works = MongoClient()[\"openalexco\"][\"works\"]"
   ]
  },
  {
   "cell_type": "code",
   "execution_count": 11,
   "id": "660b3793-8211-4bf0-962c-93a27636e01e",
   "metadata": {},
   "outputs": [
    {
     "name": "stdout",
     "output_type": "stream",
     "text": [
      "https://doi.org/10.1103/physrevd.98.055016\n",
      "https://doi.org/10.1103/physrevd.100.035029\n",
      "https://doi.org/10.1016/j.physletb.2018.01.009\n",
      "https://doi.org/10.1103/physrevd.99.015038\n",
      "https://doi.org/10.1016/j.physletb.2019.01.023\n",
      "https://doi.org/10.1103/physrevd.97.055045\n",
      "https://doi.org/10.1103/physrevd.97.115032\n",
      "https://doi.org/10.1103/physrevd.101.035004\n",
      "https://doi.org/10.1007/jhep04(2020)134\n",
      "https://doi.org/10.1142/s0217732318500244\n"
     ]
    }
   ],
   "source": [
    "sample=[]\n",
    "for i in dois:\n",
    "    doi=i.lower() #openalex requires lower case\n",
    "    prefix=\"https://doi.org/\"\n",
    "    found = oa_works.find_one({\"doi\":prefix+doi})\n",
    "    if found is not None:\n",
    "        print(prefix+doi)\n",
    "        sample.append(found)\n",
    "    else:\n",
    "        pass\n",
    "        #print(prefix+doi)"
   ]
  },
  {
   "cell_type": "code",
   "execution_count": 12,
   "id": "bdffc99f-2dc8-47db-b928-db55fb441f17",
   "metadata": {},
   "outputs": [
    {
     "data": {
      "text/plain": [
       "10"
      ]
     },
     "execution_count": 12,
     "metadata": {},
     "output_type": "execute_result"
    }
   ],
   "source": [
    "len(sample)"
   ]
  },
  {
   "cell_type": "code",
   "execution_count": 13,
   "id": "a6adafdf-f6ac-4eef-be9d-515c7f10135c",
   "metadata": {},
   "outputs": [
    {
     "data": {
      "text/plain": [
       "InsertManyResult([ObjectId('637cfba0244b9f9d0fe13cd6'), ObjectId('637cfb9d244b9f9d0fe0e8c2'), ObjectId('637cfba2244b9f9d0fe1641d'), ObjectId('637cfb9f244b9f9d0fe113f2'), ObjectId('637cfb9f244b9f9d0fe11528'), ObjectId('637cfba2244b9f9d0fe161bb'), ObjectId('637cfba1244b9f9d0fe151d2'), ObjectId('637cfb9b244b9f9d0fe0ba80'), ObjectId('637cfb9a244b9f9d0fe0b0c4'), ObjectId('637cfba3244b9f9d0fe16be0')], acknowledged=True)"
      ]
     },
     "execution_count": 13,
     "metadata": {},
     "output_type": "execute_result"
    }
   ],
   "source": [
    "\n",
    "sample_db[\"oa_works\"].drop()\n",
    "sample_db[\"oa_works\"].insert_many(sample)"
   ]
  },
  {
   "cell_type": "markdown",
   "id": "59de883f-300f-4d5b-b676-0df199068644",
   "metadata": {},
   "source": [
    "# Scopus"
   ]
  },
  {
   "cell_type": "code",
   "execution_count": 14,
   "id": "c983fc04-015f-42d0-a8cf-1cc55adffd69",
   "metadata": {},
   "outputs": [],
   "source": [
    "sc_db = MongoClient()[\"scopus_colombia\"]\n",
    "sc_stage = sc_db[\"stage\"]"
   ]
  },
  {
   "cell_type": "code",
   "execution_count": 15,
   "id": "ee70cd31-9424-4e22-a936-e4d69cef54bb",
   "metadata": {},
   "outputs": [
    {
     "name": "stdout",
     "output_type": "stream",
     "text": [
      "10.1103/PhysRevD.98.055016\n",
      "10.1103/PhysRevD.100.035029\n",
      "10.1016/j.physletb.2018.01.009\n",
      "10.1103/PhysRevD.99.015038\n",
      "10.1016/j.physletb.2019.01.023\n",
      "10.1103/PhysRevD.97.055045\n",
      "10.1103/PhysRevD.97.115032\n",
      "10.1103/PhysRevD.101.035004\n"
     ]
    }
   ],
   "source": [
    "sample=[]\n",
    "for doi in dois:\n",
    "    found  = sc_stage.find_one({\"DOI\":doi.upper()})\n",
    "    if found is not None:\n",
    "        sample.append(found)\n",
    "    else:\n",
    "        print(doi)"
   ]
  },
  {
   "cell_type": "code",
   "execution_count": 16,
   "id": "e91d405e-e065-4058-a9d9-75893a69b782",
   "metadata": {},
   "outputs": [
    {
     "data": {
      "text/plain": [
       "2"
      ]
     },
     "execution_count": 16,
     "metadata": {},
     "output_type": "execute_result"
    }
   ],
   "source": [
    "len(sample)"
   ]
  },
  {
   "cell_type": "code",
   "execution_count": null,
   "id": "44e12725-ae24-4fdc-960c-8f3b730e159c",
   "metadata": {},
   "outputs": [],
   "source": []
  },
  {
   "cell_type": "code",
   "execution_count": 17,
   "id": "dc81c0ff-c7f5-4e99-83bb-ad6b7f857219",
   "metadata": {},
   "outputs": [
    {
     "data": {
      "text/plain": [
       "InsertManyResult([ObjectId('5f86370592dec2f3a4e2af09'), ObjectId('5f86377b92dec2f3a4e3358d')], acknowledged=True)"
      ]
     },
     "execution_count": 17,
     "metadata": {},
     "output_type": "execute_result"
    }
   ],
   "source": [
    "sample_db[\"scopus_works\"].drop()\n",
    "sample_db[\"scopus_works\"].insert_many(sample)"
   ]
  },
  {
   "cell_type": "code",
   "execution_count": 18,
   "id": "7d2e8c33-82f2-4281-b9a7-b798639a1b64",
   "metadata": {},
   "outputs": [
    {
     "name": "stdout",
     "output_type": "stream",
     "text": [
      "found10.1016/j.physletb.2018.01.009\n",
      "found10.1016/j.physletb.2019.01.023\n"
     ]
    }
   ],
   "source": [
    "#double checking if only to dois found\n",
    "data=list(sc_stage.find({\"DOI\":{\"$ne\":math.nan}},{\"DOI\":1}))\n",
    "for doi in dois:\n",
    "    for rec in data:\n",
    "        sdoi=rec[\"DOI\"].lower().strip()\n",
    "        if doi == sdoi:\n",
    "            print(\"found\"+doi)\n",
    "            break\n"
   ]
  },
  {
   "cell_type": "markdown",
   "id": "95855cd0-9e44-4a93-b4af-ffbe74e91a44",
   "metadata": {},
   "source": [
    "# WOS"
   ]
  },
  {
   "cell_type": "code",
   "execution_count": 19,
   "id": "d08b3b1b-10db-4921-8653-0762009a6b00",
   "metadata": {},
   "outputs": [],
   "source": [
    "wos_db = MongoClient()[\"wos_colombia\"]\n",
    "wos_stage = wos_db[\"stage\"]"
   ]
  },
  {
   "cell_type": "code",
   "execution_count": 20,
   "id": "f4b08bd3-511a-4cba-a961-51ab2ee47395",
   "metadata": {},
   "outputs": [
    {
     "name": "stdout",
     "output_type": "stream",
     "text": [
      "10.1007/JHEP04(2020)134\n"
     ]
    }
   ],
   "source": [
    "sample=[]\n",
    "for doi in dois:\n",
    "    found  = wos_stage.find_one({\"doi_idx\":doi.lower()})\n",
    "    if found is not None:\n",
    "        sample.append(found)\n",
    "    else:\n",
    "        print(doi)"
   ]
  },
  {
   "cell_type": "code",
   "execution_count": 21,
   "id": "12db725b-d11a-4ae2-989a-b2f1864b6f1f",
   "metadata": {},
   "outputs": [
    {
     "data": {
      "text/plain": [
       "9"
      ]
     },
     "execution_count": 21,
     "metadata": {},
     "output_type": "execute_result"
    }
   ],
   "source": [
    "len(sample)"
   ]
  },
  {
   "cell_type": "code",
   "execution_count": 22,
   "id": "2e2be17f-3732-4f91-88ec-8f82fd766013",
   "metadata": {},
   "outputs": [
    {
     "data": {
      "text/plain": [
       "InsertManyResult([ObjectId('5f86270892dec2f3a4dfa333'), ObjectId('5f8625b392dec2f3a4df7596'), ObjectId('5f86279292dec2f3a4dfb4ec'), ObjectId('5f86265f92dec2f3a4df8be8'), ObjectId('5f86264192dec2f3a4df878c'), ObjectId('5f86279292dec2f3a4dfb499'), ObjectId('5f86275492dec2f3a4dfacfd'), ObjectId('5f86251f92dec2f3a4df6218'), ObjectId('5f8627af92dec2f3a4dfb912')], acknowledged=True)"
      ]
     },
     "execution_count": 22,
     "metadata": {},
     "output_type": "execute_result"
    }
   ],
   "source": [
    "sample_db[\"wos_works\"].drop()\n",
    "sample_db[\"wos_works\"].insert_many(sample)"
   ]
  },
  {
   "cell_type": "markdown",
   "id": "85d47140-02fd-464e-8471-3ec253b88295",
   "metadata": {},
   "source": [
    "# Scholar"
   ]
  },
  {
   "cell_type": "code",
   "execution_count": 23,
   "id": "89df0164-5434-4202-975f-f2ab5519e6d8",
   "metadata": {},
   "outputs": [],
   "source": [
    "gs_db = MongoClient()[\"scholar_colombia\"]\n",
    "gs_stage = gs_db[\"stage\"]"
   ]
  },
  {
   "cell_type": "code",
   "execution_count": 24,
   "id": "409bd7e2-b92d-45b5-806f-b3b199ec92fd",
   "metadata": {},
   "outputs": [],
   "source": [
    "sample=[]\n",
    "for doi in dois:\n",
    "    found  = gs_stage.find_one({\"doi\":doi.lower()})\n",
    "    if found is not None:\n",
    "        sample.append(found)\n",
    "    else:\n",
    "        print(doi)"
   ]
  },
  {
   "cell_type": "code",
   "execution_count": 25,
   "id": "1a265c6c-3b4e-4f85-a4b3-dbc36aba870b",
   "metadata": {},
   "outputs": [
    {
     "data": {
      "text/plain": [
       "10"
      ]
     },
     "execution_count": 25,
     "metadata": {},
     "output_type": "execute_result"
    }
   ],
   "source": [
    "len(sample)"
   ]
  },
  {
   "cell_type": "code",
   "execution_count": 26,
   "id": "08fac0da-1124-4d47-ad2c-ce1e6d2481d2",
   "metadata": {},
   "outputs": [
    {
     "data": {
      "text/plain": [
       "InsertManyResult([ObjectId('629115516f6a44dc7d6b3e39'), ObjectId('629115506f6a44dc7d69e8c8'), ObjectId('629115506f6a44dc7d69eb12'), ObjectId('629115516f6a44dc7d6b34df'), ObjectId('629115506f6a44dc7d69d281'), ObjectId('629115516f6a44dc7d6b458d'), ObjectId('629115516f6a44dc7d6b428a'), ObjectId('629115516f6a44dc7d6b2393'), ObjectId('629115516f6a44dc7d6bca95'), ObjectId('629115516f6a44dc7d6b4719')], acknowledged=True)"
      ]
     },
     "execution_count": 26,
     "metadata": {},
     "output_type": "execute_result"
    }
   ],
   "source": [
    "sample_db[\"scholar_works\"].drop()\n",
    "sample_db[\"scholar_works\"].insert_many(sample)"
   ]
  },
  {
   "cell_type": "markdown",
   "id": "9b068351-def5-495f-86c7-66e46c8e7cef",
   "metadata": {},
   "source": [
    "# Scienti"
   ]
  },
  {
   "cell_type": "code",
   "execution_count": 27,
   "id": "6f1d8220-340b-4156-bc39-2be51cc3ba61",
   "metadata": {},
   "outputs": [],
   "source": [
    "scti_db = MongoClient()[\"scienti_111\"]\n",
    "scti_stage = scti_db[\"products\"]"
   ]
  },
  {
   "cell_type": "code",
   "execution_count": 28,
   "id": "babce2d8-6dc6-4478-96bb-dffa66f21d0f",
   "metadata": {},
   "outputs": [],
   "source": [
    "scti_dois = list(scti_stage.find({\"TXT_DOI\":{\"$exists\":True,\"$ne\":None}},{\"TXT_DOI\":1}))"
   ]
  },
  {
   "cell_type": "code",
   "execution_count": 29,
   "id": "11e56108-2d63-4a35-aa9b-6ffbaabc7b2c",
   "metadata": {},
   "outputs": [],
   "source": [
    "sample_ids=[]\n",
    "for doi in dois:\n",
    "    for scdoi in scti_dois:\n",
    "        sdoi = parse_doi(scdoi[\"TXT_DOI\"])\n",
    "        if doi.lower() == sdoi:\n",
    "            sample_ids.append(scdoi[\"_id\"])"
   ]
  },
  {
   "cell_type": "code",
   "execution_count": 30,
   "id": "d1f02959-a027-4f97-8523-c09e7780776d",
   "metadata": {},
   "outputs": [
    {
     "data": {
      "text/plain": [
       "8"
      ]
     },
     "execution_count": 30,
     "metadata": {},
     "output_type": "execute_result"
    }
   ],
   "source": [
    "len(sample_ids)"
   ]
  },
  {
   "cell_type": "code",
   "execution_count": 31,
   "id": "a2183b0c-c285-4c92-bd9c-37901ee80db2",
   "metadata": {},
   "outputs": [],
   "source": [
    "sample = []\n",
    "for _id in  sample_ids:\n",
    "    rec = scti_stage.find_one({\"_id\":_id})\n",
    "    sample.append(rec)"
   ]
  },
  {
   "cell_type": "code",
   "execution_count": 32,
   "id": "15e68e9e-351a-4141-a4fe-8977f0148b9e",
   "metadata": {},
   "outputs": [
    {
     "data": {
      "text/plain": [
       "InsertManyResult([ObjectId('637d3a26244b9f9d0fe574ae'), ObjectId('637d3a26244b9f9d0fe574b4'), ObjectId('637d3a26244b9f9d0fe574b2'), ObjectId('637d3a26244b9f9d0fe574b0'), ObjectId('637d3a26244b9f9d0fe574b1'), ObjectId('637d3a28244b9f9d0fe597dc'), ObjectId('637d3a26244b9f9d0fe574b3'), ObjectId('637d3a28244b9f9d0fe597d3')], acknowledged=True)"
      ]
     },
     "execution_count": 32,
     "metadata": {},
     "output_type": "execute_result"
    }
   ],
   "source": [
    "sample_db[\"scienti_works\"].drop()\n",
    "sample_db[\"scienti_works\"].insert_many(sample)"
   ]
  },
  {
   "cell_type": "markdown",
   "id": "41696ae7-85c9-4489-8299-f5000753efae",
   "metadata": {},
   "source": [
    "# TODO Puntaje"
   ]
  },
  {
   "cell_type": "code",
   "execution_count": 34,
   "id": "f184b590-5be3-4577-8439-3eb564f9b873",
   "metadata": {},
   "outputs": [],
   "source": [
    "path = \"~/data/kahi_data/kahi_data/udea/produccion 2018-2022 al 27 oct 2022.xlsx\"\n",
    "df = pd.read_excel(path)"
   ]
  },
  {
   "cell_type": "code",
   "execution_count": 35,
   "id": "e5dd2b19-204f-427d-a5c2-9024d44e5be6",
   "metadata": {},
   "outputs": [
    {
     "data": {
      "text/plain": [
       "8"
      ]
     },
     "execution_count": 35,
     "metadata": {},
     "output_type": "execute_result"
    }
   ],
   "source": [
    "sample=[]\n",
    "for doi in dois:\n",
    "    for i, row in df.iterrows():\n",
    "        if doi == row['DOI']:\n",
    "            sample.append(row)\n",
    "len(sample)"
   ]
  },
  {
   "cell_type": "code",
   "execution_count": 37,
   "id": "bcc19ddb-8d27-401b-aa40-fd577a5fb25c",
   "metadata": {},
   "outputs": [],
   "source": [
    "df_sample = pd.DataFrame(sample)\n",
    "df_sample.to_excel(\"puntaje_sample.xlsx\", index=False)"
   ]
  },
  {
   "cell_type": "code",
   "execution_count": null,
   "id": "b000aae4-8f3d-42ee-b164-c40f53a9940f",
   "metadata": {},
   "outputs": [],
   "source": []
  }
 ],
 "metadata": {
  "kernelspec": {
   "display_name": "Python 3 (ipykernel)",
   "language": "python",
   "name": "python3"
  },
  "language_info": {
   "codemirror_mode": {
    "name": "ipython",
    "version": 3
   },
   "file_extension": ".py",
   "mimetype": "text/x-python",
   "name": "python",
   "nbconvert_exporter": "python",
   "pygments_lexer": "ipython3",
   "version": "3.11.6"
  }
 },
 "nbformat": 4,
 "nbformat_minor": 5
}
