{
 "cells": [
  {
   "cell_type": "code",
   "execution_count": 2,
   "id": "0525ad5a-6b29-4bfc-9555-cf125f145e24",
   "metadata": {},
   "outputs": [],
   "source": [
    "from pymongo import MongoClient\n",
    "import requests\n",
    "from IPython.display import display, HTML, JSON"
   ]
  },
  {
   "cell_type": "code",
   "execution_count": 3,
   "id": "1cac6d5e-8bec-47dc-8acb-c2a37a834ce8",
   "metadata": {},
   "outputs": [],
   "source": [
    "oa_db = MongoClient()[\"openalexco\"]\n",
    "oa_works = MongoClient()[\"openalexco\"][\"works\"]"
   ]
  },
  {
   "cell_type": "code",
   "execution_count": 4,
   "id": "22bf85c2-13d8-4206-9751-5b8f97848ca0",
   "metadata": {},
   "outputs": [],
   "source": [
    "url=\"https://inspirehep.net/api/literature?q=a+restrepo,+d&earliest_date=2017--2019&doc_type=published\"\n"
   ]
  },
  {
   "cell_type": "code",
   "execution_count": 5,
   "id": "356ed89f-ab08-487f-b875-8e87f40a9850",
   "metadata": {},
   "outputs": [],
   "source": [
    "req=requests.get(url)"
   ]
  },
  {
   "cell_type": "code",
   "execution_count": 6,
   "id": "813e692f-d350-4933-b7b0-21b54d1fe1ff",
   "metadata": {},
   "outputs": [],
   "source": [
    "data = req.json()"
   ]
  },
  {
   "cell_type": "code",
   "execution_count": 7,
   "id": "80ba987f-aecb-4516-a450-6e56ce07539a",
   "metadata": {},
   "outputs": [
    {
     "data": {
      "application/json": [
       {
        "value": "10.1103/PhysRevD.98.055016"
       },
       {
        "material": "publication",
        "source": "arXiv",
        "value": "10.1103/PhysRevD.98.055016"
       }
      ],
      "text/plain": [
       "<IPython.core.display.JSON object>"
      ]
     },
     "execution_count": 7,
     "metadata": {
      "application/json": {
       "expanded": false,
       "root": "root"
      }
     },
     "output_type": "execute_result"
    }
   ],
   "source": [
    "JSON(data[\"hits\"][\"hits\"][0][\"metadata\"][\"dois\"])"
   ]
  },
  {
   "cell_type": "code",
   "execution_count": 8,
   "id": "660b3793-8211-4bf0-962c-93a27636e01e",
   "metadata": {},
   "outputs": [
    {
     "name": "stdout",
     "output_type": "stream",
     "text": [
      "https://doi.org/10.1103/physrevd.98.055016\n",
      "https://doi.org/10.1103/physrevd.100.035029\n",
      "https://doi.org/10.1016/j.physletb.2018.01.009\n",
      "https://doi.org/10.1103/physrevd.99.015038\n",
      "https://doi.org/10.1016/j.physletb.2019.01.023\n",
      "https://doi.org/10.1103/physrevd.97.055045\n",
      "https://doi.org/10.1103/physrevd.97.115032\n",
      "https://doi.org/10.1103/physrevd.101.035004\n",
      "https://doi.org/10.1007/jhep04(2020)134\n",
      "https://doi.org/10.1142/s0217732318500244\n"
     ]
    }
   ],
   "source": [
    "sample=[]\n",
    "for i in data[\"hits\"][\"hits\"]:\n",
    "    doi=i[\"metadata\"][\"dois\"][0][\"value\"].lower()\n",
    "    prefix=\"https://doi.org/\"\n",
    "    found = oa_works.find_one({\"doi\":prefix+doi})\n",
    "    if found is not None:\n",
    "        print(prefix+doi)\n",
    "        sample.append(found)\n",
    "    else:\n",
    "        pass\n",
    "        #print(prefix+doi)"
   ]
  },
  {
   "cell_type": "code",
   "execution_count": 9,
   "id": "bdffc99f-2dc8-47db-b928-db55fb441f17",
   "metadata": {},
   "outputs": [
    {
     "data": {
      "text/plain": [
       "10"
      ]
     },
     "execution_count": 9,
     "metadata": {},
     "output_type": "execute_result"
    }
   ],
   "source": [
    "len(sample)"
   ]
  },
  {
   "cell_type": "code",
   "execution_count": 10,
   "id": "a6adafdf-f6ac-4eef-be9d-515c7f10135c",
   "metadata": {},
   "outputs": [
    {
     "data": {
      "text/plain": [
       "InsertManyResult([ObjectId('637cfba0244b9f9d0fe13cd6'), ObjectId('637cfb9d244b9f9d0fe0e8c2'), ObjectId('637cfba2244b9f9d0fe1641d'), ObjectId('637cfb9f244b9f9d0fe113f2'), ObjectId('637cfb9f244b9f9d0fe11528'), ObjectId('637cfba2244b9f9d0fe161bb'), ObjectId('637cfba1244b9f9d0fe151d2'), ObjectId('637cfb9b244b9f9d0fe0ba80'), ObjectId('637cfb9a244b9f9d0fe0b0c4'), ObjectId('637cfba3244b9f9d0fe16be0')], acknowledged=True)"
      ]
     },
     "execution_count": 10,
     "metadata": {},
     "output_type": "execute_result"
    }
   ],
   "source": [
    "sample_db = MongoClient()[\"openalex_sample\"]\n",
    "\n",
    "sample_db[\"works\"].insert_many(sample)"
   ]
  },
  {
   "cell_type": "code",
   "execution_count": null,
   "id": "c983fc04-015f-42d0-a8cf-1cc55adffd69",
   "metadata": {},
   "outputs": [],
   "source": []
  }
 ],
 "metadata": {
  "kernelspec": {
   "display_name": "Python 3 (ipykernel)",
   "language": "python",
   "name": "python3"
  },
  "language_info": {
   "codemirror_mode": {
    "name": "ipython",
    "version": 3
   },
   "file_extension": ".py",
   "mimetype": "text/x-python",
   "name": "python",
   "nbconvert_exporter": "python",
   "pygments_lexer": "ipython3",
   "version": "3.11.6"
  }
 },
 "nbformat": 4,
 "nbformat_minor": 5
}
