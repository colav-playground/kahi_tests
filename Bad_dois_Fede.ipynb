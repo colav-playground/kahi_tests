{
 "cells": [
  {
   "cell_type": "code",
   "execution_count": 1,
   "id": "2fd6f2c6-b280-42d3-944c-62d95f1a6d12",
   "metadata": {
    "tags": []
   },
   "outputs": [],
   "source": [
    "from bson.objectid import ObjectId\n",
    "from pymongo import MongoClient\n",
    "import json\n",
    "from datetime import datetime as dt, timezone\n",
    "from re import match\n",
    "from IPython.display import JSON\n",
    "import re"
   ]
  },
  {
   "cell_type": "markdown",
   "id": "d7db864c-5bfa-44f5-9644-533352ed6163",
   "metadata": {},
   "source": [
    "# Bad DOIS"
   ]
  },
  {
   "cell_type": "code",
   "execution_count": 2,
   "id": "a880d06b-6264-4614-b988-d1441b0fb934",
   "metadata": {
    "tags": []
   },
   "outputs": [],
   "source": [
    "db_uri=\"mongodb://localhost:27017/\"\n",
    "\n",
    "dbclient = MongoClient(db_uri)\n",
    "\n",
    "kahi_baddois_db = dbclient['kahi_baddois']\n",
    "kahi_baddois = kahi_baddois_db['works']"
   ]
  },
  {
   "cell_type": "code",
   "execution_count": 3,
   "id": "de38d2bc-9ec6-4510-9388-a61d71f26f1c",
   "metadata": {
    "tags": []
   },
   "outputs": [
    {
     "data": {
      "text/plain": [
       "1313"
      ]
     },
     "execution_count": 3,
     "metadata": {},
     "output_type": "execute_result"
    }
   ],
   "source": [
    "kahi_baddois.count_documents({})"
   ]
  },
  {
   "cell_type": "code",
   "execution_count": 4,
   "id": "9f8969c7-6127-4852-a94c-93fa95ff0b13",
   "metadata": {
    "tags": []
   },
   "outputs": [],
   "source": [
    "#v2\n",
    "def dois_processor(doi):\n",
    "    \"\"\"\n",
    "    Process a DOI (Digital Object Identifier) and return a cleaned version.\n",
    "    Args:\n",
    "        doi (str): The DOI to be processed.\n",
    "    Returns:\n",
    "        str or bool: If a valid DOI is found, return the cleaned DOI; otherwise, return False.\n",
    "    \"\"\"\n",
    "    \n",
    "    doi_regex = r\"\\b10\\.\\d{4,}/[^\\s]+\"\n",
    "    match = re.search(doi_regex, doi)\n",
    "    if match:\n",
    "        return match.group().strip().strip('.')\n",
    "    doi_candidate = doi.replace(\" \", \"\")\n",
    "    match = re.search(doi_regex, doi_candidate)\n",
    "    if match:\n",
    "        return match.group().strip().strip('.')\n",
    "    if ('http' in doi_candidate or 'www' in doi_candidate) and \"10.\" in doi_candidate:\n",
    "        doi_candidate = doi_candidate.split(\"/10\")[-1].replace(\"%2f\",\"/\")\n",
    "        doi_candidate = \"10\" + doi_candidate\n",
    "        match = re.search(doi_regex, doi_candidate)\n",
    "        if match:\n",
    "            return match.group().strip('.')\n",
    "    doi_candidate = doi.split(\"/\")\n",
    "    if doi_candidate[0].endswith('.'):\n",
    "        doi_candidate[0] = doi_candidate[0].strip('.')\n",
    "    if not \".\" in doi_candidate[0]:\n",
    "        doi_candidate[0] = doi_candidate[0].replace(\"10\", \"10.\")\n",
    "    doi_candidate = '/'.join(doi_candidate)\n",
    "    match = re.search(doi_regex, doi_candidate)\n",
    "    if match:\n",
    "        return match.group().strip().strip('.')\n",
    "            \n",
    "    return False"
   ]
  },
  {
   "cell_type": "code",
   "execution_count": 5,
   "id": "e31a35e4-5a1b-4837-9c99-bdbdedac73da",
   "metadata": {
    "tags": []
   },
   "outputs": [],
   "source": [
    "correct_dois = []\n",
    "bad_dois = []\n",
    "for doc in kahi_baddois.find():\n",
    "    # a = [doc['updated'][x]['source'] for x in doc['updated']]\n",
    "    source = [x['source'] for x in doc['updated']]\n",
    "    # print(source[0])\n",
    "    for y in doc['external_ids']:\n",
    "        if 'doi' in y['source']:\n",
    "            doi = dois_processor(y['id'])\n",
    "            if doi: \n",
    "                correct_dois.append(doi)\n",
    "            else:\n",
    "                bad_dois.append(y['id'])\n",
    "                # print(y['id'])\n",
    "    # print('---------------')"
   ]
  },
  {
   "cell_type": "code",
   "execution_count": 6,
   "id": "70ae59e0-25ae-44af-ba0b-b47ad1386e5f",
   "metadata": {
    "tags": []
   },
   "outputs": [
    {
     "data": {
      "text/plain": [
       "(1244, 69)"
      ]
     },
     "execution_count": 6,
     "metadata": {},
     "output_type": "execute_result"
    }
   ],
   "source": [
    "len(correct_dois), len(bad_dois)"
   ]
  },
  {
   "cell_type": "code",
   "execution_count": null,
   "id": "39af574b-80d1-4846-bf59-ba0822b0a7dd",
   "metadata": {
    "tags": []
   },
   "outputs": [],
   "source": [
    "for doi in correct_dois:\n",
    "    print(doi)"
   ]
  },
  {
   "cell_type": "code",
   "execution_count": 7,
   "id": "29f01384-557d-422b-b6fa-cf0378fded6c",
   "metadata": {
    "tags": []
   },
   "outputs": [
    {
     "name": "stdout",
     "output_type": "stream",
     "text": [
      "19360213[uid] \n",
      " http://www.redalyc.org/pdf/430/43029812008.pdf\n",
      "no registra\n",
      "no registra\n",
      "no tiene\n",
      "s1982-56762014000400002 \n",
      " 2530254\n",
      " http://www.emetropolis.net/download/edicoes/emetropolis_n08.pdf\n",
      "issn 1841-0413\n",
      "issn 0120-2812 | e-issn 2323-0118\n",
      " http://www.redalyc.org/pdf/849/84903321.pdf\n",
      "http://revistas.unal.edu.co/index.php/cal/article/... - see more at: http://www.bdigital.unal.edu.co/37417/#sthash.gl3znaee.dpuf\n",
      "no reporta\n",
      "id: 5183/2361\n",
      "colombian slider, jicotea, hicotea, galapago, morrocoy de agua.\n",
      "0103 - 5053 $6.00+0.00\n",
      "pmid: 27419894\n",
      "id: ijep 10407\n",
      "http://www.redalyc.org/articulo.oa?id=84903364 \n",
      "1071-412x (print)\n",
      "(01239392) infectio\n",
      "apolipoproteina a1para evaluar el estado nutricional en niños con y sin malaria\n",
      "pmid: 18320123\n",
      "pmid: 20128352\n",
      "issn electrónico: 1666-7948\n",
      "issn (versión impresa): 0123-3475\n",
      "versión on-line issn 1028-4796\n",
      "issn 0370-5943. \n",
      "issn 0034-7515.\n",
      "pmid: 19820825\n",
      "0718-0551 \n",
      "diamond and related materials\n",
      "urn: urn: nbn: de: 0114- fqs090256\n",
      "doi: 10.15446\n",
      "no aplica\n",
      "no aplica\n",
      "issn: 0123-9678\n",
      "www.campus-oei.org-equidad/archivo3.htm    http://elhornerosocialista.org.ar/?debut_articles_recents=42\n",
      "e-issn 2256-5337\n",
      "e-issn 2256-5337\n",
      "sici: 0123-1472(201307)14:36<1121:epccec>2.0.tx;2-y\n",
      "pmid: 20436992\n",
      "0.1016/j.bpc.2009.12.010 \n",
      "   http://dialnet.unirioja.es/servlet/\n",
      "issn: 0120-4874\n",
      "1657 - 6357\n",
      " 1692-2484\n",
      "(01247972)  holística jurídica\n",
      "(16920945)  poiésis: revista electrónica de psicología social\n",
      "(01217887)  revista universidad de san buenaventura\n",
      "no aplica \n",
      "elsevier advanced technology\n",
      "issn: 0121-0807\n",
      "1405-1699 2014\n",
      "issn: 0002-5151\n",
      "no tiente\n",
      "issn: 0034-7450\n",
      " 10.1109\n",
      "n a\n",
      "2215-7727 \n",
      "issn 1414-6347\n",
      "issn - 0124 - 7107\n",
      "issn: 0121-8417\n",
      "issn. 2248--7824\n",
      "doi: 10.1016\n",
      "0716-050x issn electrónico: 0718-0705\n",
      "issn 0120-8411\n",
      "hydrological processes\n",
      "no se encuentra para este volumen\n"
     ]
    }
   ],
   "source": [
    "for doi in bad_dois:\n",
    "    print(doi)"
   ]
  },
  {
   "cell_type": "code",
   "execution_count": null,
   "id": "ecec38cf-0158-44b4-b73a-e1ce572b4c14",
   "metadata": {},
   "outputs": [],
   "source": []
  }
 ],
 "metadata": {
  "kernelspec": {
   "display_name": "Python 3 (ipykernel)",
   "language": "python",
   "name": "python3"
  },
  "language_info": {
   "codemirror_mode": {
    "name": "ipython",
    "version": 3
   },
   "file_extension": ".py",
   "mimetype": "text/x-python",
   "name": "python",
   "nbconvert_exporter": "python",
   "pygments_lexer": "ipython3",
   "version": "3.10.12"
  }
 },
 "nbformat": 4,
 "nbformat_minor": 5
}
