{
 "cells": [
  {
   "cell_type": "code",
   "execution_count": 7,
   "id": "06e2f631-d25a-4762-893f-2525812bd6a0",
   "metadata": {
    "tags": []
   },
   "outputs": [],
   "source": [
    "from bson.objectid import ObjectId\n",
    "from pymongo import MongoClient\n",
    "import json\n",
    "from datetime import datetime as dt, timezone\n",
    "from re import match\n",
    "from IPython.display import JSON"
   ]
  },
  {
   "cell_type": "code",
   "execution_count": 29,
   "id": "bb60d3c4-4c0b-4d35-a4cd-f43db8058829",
   "metadata": {
    "tags": []
   },
   "outputs": [],
   "source": [
    "db_uri=\"mongodb://localhost:27017/\"\n",
    "\n",
    "dbclient = MongoClient(db_uri)\n",
    "\n",
    "kahi_test_db = dbclient['kahi_test']\n",
    "works = kahi_test_db['works']\n",
    "works_list = list(works.find())\n",
    "json_works = json.dumps(works_list, default=str)"
   ]
  },
  {
   "cell_type": "code",
   "execution_count": 30,
   "id": "15e9bed1-f7ea-4e5a-b3a2-dfba933a5103",
   "metadata": {
    "tags": []
   },
   "outputs": [
    {
     "data": {
      "application/json": [
       {
        "_id": "65b18294fc7c35e5a0fe7445",
        "abstract": "",
        "author_count": 4,
        "authors": [
         {
          "affiliations": [
           {
            "id": "65a6965c5f73b42e4ff9ea4d",
            "name": "Universidad Antonio Nariño",
            "types": [
             {
              "source": "ror",
              "type": "Education"
             },
             {
              "source": "openalex",
              "type": "education"
             }
            ]
           }
          ],
          "full_name": "Nicolás Bernal",
          "id": "65a69e145f73b42e4ffcd85f"
         },
         {
          "affiliations": [
           {
            "id": "65a696255f73b42e4ff92e98",
            "name": "University of Antioquia",
            "types": [
             {
              "source": "ror",
              "type": "Education"
             },
             {
              "source": "openalex",
              "type": "education"
             }
            ]
           },
           {
            "id": "65a696f85f73b42e4ffbe656",
            "name": "International Centre for Theoretical Physics",
            "types": [
             {
              "source": "ror",
              "type": "Facility"
             },
             {
              "source": "openalex",
              "type": "facility"
             }
            ]
           }
          ],
          "full_name": "Diego Restrepo",
          "id": "65a69ef45f73b42e4fff5acb"
         },
         {
          "affiliations": [
           {
            "id": "65a697055f73b42e4ffc12f4",
            "name": "Pedagogical and Technological University of Colombia",
            "types": [
             {
              "source": "ror",
              "type": "Education"
             },
             {
              "source": "openalex",
              "type": "education"
             }
            ]
           }
          ],
          "full_name": "Carlos E. Yaguna",
          "id": "65a6a0635f73b42e4f02ff0a"
         },
         {
          "affiliations": [
           {
            "id": "65a696255f73b42e4ff92e98",
            "name": "University of Antioquia",
            "types": [
             {
              "source": "ror",
              "type": "Education"
             },
             {
              "source": "openalex",
              "type": "education"
             }
            ]
           }
          ],
          "full_name": "Óscar Zapata",
          "id": "65a69e325f73b42e4ffd2f17"
         }
        ],
        "bibliographic_info": {
         "is_open_access": true,
         "issue": "1",
         "open_access_status": "hybrid",
         "start_page": "015038",
         "volume": "99"
        },
        "citations": [],
        "citations_by_year": [
         {
          "cited_by_count": 6,
          "year": 2022
         },
         {
          "cited_by_count": 10,
          "year": 2021
         },
         {
          "cited_by_count": 5,
          "year": 2020
         },
         {
          "cited_by_count": 6,
          "year": 2019
         }
        ],
        "citations_count": [
         {
          "count": 27,
          "source": "openalex"
         },
         {
          "count": 6,
          "source": "wos"
         },
         {
          "count": 34,
          "source": "scholar"
         }
        ],
        "date_published": 1548824400,
        "external_ids": [
         {
          "id": "https://openalex.org/W2886932741",
          "source": "openalex"
         },
         {
          "id": "10.1103/physrevd.99.015038",
          "source": "doi"
         },
         {
          "id": "2886932741",
          "source": "mag"
         },
         {
          "id": "000457136800007",
          "source": "wos"
         },
         {
          "id": "LgYqjQIeCnYJ",
          "source": "scholar"
         }
        ],
        "external_urls": [
         {
          "source": "oa",
          "url": "http://link.aps.org/pdf/10.1103/PhysRevD.99.015038"
         },
         {
          "source": "scholar citations",
          "url": "/scholar?cites=8505643842549712430&as_sdt=2005&sciodt=0,5&hl=en"
         },
         {
          "source": "pdf",
          "url": "https://link.aps.org/pdf/10.1103/PhysRevD.99.015038"
         }
        ],
        "keywords": [],
        "ranking": [],
        "references": [],
        "references_count": null,
        "source": {
         "id": "65a68e165f73b42e4ff04649",
         "name": "Physical review"
        },
        "subjects": [
         {
          "source": "openalex",
          "subjects": [
           {
            "id": "65a693e55f73b42e4ff71d36",
            "level": 0,
            "name": "Physics"
           },
           {
            "id": "65a6941c5f73b42e4ff7f274",
            "level": 2,
            "name": "Massless particle"
           },
           {
            "id": "65a693eb5f73b42e4ff7448f",
            "level": 2,
            "name": "Neutrino"
           },
           {
            "id": "65a693e45f73b42e4ff715cb",
            "level": 1,
            "name": "Particle physics"
           },
           {
            "id": "65a693e85f73b42e4ff73416",
            "level": 2,
            "name": "Dark matter"
           },
           {
            "id": "65a693e95f73b42e4ff7399d",
            "level": 2,
            "name": "Component (thermodynamics)"
           },
           {
            "id": "65a693e45f73b42e4ff718ba",
            "level": 5,
            "name": "Warm dark matter"
           },
           {
            "id": "65a693eb5f73b42e4ff743fb",
            "level": 1,
            "name": "Nuclear physics"
           }
          ]
         }
        ],
        "subtitle": "",
        "titles": [
         {
          "lang": null,
          "source": "openalex",
          "title": "www.w3.org/1998/Math/MathML\" display=\"inline\"><mml:mi>B</mml:mi><mml:mo>−</mml:mo><mml:mi>L</mml:mi></mml:math> model"
         },
         {
          "lang": "en",
          "source": "wos",
          "title": "Two-component dark matter and a massless neutrino in a new B - L model"
         },
         {
          "lang": "en",
          "source": "scholar",
          "title": "Two-component dark matter and a massless neutrino in a new B- L model"
         }
        ],
        "types": [
         {
          "source": "openalex",
          "type": "journal-article"
         },
         {
          "source": "wos",
          "type": "article"
         },
         {
          "source": "scholar",
          "type": "article"
         }
        ],
        "updated": [
         {
          "source": "openalex",
          "time": 1706132098
         },
         {
          "source": "wos",
          "time": 1706132137
         },
         {
          "source": "scholar",
          "time": 1706132140
         }
        ],
        "year_published": 2019
       },
       {
        "_id": "65b18294fc7c35e5a0fe7446",
        "abstract": "",
        "author_count": 4,
        "authors": [
         {
          "affiliations": [
           {
            "id": "65a696205f73b42e4ff91cb5",
            "name": "Texas A&M University",
            "types": [
             {
              "source": "ror",
              "type": "Education"
             },
             {
              "source": "openalex",
              "type": "education"
             }
            ]
           }
          ],
          "full_name": "Bhaskar Dutta",
          "id": "65a69f405f73b42e4f0022dd"
         },
         {
          "affiliations": [
           {
            "id": "65a696255f73b42e4ff92e98",
            "name": "University of Antioquia",
            "types": [
             {
              "source": "ror",
              "type": "Education"
             },
             {
              "source": "openalex",
              "type": "education"
             }
            ]
           }
          ],
          "full_name": "Guillermo Palacio",
          "id": "65a6a0005f73b42e4f01fce5"
         },
         {
          "affiliations": [
           {
            "id": "65a696255f73b42e4ff92e98",
            "name": "University of Antioquia",
            "types": [
             {
              "source": "ror",
              "type": "Education"
             },
             {
              "source": "openalex",
              "type": "education"
             }
            ]
           }
          ],
          "full_name": "Diego Restrepo",
          "id": "65a69ef45f73b42e4fff5acb"
         },
         {
          "affiliations": [
           {
            "id": "65a696fa5f73b42e4ffbeee6",
            "name": "Universidad de Los Andes",
            "types": [
             {
              "source": "ror",
              "type": "Education"
             },
             {
              "source": "openalex",
              "type": "education"
             }
            ]
           }
          ],
          "full_name": "José D. Ruiz-Álvarez",
          "id": "65a6a1e15f73b42e4f06e0cb"
         }
        ],
        "bibliographic_info": {
         "is_open_access": true,
         "issue": "5",
         "open_access_status": "hybrid",
         "start_page": "055045",
         "volume": "97"
        },
        "citations": [],
        "citations_by_year": [
         {
          "cited_by_count": 10,
          "year": 2021
         },
         {
          "cited_by_count": 8,
          "year": 2020
         },
         {
          "cited_by_count": 3,
          "year": 2019
         },
         {
          "cited_by_count": 4,
          "year": 2018
         },
         {
          "cited_by_count": 1,
          "year": 2017
         }
        ],
        "citations_count": [
         {
          "count": 25,
          "source": "openalex"
         },
         {
          "count": 5,
          "source": "wos"
         },
         {
          "count": 24,
          "source": "scholar"
         }
        ],
        "date_published": 1522299600,
        "external_ids": [
         {
          "id": "https://openalex.org/W2758844066",
          "source": "openalex"
         },
         {
          "id": "10.1103/physrevd.97.055045",
          "source": "doi"
         },
         {
          "id": "2758844066",
          "source": "mag"
         },
         {
          "id": "0000177733",
          "source": "COD_RH"
         },
         {
          "id": "132",
          "source": "COD_PRODUCTO"
         },
         {
          "id": "000428650300005",
          "source": "wos"
         },
         {
          "id": "wLolZnsKpgsJ",
          "source": "scholar"
         }
        ],
        "external_urls": [
         {
          "source": "oa",
          "url": "http://link.aps.org/pdf/10.1103/PhysRevD.97.055045"
         },
         {
          "source": "scienti",
          "url": "http://doi.org/10.1103/PhysRevD.97.055045"
         },
         {
          "source": "scholar citations",
          "url": "/scholar?cites=839369905662180032&as_sdt=2005&sciodt=0,5&hl=en"
         },
         {
          "source": "pdf",
          "url": "https://link.aps.org/pdf/10.1103/PhysRevD.97.055045"
         }
        ],
        "keywords": [],
        "ranking": [],
        "references": [],
        "references_count": null,
        "source": {
         "id": "65a6938c5f73b42e4ff66843",
         "name": "Physical Review D"
        },
        "subjects": [
         {
          "source": "openalex",
          "subjects": [
           {
            "id": "65a694235f73b42e4ff801bd",
            "level": 2,
            "name": "Boson"
           },
           {
            "id": "65a693ec5f73b42e4ff74e2d",
            "level": 2,
            "name": "Annihilation"
           },
           {
            "id": "65a693eb5f73b42e4ff743fb",
            "level": 1,
            "name": "Nuclear physics"
           }
          ]
         }
        ],
        "subtitle": "",
        "titles": [
         {
          "lang": "en",
          "source": "openalex",
          "title": "Vector boson fusion in the inert doublet model"
         },
         {
          "lang": "en",
          "source": "ranking_udea",
          "title": "VECTOR BOSON FUSION IN THE INERT DOUBLET MODEL."
         },
         {
          "lang": "en",
          "source": "wos",
          "title": "Vector boson fusion in the inert doublet model"
         },
         {
          "lang": "en",
          "source": "scholar",
          "title": "Vector boson fusion in the inert doublet model"
         }
        ],
        "types": [
         {
          "source": "openalex",
          "type": "journal-article"
         },
         {
          "source": "scienti",
          "type": "Publicado en revista especializada"
         },
         {
          "source": "scienti",
          "type": "Artículo"
         },
         {
          "source": "wos",
          "type": "article"
         },
         {
          "source": "scholar",
          "type": "article"
         }
        ],
        "updated": [
         {
          "source": "openalex",
          "time": 1706132098
         },
         {
          "source": "scienti",
          "time": 1706132126
         },
         {
          "source": "ranking_udea",
          "time": 1706132131
         },
         {
          "source": "wos",
          "time": 1706132136
         },
         {
          "source": "scholar",
          "time": 1706132139
         }
        ],
        "year_published": 2018
       },
       {
        "_id": "65b18294fc7c35e5a0fe7447",
        "abstract": "",
        "author_count": 5,
        "authors": [
         {
          "affiliations": [
           {
            "id": "65a696fa5f73b42e4ffbeee6",
            "name": "Universidad de Los Andes",
            "types": [
             {
              "source": "ror",
              "type": "Education"
             },
             {
              "source": "openalex",
              "type": "education"
             }
            ]
           }
          ],
          "full_name": "Carlos Florez",
          "id": "65a69f035f73b42e4fff823d"
         },
         {
          "affiliations": [
           {
            "id": "65a6961d5f73b42e4ff91655",
            "name": "Vanderbilt University",
            "types": [
             {
              "source": "ror",
              "type": "Education"
             },
             {
              "source": "openalex",
              "type": "education"
             }
            ]
           }
          ],
          "full_name": "Kaiwen Gui",
          "id": "65a6a1ea5f73b42e4f06fb71"
         },
         {
          "affiliations": [
           {
            "id": "65a6961d5f73b42e4ff91655",
            "name": "Vanderbilt University",
            "types": [
             {
              "source": "ror",
              "type": "Education"
             },
             {
              "source": "openalex",
              "type": "education"
             }
            ]
           }
          ],
          "full_name": "Alfredo Gurrola",
          "id": "65a69f0a5f73b42e4fff9205"
         },
         {
          "affiliations": [
           {
            "id": "65a696fa5f73b42e4ffbeee6",
            "name": "Universidad de Los Andes",
            "types": [
             {
              "source": "ror",
              "type": "Education"
             },
             {
              "source": "openalex",
              "type": "education"
             }
            ]
           }
          ],
          "full_name": "Carlos Patiño",
          "id": "65a6a1ea5f73b42e4f06fb7f"
         },
         {
          "affiliations": [
           {
            "id": "65a696255f73b42e4ff92e98",
            "name": "University of Antioquia",
            "types": [
             {
              "source": "ror",
              "type": "Education"
             },
             {
              "source": "openalex",
              "type": "education"
             }
            ]
           }
          ],
          "full_name": "Diego Restrepo",
          "id": "65a69ef45f73b42e4fff5acb"
         }
        ],
        "bibliographic_info": {
         "end_page": "100",
         "is_open_access": true,
         "open_access_status": "gold",
         "start_page": "94",
         "volume": "778"
        },
        "citations": [],
        "citations_by_year": [
         {
          "cited_by_count": 1,
          "year": 2022
         },
         {
          "cited_by_count": 3,
          "year": 2021
         },
         {
          "cited_by_count": 4,
          "year": 2020
         },
         {
          "cited_by_count": 4,
          "year": 2019
         },
         {
          "cited_by_count": 2,
          "year": 2018
         }
        ],
        "citations_count": [
         {
          "count": 14,
          "source": "openalex"
         },
         {
          "count": 7,
          "source": "wos"
         },
         {
          "count": 23,
          "source": "scholar"
         }
        ],
        "date_published": 1520658000,
        "external_ids": [
         {
          "id": "https://openalex.org/W2742667923",
          "source": "openalex"
         },
         {
          "id": "10.1016/j.physletb.2018.01.009",
          "source": "doi"
         },
         {
          "id": "2742667923",
          "source": "mag"
         },
         {
          "id": "0000177733",
          "source": "COD_RH"
         },
         {
          "id": "133",
          "source": "COD_PRODUCTO"
         },
         {
          "id": "000426436700015",
          "source": "wos"
         },
         {
          "id": "HueyvYdrP1UJ",
          "source": "scholar"
         }
        ],
        "external_urls": [
         {
          "source": "oa",
          "url": "https://doi.org/10.1016/j.physletb.2018.01.009"
         },
         {
          "source": "scienti",
          "url": "http://doi.org/10.1016/j.physletb.2018.01.009"
         },
         {
          "source": "scholar citations",
          "url": "/scholar?cites=6142746647504021278&as_sdt=2005&sciodt=0,5&hl=en"
         },
         {
          "source": "pdf",
          "url": "https://www.sciencedirect.com/science/article/pii/S0370269318300169"
         }
        ],
        "keywords": [],
        "ranking": [],
        "references": [],
        "references_count": null,
        "source": {
         "id": "65a68e135f73b42e4ff03fa1",
         "name": "Physics Letters B"
        },
        "subjects": [
         {
          "source": "openalex",
          "subjects": [
           {
            "id": "65a693e55f73b42e4ff71d36",
            "level": 0,
            "name": "Physics"
           },
           {
            "id": "65a693e45f73b42e4ff715cb",
            "level": 1,
            "name": "Particle physics"
           },
           {
            "id": "65a693eb5f73b42e4ff7448f",
            "level": 2,
            "name": "Neutrino"
           },
           {
            "id": "65a693f75f73b42e4ff78b21",
            "level": 3,
            "name": "MAJORANA"
           },
           {
            "id": "65a693ea5f73b42e4ff74068",
            "level": 3,
            "name": "Lepton"
           },
           {
            "id": "65a693eb5f73b42e4ff7439b",
            "level": 2,
            "name": "Physics beyond the Standard Model"
           },
           {
            "id": "65a694265f73b42e4ff806d3",
            "level": 2,
            "name": "Large Hadron Collider"
           },
           {
            "id": "65a693eb5f73b42e4ff743fb",
            "level": 1,
            "name": "Nuclear physics"
           },
           {
            "id": "65a693fa5f73b42e4ff795c2",
            "level": 2,
            "name": "Context (archaeology)"
           },
           {
            "id": "65a693e35f73b42e4ff71102",
            "level": 3,
            "name": "Standard Model (mathematical formulation)"
           },
           {
            "id": "65a693ff5f73b42e4ff7aa8e",
            "level": 3,
            "name": "Compact Muon Solenoid"
           },
           {
            "id": "65a693e35f73b42e4ff7120a",
            "level": 4,
            "name": "Sterile neutrino"
           },
           {
            "id": "65a693ed5f73b42e4ff75049",
            "level": 2,
            "name": "Muon"
           }
          ]
         }
        ],
        "subtitle": "",
        "titles": [
         {
          "lang": "en",
          "source": "openalex",
          "title": "Expanding the Reach of Heavy Neutrino Searches at the LHC"
         },
         {
          "lang": "en",
          "source": "wos",
          "title": "Expanding the reach of heavy neutrino searches at the LHC"
         },
         {
          "lang": "en",
          "source": "scholar",
          "title": "Expanding the reach of heavy neutrino searches at the LHC"
         }
        ],
        "types": [
         {
          "source": "openalex",
          "type": "journal-article"
         },
         {
          "source": "scienti",
          "type": "Publicado en revista especializada"
         },
         {
          "source": "scienti",
          "type": "Artículo"
         },
         {
          "source": "wos",
          "type": "article"
         },
         {
          "source": "scholar",
          "type": "article"
         }
        ],
        "updated": [
         {
          "source": "openalex",
          "time": 1706132098
         },
         {
          "source": "scienti",
          "time": 1706132126
         },
         {
          "source": "wos",
          "time": 1706132136
         },
         {
          "source": "scholar",
          "time": 1706132140
         }
        ],
        "year_published": 2018
       },
       {
        "_id": "65b18294fc7c35e5a0fe7448",
        "abstract": "",
        "author_count": 3,
        "authors": [
         {
          "affiliations": [
           {
            "id": "65a696255f73b42e4ff92e98",
            "name": "University of Antioquia",
            "types": [
             {
              "source": "ror",
              "type": "Education"
             },
             {
              "source": "openalex",
              "type": "education"
             }
            ]
           }
          ],
          "full_name": "Diego Restrepo",
          "id": "65a69ef45f73b42e4fff5acb"
         },
         {
          "affiliations": [
           {
            "id": "65a696255f73b42e4ff92e98",
            "name": "University of Antioquia",
            "types": [
             {
              "source": "ror",
              "type": "Education"
             },
             {
              "source": "openalex",
              "type": "education"
             }
            ]
           }
          ],
          "full_name": "Andrés Rivera",
          "id": "65a69e115f73b42e4ffccea5"
         },
         {
          "affiliations": [
           {
            "id": "65a6961d5f73b42e4ff91684",
            "name": "Loyola University Chicago",
            "types": [
             {
              "source": "ror",
              "type": "Education"
             },
             {
              "source": "openalex",
              "type": "education"
             }
            ]
           }
          ],
          "full_name": "Walter Tangarife",
          "id": "65a6a11e5f73b42e4f04e999"
         }
        ],
        "bibliographic_info": {
         "is_open_access": true,
         "issue": "3",
         "open_access_status": "hybrid",
         "start_page": "035029",
         "volume": "100"
        },
        "citations": [],
        "citations_by_year": [
         {
          "cited_by_count": 5,
          "year": 2021
         },
         {
          "cited_by_count": 9,
          "year": 2020
         },
         {
          "cited_by_count": 3,
          "year": 2019
         }
        ],
        "citations_count": [
         {
          "count": 17,
          "source": "openalex"
         },
         {
          "count": 1,
          "source": "wos"
         },
         {
          "count": 17,
          "source": "scholar"
         }
        ],
        "date_published": 1566795600,
        "external_ids": [
         {
          "id": "https://openalex.org/W2951068726",
          "source": "openalex"
         },
         {
          "id": "10.1103/physrevd.100.035029",
          "source": "doi"
         },
         {
          "id": "2951068726",
          "source": "mag"
         },
         {
          "id": "0000177733",
          "source": "COD_RH"
         },
         {
          "id": "139",
          "source": "COD_PRODUCTO"
         },
         {
          "id": "000482583400008",
          "source": "wos"
         },
         {
          "id": "R7BJTFZ0Bd8J",
          "source": "scholar"
         }
        ],
        "external_urls": [
         {
          "source": "oa",
          "url": "http://link.aps.org/pdf/10.1103/PhysRevD.100.035029"
         },
         {
          "source": "scienti",
          "url": "https://doi.org/10.1103/PhysRevD.100.035029"
         },
         {
          "source": "scholar citations",
          "url": "/scholar?cites=16070378759337390151&as_sdt=2005&sciodt=0,5&hl=en"
         },
         {
          "source": "pdf",
          "url": "https://link.aps.org/pdf/10.1103/PhysRevD.100.035029"
         }
        ],
        "keywords": [],
        "ranking": [],
        "references": [],
        "references_count": null,
        "source": {
         "id": "65a6938c5f73b42e4ff66843",
         "name": "Physical Review D"
        },
        "subjects": [
         {
          "source": "openalex",
          "subjects": [
           {
            "id": "65a693e55f73b42e4ff71d36",
            "level": 0,
            "name": "Physics"
           },
           {
            "id": "65a693e45f73b42e4ff715cb",
            "level": 1,
            "name": "Particle physics"
           },
           {
            "id": "65a693eb5f73b42e4ff7448f",
            "level": 2,
            "name": "Neutrino"
           },
           {
            "id": "65a693e85f73b42e4ff73416",
            "level": 2,
            "name": "Dark matter"
           },
           {
            "id": "65a6941e5f73b42e4ff7f6b3",
            "level": 3,
            "name": "Dirac (video compression format)"
           },
           {
            "id": "65a693ea5f73b42e4ff74068",
            "level": 3,
            "name": "Lepton"
           },
           {
            "id": "65a693e45f73b42e4ff714fd",
            "level": 3,
            "name": "Neutrino oscillation"
           },
           {
            "id": "65a6941b5f73b42e4ff7ef4d",
            "level": 2,
            "name": "Fermion"
           }
          ]
         }
        ],
        "subtitle": "",
        "titles": [
         {
          "lang": "en",
          "source": "openalex",
          "title": "Singlet-doublet Dirac dark matter and neutrino masses"
         },
         {
          "lang": "en",
          "source": "wos",
          "title": "Singlet-doublet Dirac dark matter and neutrino masses"
         },
         {
          "lang": "en",
          "source": "scholar",
          "title": "Singlet-doublet Dirac dark matter and neutrino masses"
         }
        ],
        "types": [
         {
          "source": "openalex",
          "type": "journal-article"
         },
         {
          "source": "scienti",
          "type": "Publicado en revista especializada"
         },
         {
          "source": "scienti",
          "type": "Artículo"
         },
         {
          "source": "wos",
          "type": "article"
         },
         {
          "source": "scholar",
          "type": "article"
         }
        ],
        "updated": [
         {
          "source": "openalex",
          "time": 1706132098
         },
         {
          "source": "scienti",
          "time": 1706132126
         },
         {
          "source": "wos",
          "time": 1706132135
         },
         {
          "source": "scholar",
          "time": 1706132140
         }
        ],
        "year_published": 2019
       },
       {
        "_id": "65b18294fc7c35e5a0fe7449",
        "abstract": "",
        "author_count": 4,
        "authors": [
         {
          "affiliations": [
           {
            "id": "65a6961b5f73b42e4ff90d90",
            "name": "University of Valencia",
            "types": [
             {
              "source": "ror",
              "type": "Education"
             },
             {
              "source": "openalex",
              "type": "education"
             }
            ]
           }
          ],
          "full_name": "Mario Reig",
          "id": "65a6a16b5f73b42e4f05b730"
         },
         {
          "affiliations": [
           {
            "id": "65a696f85f73b42e4ffbe656",
            "name": "International Centre for Theoretical Physics",
            "types": [
             {
              "source": "ror",
              "type": "Facility"
             },
             {
              "source": "openalex",
              "type": "facility"
             }
            ]
           },
           {
            "id": "65a696255f73b42e4ff92e98",
            "name": "University of Antioquia",
            "types": [
             {
              "source": "ror",
              "type": "Education"
             },
             {
              "source": "openalex",
              "type": "education"
             }
            ]
           }
          ],
          "full_name": "Diego Restrepo",
          "id": "65a69ef45f73b42e4fff5acb"
         },
         {
          "affiliations": [
           {
            "id": "65a6961b5f73b42e4ff90d90",
            "name": "University of Valencia",
            "types": [
             {
              "source": "ror",
              "type": "Education"
             },
             {
              "source": "openalex",
              "type": "education"
             }
            ]
           }
          ],
          "full_name": "José W. F. Valle",
          "id": "65a69fb25f73b42e4f013d75"
         },
         {
          "affiliations": [
           {
            "id": "65a696255f73b42e4ff92e98",
            "name": "University of Antioquia",
            "types": [
             {
              "source": "ror",
              "type": "Education"
             },
             {
              "source": "openalex",
              "type": "education"
             }
            ]
           }
          ],
          "full_name": "Óscar Zapata",
          "id": "65a69e325f73b42e4ffd2f17"
         }
        ],
        "bibliographic_info": {
         "end_page": "307",
         "is_open_access": true,
         "open_access_status": "gold",
         "start_page": "303",
         "volume": "790"
        },
        "citations": [],
        "citations_by_year": [
         {
          "cited_by_count": 6,
          "year": 2021
         },
         {
          "cited_by_count": 11,
          "year": 2020
         },
         {
          "cited_by_count": 4,
          "year": 2019
         },
         {
          "cited_by_count": 1,
          "year": 2018
         }
        ],
        "citations_count": [
         {
          "count": 22,
          "source": "openalex"
         },
         {
          "count": 3,
          "source": "wos"
         },
         {
          "count": 24,
          "source": "scholar"
         }
        ],
        "date_published": 1548219600,
        "external_ids": [
         {
          "id": "https://openalex.org/W2963957043",
          "source": "openalex"
         },
         {
          "id": "10.1016/j.physletb.2019.01.023",
          "source": "doi"
         },
         {
          "id": "2963957043",
          "source": "mag"
         },
         {
          "id": "0000707619",
          "source": "COD_RH"
         },
         {
          "id": "129",
          "source": "COD_PRODUCTO"
         },
         {
          "id": "000460118200034",
          "source": "wos"
         },
         {
          "id": "DjBfF4Xdq0kJ",
          "source": "scholar"
         }
        ],
        "external_urls": [
         {
          "source": "oa",
          "url": "https://doi.org/10.1016/j.physletb.2019.01.023"
         },
         {
          "source": "scienti",
          "url": "http://doi.org/10.1016/j.physletb.2019.01.023"
         },
         {
          "source": "scholar citations",
          "url": "/scholar?cites=5308580149478764558&as_sdt=2005&sciodt=0,5&hl=en"
         },
         {
          "source": "pdf",
          "url": "https://www.sciencedirect.com/science/article/pii/S0370269319300395"
         }
        ],
        "keywords": [],
        "ranking": [],
        "references": [],
        "references_count": null,
        "source": {
         "id": "65a68e135f73b42e4ff03fa1",
         "name": "Physics Letters B"
        },
        "subjects": [
         {
          "source": "openalex",
          "subjects": [
           {
            "id": "65a693e55f73b42e4ff71d36",
            "level": 0,
            "name": "Physics"
           },
           {
            "id": "65a693f75f73b42e4ff78b21",
            "level": 3,
            "name": "MAJORANA"
           },
           {
            "id": "65a693eb5f73b42e4ff7448f",
            "level": 2,
            "name": "Neutrino"
           },
           {
            "id": "65a693e45f73b42e4ff715cb",
            "level": 1,
            "name": "Particle physics"
           },
           {
            "id": "65a693e35f73b42e4ff7120a",
            "level": 4,
            "name": "Sterile neutrino"
           },
           {
            "id": "65a694185f73b42e4ff7e9d6",
            "level": 5,
            "name": "Majorana equation"
           },
           {
            "id": "65a693e85f73b42e4ff73416",
            "level": 2,
            "name": "Dark matter"
           },
           {
            "id": "65a6941b5f73b42e4ff7ef4d",
            "level": 2,
            "name": "Fermion"
           },
           {
            "id": "65a693e45f73b42e4ff714fd",
            "level": 3,
            "name": "Neutrino oscillation"
           },
           {
            "id": "65a693e95f73b42e4ff73d31",
            "level": 2,
            "name": "Bound state"
           },
           {
            "id": "65a693ea5f73b42e4ff74068",
            "level": 3,
            "name": "Lepton"
           }
          ]
         }
        ],
        "subtitle": "",
        "titles": [
         {
          "lang": "en",
          "source": "openalex",
          "title": "Bound-state dark matter with Majorana neutrinos"
         },
         {
          "lang": "en",
          "source": "ranking_udea",
          "title": "BOUND-STATE DARK MATTER WITH MAJORANA NEUTRINOS."
         },
         {
          "lang": "en",
          "source": "wos",
          "title": "Bound-state dark matter with Majorana neutrinos"
         },
         {
          "lang": "en",
          "source": "scholar",
          "title": "Bound-state dark matter with Majorana neutrinos"
         }
        ],
        "types": [
         {
          "source": "openalex",
          "type": "journal-article"
         },
         {
          "source": "scienti",
          "type": "Publicado en revista especializada"
         },
         {
          "source": "scienti",
          "type": "Artículo"
         },
         {
          "source": "wos",
          "type": "article"
         },
         {
          "source": "scholar",
          "type": "article"
         }
        ],
        "updated": [
         {
          "source": "openalex",
          "time": 1706132098
         },
         {
          "source": "scienti",
          "time": 1706132126
         },
         {
          "source": "ranking_udea",
          "time": 1706132131
         },
         {
          "source": "wos",
          "time": 1706132135
         },
         {
          "source": "scholar",
          "time": 1706132140
         }
        ],
        "year_published": 2019
       },
       {
        "_id": "65b18294fc7c35e5a0fe744a",
        "abstract": "",
        "author_count": 5,
        "authors": [
         {
          "affiliations": [
           {
            "id": "65a696a45f73b42e4ffada2c",
            "name": "Mitchell Institute",
            "types": [
             {
              "source": "ror",
              "type": "Nonprofit"
             },
             {
              "source": "openalex",
              "type": "nonprofit"
             }
            ]
           }
          ],
          "full_name": "Mohammad Abdullah",
          "id": "65a6a1a95f73b42e4f0658d1"
         },
         {
          "affiliations": [
           {
            "id": "65a696255f73b42e4ff92e98",
            "name": "University of Antioquia",
            "types": [
             {
              "source": "ror",
              "type": "Education"
             },
             {
              "source": "openalex",
              "type": "education"
             }
            ]
           }
          ],
          "full_name": "Julián Calle",
          "id": "65a69f715f73b42e4f009ef2"
         },
         {
          "affiliations": [
           {
            "id": "65a696a45f73b42e4ffada2c",
            "name": "Mitchell Institute",
            "types": [
             {
              "source": "ror",
              "type": "Nonprofit"
             },
             {
              "source": "openalex",
              "type": "nonprofit"
             }
            ]
           }
          ],
          "full_name": "Bhaskar Dutta",
          "id": "65a69f405f73b42e4f0022dd"
         },
         {
          "affiliations": [
           {
            "id": "65a696fa5f73b42e4ffbeee6",
            "name": "Universidad de Los Andes",
            "types": [
             {
              "source": "ror",
              "type": "Education"
             },
             {
              "source": "openalex",
              "type": "education"
             }
            ]
           }
          ],
          "full_name": "Carlos Florez",
          "id": "65a69f035f73b42e4fff823d"
         },
         {
          "affiliations": [
           {
            "id": "65a696255f73b42e4ff92e98",
            "name": "University of Antioquia",
            "types": [
             {
              "source": "ror",
              "type": "Education"
             },
             {
              "source": "openalex",
              "type": "education"
             }
            ]
           }
          ],
          "full_name": "Diego Restrepo",
          "id": "65a69ef45f73b42e4fff5acb"
         }
        ],
        "bibliographic_info": {
         "is_open_access": true,
         "issue": "5",
         "open_access_status": "hybrid",
         "start_page": "055016",
         "volume": "98"
        },
        "citations": [],
        "citations_by_year": [
         {
          "cited_by_count": 2,
          "year": 2022
         },
         {
          "cited_by_count": 6,
          "year": 2021
         },
         {
          "cited_by_count": 2,
          "year": 2020
         },
         {
          "cited_by_count": 9,
          "year": 2019
         },
         {
          "cited_by_count": 2,
          "year": 2018
         }
        ],
        "citations_count": [
         {
          "count": 21,
          "source": "openalex"
         },
         {
          "count": 11,
          "source": "wos"
         },
         {
          "count": 47,
          "source": "scholar"
         }
        ],
        "date_published": 1536814800,
        "external_ids": [
         {
          "id": "https://openalex.org/W2801044354",
          "source": "openalex"
         },
         {
          "id": "10.1103/physrevd.98.055016",
          "source": "doi"
         },
         {
          "id": "2801044354",
          "source": "mag"
         },
         {
          "id": "0000177733",
          "source": "COD_RH"
         },
         {
          "id": "130",
          "source": "COD_PRODUCTO"
         },
         {
          "id": "000444599100004",
          "source": "wos"
         },
         {
          "id": "FmFmJElKyH8J",
          "source": "scholar"
         }
        ],
        "external_urls": [
         {
          "source": "oa",
          "url": "http://link.aps.org/pdf/10.1103/PhysRevD.98.055016"
         },
         {
          "source": "scienti",
          "url": "http://doi.org/10.1103/PhysRevD.98.055016"
         },
         {
          "source": "scholar citations",
          "url": "/scholar?cites=9207691116162736406&as_sdt=2005&sciodt=0,5&hl=en"
         },
         {
          "source": "pdf",
          "url": "https://link.aps.org/pdf/10.1103/PhysRevD.98.055016"
         }
        ],
        "keywords": [],
        "ranking": [],
        "references": [],
        "references_count": null,
        "source": {
         "id": "65a6938c5f73b42e4ff66843",
         "name": "Physical Review D"
        },
        "subjects": [
         {
          "source": "openalex",
          "subjects": [
           {
            "id": "65a693e55f73b42e4ff71d36",
            "level": 0,
            "name": "Physics"
           },
           {
            "id": "65a693ea5f73b42e4ff74068",
            "level": 3,
            "name": "Lepton"
           },
           {
            "id": "65a693e45f73b42e4ff715cb",
            "level": 1,
            "name": "Particle physics"
           },
           {
            "id": "65a694225f73b42e4ff7ffc6",
            "level": 2,
            "name": "Quark"
           },
           {
            "id": "65a693f95f73b42e4ff790e8",
            "level": 4,
            "name": "Missing energy"
           },
           {
            "id": "65a694265f73b42e4ff806d3",
            "level": 2,
            "name": "Large Hadron Collider"
           },
           {
            "id": "65a694255f73b42e4ff805df",
            "level": 3,
            "name": "Charm quark"
           },
           {
            "id": "65a694045f73b42e4ff7b948",
            "level": 2,
            "name": "Charm (quantum number)"
           },
           {
            "id": "65a693ed5f73b42e4ff75243",
            "level": 2,
            "name": "Sensitivity (control systems)"
           },
           {
            "id": "65a694165f73b42e4ff7e380",
            "level": 3,
            "name": "B meson"
           },
           {
            "id": "65a693ec5f73b42e4ff74d02",
            "level": 2,
            "name": "Meson"
           },
           {
            "id": "65a693eb5f73b42e4ff743fb",
            "level": 1,
            "name": "Nuclear physics"
           }
          ]
         }
        ],
        "subtitle": "",
        "titles": [
         {
          "lang": "en",
          "source": "openalex",
          "title": "Probing a simplified W ′ model of R ( D ( * ) ) anomalies using b tags, τ leptons, and missing energy"
         },
         {
          "lang": "en",
          "source": "wos",
          "title": "Probing a simplified W ' model of R(D-(*())) anomalies using b tags, tau leptons, and missing energy"
         },
         {
          "lang": "en",
          "source": "scholar",
          "title": "Probing a simplified W′ model of R (D (*)) anomalies using b tags, $τ$ leptons, and missing energy"
         }
        ],
        "types": [
         {
          "source": "openalex",
          "type": "journal-article"
         },
         {
          "source": "scienti",
          "type": "Publicado en revista especializada"
         },
         {
          "source": "scienti",
          "type": "Artículo"
         },
         {
          "source": "wos",
          "type": "article"
         },
         {
          "source": "scholar",
          "type": "article"
         }
        ],
        "updated": [
         {
          "source": "openalex",
          "time": 1706132098
         },
         {
          "source": "scienti",
          "time": 1706132128
         },
         {
          "source": "wos",
          "time": 1706132135
         },
         {
          "source": "scholar",
          "time": 1706132140
         }
        ],
        "year_published": 2018
       },
       {
        "_id": "65b18296fc7c35e5a0fe744b",
        "abstract": "",
        "author_count": 4,
        "authors": [
         {
          "affiliations": [
           {
            "id": "65a6961b5f73b42e4ff90d90",
            "name": "University of Valencia",
            "types": [
             {
              "source": "ror",
              "type": "Education"
             },
             {
              "source": "openalex",
              "type": "education"
             }
            ]
           }
          ],
          "full_name": "Mario Reig",
          "id": "65a6a16b5f73b42e4f05b730"
         },
         {
          "affiliations": [
           {
            "id": "65a696255f73b42e4ff92e98",
            "name": "University of Antioquia",
            "types": [
             {
              "source": "ror",
              "type": "Education"
             },
             {
              "source": "openalex",
              "type": "education"
             }
            ]
           }
          ],
          "full_name": "Diego Restrepo",
          "id": "65a69ef45f73b42e4fff5acb"
         },
         {
          "affiliations": [
           {
            "id": "65a6961b5f73b42e4ff90d90",
            "name": "University of Valencia",
            "types": [
             {
              "source": "ror",
              "type": "Education"
             },
             {
              "source": "openalex",
              "type": "education"
             }
            ]
           }
          ],
          "full_name": "José W. F. Valle",
          "id": "65a69fb25f73b42e4f013d75"
         },
         {
          "affiliations": [
           {
            "id": "65a696255f73b42e4ff92e98",
            "name": "University of Antioquia",
            "types": [
             {
              "source": "ror",
              "type": "Education"
             },
             {
              "source": "openalex",
              "type": "education"
             }
            ]
           }
          ],
          "full_name": "Óscar Zapata",
          "id": "65a69e325f73b42e4ffd2f17"
         }
        ],
        "bibliographic_info": {
         "is_open_access": true,
         "issue": "11",
         "open_access_status": "hybrid",
         "start_page": "115032",
         "volume": "97"
        },
        "citations": [],
        "citations_by_year": [
         {
          "cited_by_count": 3,
          "year": 2022
         },
         {
          "cited_by_count": 6,
          "year": 2021
         },
         {
          "cited_by_count": 9,
          "year": 2020
         },
         {
          "cited_by_count": 11,
          "year": 2019
         },
         {
          "cited_by_count": 4,
          "year": 2018
         }
        ],
        "citations_count": [
         {
          "count": 33,
          "source": "openalex"
         },
         {
          "count": 12,
          "source": "wos"
         },
         {
          "count": 41,
          "source": "scholar"
         }
        ],
        "date_published": 1529384400,
        "external_ids": [
         {
          "id": "https://openalex.org/W2795094497",
          "source": "openalex"
         },
         {
          "id": "10.1103/physrevd.97.115032",
          "source": "doi"
         },
         {
          "id": "2795094497",
          "source": "mag"
         },
         {
          "id": "000435548100003",
          "source": "wos"
         },
         {
          "id": "-SDZ0tP-mbwJ",
          "source": "scholar"
         }
        ],
        "external_urls": [
         {
          "source": "oa",
          "url": "http://link.aps.org/pdf/10.1103/PhysRevD.97.115032"
         },
         {
          "source": "scholar citations",
          "url": "/scholar?cites=13590173536296182009&as_sdt=2005&sciodt=0,5&hl=en"
         },
         {
          "source": "pdf",
          "url": "https://link.aps.org/pdf/10.1103/PhysRevD.97.115032"
         }
        ],
        "keywords": [],
        "ranking": [],
        "references": [],
        "references_count": null,
        "source": {
         "id": "65a6938c5f73b42e4ff66843",
         "name": "Physical Review D"
        },
        "subjects": [
         {
          "source": "openalex",
          "subjects": [
           {
            "id": "65a693e55f73b42e4ff71d36",
            "level": 0,
            "name": "Physics"
           },
           {
            "id": "65a693e45f73b42e4ff715cb",
            "level": 1,
            "name": "Particle physics"
           },
           {
            "id": "65a693eb5f73b42e4ff7448f",
            "level": 2,
            "name": "Neutrino"
           },
           {
            "id": "65a693e85f73b42e4ff73416",
            "level": 2,
            "name": "Dark matter"
           },
           {
            "id": "65a693e35f73b42e4ff7120a",
            "level": 4,
            "name": "Sterile neutrino"
           },
           {
            "id": "65a693e45f73b42e4ff718ba",
            "level": 5,
            "name": "Warm dark matter"
           },
           {
            "id": "65a6941e5f73b42e4ff7f6b3",
            "level": 3,
            "name": "Dirac (video compression format)"
           },
           {
            "id": "65a693eb5f73b42e4ff743fb",
            "level": 1,
            "name": "Nuclear physics"
           }
          ]
         }
        ],
        "subtitle": "",
        "titles": [
         {
          "lang": "en",
          "source": "openalex",
          "title": "Bound-state dark matter and Dirac neutrino masses"
         },
         {
          "lang": "en",
          "source": "ranking_udea",
          "title": "BOUND-STATE DARK MATTER AND DIRAC NEUTRINO MASSES"
         },
         {
          "lang": "en",
          "source": "wos",
          "title": "Bound-state dark matter and Dirac neutrino masses"
         },
         {
          "lang": "en",
          "source": "scholar",
          "title": "Bound-state dark matter and Dirac neutrino masses"
         }
        ],
        "types": [
         {
          "source": "openalex",
          "type": "journal-article"
         },
         {
          "source": "wos",
          "type": "article"
         },
         {
          "source": "scholar",
          "type": "article"
         }
        ],
        "updated": [
         {
          "source": "openalex",
          "time": 1706132116
         },
         {
          "source": "ranking_udea",
          "time": 1706132132
         },
         {
          "source": "wos",
          "time": 1706132137
         },
         {
          "source": "scholar",
          "time": 1706132141
         }
        ],
        "year_published": 2018
       },
       {
        "_id": "65b18298fc7c35e5a0fe744c",
        "abstract": "",
        "author_count": 3,
        "authors": [
         {
          "affiliations": [
           {
            "id": "65a696255f73b42e4ff92e98",
            "name": "University of Antioquia",
            "types": [
             {
              "source": "ror",
              "type": "Education"
             },
             {
              "source": "openalex",
              "type": "education"
             }
            ]
           }
          ],
          "full_name": "Julián Calle",
          "id": "65a69f715f73b42e4f009ef2"
         },
         {
          "affiliations": [
           {
            "id": "65a696255f73b42e4ff92e98",
            "name": "University of Antioquia",
            "types": [
             {
              "source": "ror",
              "type": "Education"
             },
             {
              "source": "openalex",
              "type": "education"
             }
            ]
           },
           {
            "id": "65a696225f73b42e4ff92678",
            "name": "Federal University of Rio Grande do Norte",
            "types": [
             {
              "source": "ror",
              "type": "Education"
             },
             {
              "source": "openalex",
              "type": "education"
             }
            ]
           }
          ],
          "full_name": "Diego Restrepo",
          "id": "65a69ef45f73b42e4fff5acb"
         },
         {
          "affiliations": [
           {
            "id": "65a696f85f73b42e4ffbe656",
            "name": "International Centre for Theoretical Physics",
            "types": [
             {
              "source": "ror",
              "type": "Facility"
             },
             {
              "source": "openalex",
              "type": "facility"
             }
            ]
           },
           {
            "id": "65a696255f73b42e4ff92e98",
            "name": "University of Antioquia",
            "types": [
             {
              "source": "ror",
              "type": "Education"
             },
             {
              "source": "openalex",
              "type": "education"
             }
            ]
           }
          ],
          "full_name": "Óscar Zapata",
          "id": "65a69e325f73b42e4ffd2f17"
         }
        ],
        "bibliographic_info": {
         "is_open_access": true,
         "issue": "3",
         "open_access_status": "hybrid",
         "start_page": "035004",
         "volume": "101"
        },
        "citations": [],
        "citations_by_year": [
         {
          "cited_by_count": 2,
          "year": 2022
         },
         {
          "cited_by_count": 6,
          "year": 2021
         },
         {
          "cited_by_count": 6,
          "year": 2020
         },
         {
          "cited_by_count": 1,
          "year": 2019
         }
        ],
        "citations_count": [
         {
          "count": 14,
          "source": "openalex"
         },
         {
          "count": 0,
          "source": "wos"
         },
         {
          "count": 13,
          "source": "scholar"
         }
        ],
        "date_published": 1580965200,
        "external_ids": [
         {
          "id": "https://openalex.org/W2974772295",
          "source": "openalex"
         },
         {
          "id": "10.1103/physrevd.101.035004",
          "source": "doi"
         },
         {
          "id": "2974772295",
          "source": "mag"
         },
         {
          "id": "0000707619",
          "source": "COD_RH"
         },
         {
          "id": "52",
          "source": "COD_PRODUCTO"
         },
         {
          "id": "000511446300002",
          "source": "wos"
         },
         {
          "id": "0UBo6ZcLtU4J",
          "source": "scholar"
         }
        ],
        "external_urls": [
         {
          "source": "oa",
          "url": "https://journals.aps.org/prd/pdf/10.1103/PhysRevD.101.035004"
         },
         {
          "source": "scienti",
          "url": "https://inspirehep.net/files/5418d90c632fd004307d586f307a226e"
         },
         {
          "source": "scholar citations",
          "url": "/scholar?cites=5671452052826898641&as_sdt=2005&sciodt=0,5&hl=en"
         },
         {
          "source": "pdf",
          "url": "https://link.aps.org/pdf/10.1103/PhysRevD.101.035004"
         }
        ],
        "keywords": [],
        "ranking": [],
        "references": [],
        "references_count": null,
        "source": {
         "id": "65a68e165f73b42e4ff04649",
         "name": "Physical review"
        },
        "subjects": [
         {
          "source": "openalex",
          "subjects": [
           {
            "id": "65a693e55f73b42e4ff71d36",
            "level": 0,
            "name": "Physics"
           },
           {
            "id": "65a693f75f73b42e4ff78b21",
            "level": 3,
            "name": "MAJORANA"
           },
           {
            "id": "65a693eb5f73b42e4ff7448f",
            "level": 2,
            "name": "Neutrino"
           },
           {
            "id": "65a693e45f73b42e4ff715cb",
            "level": 1,
            "name": "Particle physics"
           },
           {
            "id": "65a6941e5f73b42e4ff7f6b3",
            "level": 3,
            "name": "Dirac (video compression format)"
           },
           {
            "id": "65a694185f73b42e4ff7e9d6",
            "level": 5,
            "name": "Majorana equation"
           }
          ]
         }
        ],
        "subtitle": "",
        "titles": [
         {
          "lang": null,
          "source": "openalex",
          "title": "Dirac neutrino mass generation from a Majorana messenger"
         },
         {
          "lang": null,
          "source": "wos",
          "title": "Dirac neutrino mass generation from a Majorana messenger"
         },
         {
          "lang": "en",
          "source": "scholar",
          "title": "Dirac neutrino mass generation from a Majorana messenger"
         }
        ],
        "types": [
         {
          "source": "openalex",
          "type": "journal-article"
         },
         {
          "source": "scienti",
          "type": "Publicado en revista especializada"
         },
         {
          "source": "scienti",
          "type": "Artículo"
         },
         {
          "source": "wos",
          "type": "article"
         },
         {
          "source": "scholar",
          "type": "article"
         }
        ],
        "updated": [
         {
          "source": "openalex",
          "time": 1706132116
         },
         {
          "source": "scienti",
          "time": 1706132126
         },
         {
          "source": "wos",
          "time": 1706132137
         },
         {
          "source": "scholar",
          "time": 1706132141
         }
        ],
        "year_published": 2020
       },
       {
        "_id": "65b1829bfc7c35e5a0fe744d",
        "abstract": "",
        "author_count": 4,
        "authors": [
         {
          "affiliations": [
           {
            "id": "65a6961f5f73b42e4ff91ba1",
            "name": "Pusan National University",
            "types": [
             {
              "source": "ror",
              "type": "Education"
             },
             {
              "source": "openalex",
              "type": "education"
             }
            ]
           }
          ],
          "full_name": "Ki-Young Choi",
          "id": "65a6a4af5f73b42e4f0e3455"
         },
         {
          "affiliations": [
           {
            "id": "65a696255f73b42e4ff92e98",
            "name": "University of Antioquia",
            "types": [
             {
              "source": "ror",
              "type": "Education"
             },
             {
              "source": "openalex",
              "type": "education"
             }
            ]
           }
          ],
          "full_name": "Diego Restrepo",
          "id": "65a69ef45f73b42e4fff5acb"
         },
         {
          "affiliations": [
           {
            "id": "65a696fa5f73b42e4ffbeed2",
            "name": "Autonomous University of Madrid",
            "types": [
             {
              "source": "ror",
              "type": "Education"
             },
             {
              "source": "openalex",
              "type": "education"
             }
            ]
           }
          ],
          "full_name": "Carlos E. Yaguna",
          "id": "65a6a0855f73b42e4f035ad9"
         },
         {
          "affiliations": [
           {
            "id": "65a696255f73b42e4ff92e98",
            "name": "University of Antioquia",
            "types": [
             {
              "source": "ror",
              "type": "Education"
             },
             {
              "source": "openalex",
              "type": "education"
             }
            ]
           }
          ],
          "full_name": "Óscar Zapata",
          "id": "65a69e325f73b42e4ffd2f17"
         }
        ],
        "bibliographic_info": {
         "is_open_access": true,
         "open_access_status": "green"
        },
        "citations": [],
        "citations_by_year": [
         {
          "cited_by_count": 1,
          "year": 2022
         },
         {
          "cited_by_count": 1,
          "year": 2021
         },
         {
          "cited_by_count": 1,
          "year": 2012
         }
        ],
        "citations_count": [
         {
          "count": 4,
          "source": "openalex"
         }
        ],
        "date_published": 1278738000,
        "external_ids": [
         {
          "id": "https://openalex.org/W3099738634",
          "source": "openalex"
         },
         {
          "id": "10.1088/1475-7516/2010/10/033",
          "source": "doi"
         },
         {
          "id": "3099738634",
          "source": "mag"
         },
         {
          "id": "0000177733",
          "source": "COD_RH"
         },
         {
          "id": "76",
          "source": "COD_PRODUCTO"
         }
        ],
        "external_urls": [
         {
          "source": "oa",
          "url": "http://arxiv.org/pdf/1007.1728"
         },
         {
          "source": "scienti",
          "url": "http://iopscience.iop.org/1475-7516/2010/10/033?fromSearchPage=true"
         }
        ],
        "keywords": [],
        "ranking": [],
        "references": [],
        "references_count": null,
        "source": {
         "id": "65a6939f5f73b42e4ff68bc1",
         "name": "arXiv: High Energy Physics - Phenomenology"
        },
        "subjects": [
         {
          "source": "openalex",
          "subjects": [
           {
            "id": "65a6941d5f73b42e4ff7f4c6",
            "level": 4,
            "name": "Gravitino"
           },
           {
            "id": "65a693e55f73b42e4ff71d36",
            "level": 0,
            "name": "Physics"
           },
           {
            "id": "65a693e45f73b42e4ff715cb",
            "level": 1,
            "name": "Particle physics"
           },
           {
            "id": "65a693e85f73b42e4ff73416",
            "level": 2,
            "name": "Dark matter"
           },
           {
            "id": "65a693eb5f73b42e4ff7448f",
            "level": 2,
            "name": "Neutrino"
           },
           {
            "id": "65a693e45f73b42e4ff716d4",
            "level": 4,
            "name": "Antimatter"
           },
           {
            "id": "65a693ea5f73b42e4ff74068",
            "level": 3,
            "name": "Lepton"
           },
           {
            "id": "65a693eb5f73b42e4ff744cd",
            "level": 2,
            "name": "Fermi Gamma-ray Space Telescope"
           },
           {
            "id": "65a693eb5f73b42e4ff743fb",
            "level": 1,
            "name": "Nuclear physics"
           },
           {
            "id": "65a693ee5f73b42e4ff7582f",
            "level": 3,
            "name": "R-parity"
           }
          ]
         }
        ],
        "subtitle": "",
        "titles": [
         {
          "lang": "en",
          "source": "openalex",
          "title": "Indirect detection of gravitino dark matter including its three-body decays"
         }
        ],
        "types": [
         {
          "source": "openalex",
          "type": "journal-article"
         },
         {
          "source": "scienti",
          "type": "Publicado en revista especializada"
         },
         {
          "source": "scienti",
          "type": "Artículo"
         }
        ],
        "updated": [
         {
          "source": "openalex",
          "time": 1706132116
         },
         {
          "source": "scienti",
          "time": 1706132130
         }
        ],
        "year_published": 2010
       },
       {
        "_id": "65b1829cfc7c35e5a0fe744e",
        "abstract": "",
        "author_count": 2,
        "authors": [
         {
          "affiliations": [
           {
            "id": "65a696255f73b42e4ff92e98",
            "name": "University of Antioquia",
            "types": [
             {
              "source": "ror",
              "type": "Education"
             },
             {
              "source": "openalex",
              "type": "education"
             }
            ]
           }
          ],
          "full_name": "Diego Restrepo",
          "id": "65a69ef45f73b42e4fff5acb"
         },
         {
          "affiliations": [
           {
            "id": "65a696255f73b42e4ff92e98",
            "name": "University of Antioquia",
            "types": [
             {
              "source": "ror",
              "type": "Education"
             },
             {
              "source": "openalex",
              "type": "education"
             }
            ]
           }
          ],
          "full_name": "Andrés Rivera",
          "id": "65a69e115f73b42e4ffccea5"
         }
        ],
        "bibliographic_info": {
         "end_page": "26",
         "is_open_access": true,
         "open_access_status": "gold",
         "start_page": "1",
         "volume": "2020"
        },
        "citations": [],
        "citations_by_year": [
         {
          "cited_by_count": 3,
          "year": 2021
         },
         {
          "cited_by_count": 3,
          "year": 2020
         }
        ],
        "citations_count": [
         {
          "count": 6,
          "source": "openalex"
         },
         {
          "count": 15,
          "source": "scholar"
         }
        ],
        "date_published": 1585717200,
        "external_ids": [
         {
          "id": "https://openalex.org/W3099207013",
          "source": "openalex"
         },
         {
          "id": "10.1007/jhep04(2020)134",
          "source": "doi"
         },
         {
          "id": "3099207013",
          "source": "mag"
         },
         {
          "id": "0000177733",
          "source": "COD_RH"
         },
         {
          "id": "140",
          "source": "COD_PRODUCTO"
         },
         {
          "id": "2-s2.0-85083642740",
          "source": "scopus"
         },
         {
          "id": "sPHiod0jAaUJ",
          "source": "scholar"
         }
        ],
        "external_urls": [
         {
          "source": "oa",
          "url": "https://link.springer.com/content/pdf/10.1007/JHEP04(2020)134.pdf"
         },
         {
          "source": "scienti",
          "url": "https://link.springer.com/article/10.1007/JHEP04(2020)134"
         },
         {
          "source": "scopus",
          "url": "https://www.scopus.com/inward/record.uri?eid=2-s2.0-85083642740&doi=10.1007%2fJHEP04%282020%29134&partnerID=40&md5=e1bd5332a8440e225401d90181a246b5"
         },
         {
          "source": "scholar citations",
          "url": "/scholar?cites=11889823926045569456&as_sdt=2005&sciodt=0,5&hl=en"
         },
         {
          "source": "pdf",
          "url": "https://link.springer.com/content/pdf/10.1007/JHEP04(2020)134.pdf"
         }
        ],
        "keywords": [],
        "ranking": [],
        "references": [],
        "references_count": null,
        "source": {
         "id": "65a68e135f73b42e4ff0410c",
         "name": "Journal of High Energy Physics"
        },
        "subjects": [
         {
          "source": "openalex",
          "subjects": [
           {
            "id": "65a693e55f73b42e4ff71d36",
            "level": 0,
            "name": "Physics"
           },
           {
            "id": "65a693e45f73b42e4ff715cb",
            "level": 1,
            "name": "Particle physics"
           },
           {
            "id": "65a693e85f73b42e4ff73416",
            "level": 2,
            "name": "Dark matter"
           },
           {
            "id": "65a693eb5f73b42e4ff7448f",
            "level": 2,
            "name": "Neutrino"
           },
           {
            "id": "65a693ec5f73b42e4ff74e2d",
            "level": 2,
            "name": "Annihilation"
           },
           {
            "id": "65a694225f73b42e4ff7fe45",
            "level": 2,
            "name": "Parameter space"
           },
           {
            "id": "65a693eb5f73b42e4ff744cd",
            "level": 2,
            "name": "Fermi Gamma-ray Space Telescope"
           },
           {
            "id": "65a693e95f73b42e4ff73c64",
            "level": 2,
            "name": "Nucleon"
           },
           {
            "id": "65a693ea5f73b42e4ff74068",
            "level": 3,
            "name": "Lepton"
           },
           {
            "id": "65a693e35f73b42e4ff71102",
            "level": 3,
            "name": "Standard Model (mathematical formulation)"
           },
           {
            "id": "65a693eb5f73b42e4ff7439b",
            "level": 2,
            "name": "Physics beyond the Standard Model"
           },
           {
            "id": "65a694155f73b42e4ff7e1e0",
            "level": 3,
            "name": "Singlet state"
           },
           {
            "id": "65a693eb5f73b42e4ff743fb",
            "level": 1,
            "name": "Nuclear physics"
           }
          ]
         }
        ],
        "subtitle": "",
        "titles": [
         {
          "lang": "en",
          "source": "openalex",
          "title": "Phenomenological consistency of the singlet-triplet scotogenic model"
         },
         {
          "lang": "en",
          "source": "scopus",
          "title": "Phenomenological consistency of the singlet-triplet scotogenic model"
         },
         {
          "lang": "en",
          "source": "scholar",
          "title": "Phenomenological consistency of the singlet-triplet scotogenic model"
         }
        ],
        "types": [
         {
          "source": "openalex",
          "type": "journal-article"
         },
         {
          "source": "scienti",
          "type": "Publicado en revista especializada"
         },
         {
          "source": "scienti",
          "type": "Artículo"
         },
         {
          "source": "scopus",
          "type": "Article"
         },
         {
          "source": "scholar",
          "type": "article"
         }
        ],
        "updated": [
         {
          "source": "openalex",
          "time": 1706132116
         },
         {
          "source": "scienti",
          "time": 1706132129
         },
         {
          "source": "scopus",
          "time": 1706132132
         },
         {
          "source": "scholar",
          "time": 1706132141
         }
        ],
        "year_published": 2020
       },
       {
        "_id": "65b1829cfc7c35e5a0fe744f",
        "abstract": "",
        "author_count": 3,
        "authors": [
         {
          "affiliations": [
           {
            "id": "65a696205f73b42e4ff91cf9",
            "name": "University of California, Riverside",
            "types": [
             {
              "source": "ror",
              "type": "Education"
             },
             {
              "source": "openalex",
              "type": "education"
             }
            ]
           }
          ],
          "full_name": "Ernest Ma",
          "id": "65a6a1f75f73b42e4f071990"
         },
         {
          "affiliations": [
           {
            "id": "65a696255f73b42e4ff92e98",
            "name": "University of Antioquia",
            "types": [
             {
              "source": "ror",
              "type": "Education"
             },
             {
              "source": "openalex",
              "type": "education"
             }
            ]
           }
          ],
          "full_name": "Diego Restrepo",
          "id": "65a69ef45f73b42e4fff5acb"
         },
         {
          "affiliations": [
           {
            "id": "65a696255f73b42e4ff92e98",
            "name": "University of Antioquia",
            "types": [
             {
              "source": "ror",
              "type": "Education"
             },
             {
              "source": "openalex",
              "type": "education"
             }
            ]
           }
          ],
          "full_name": "Óscar Zapata",
          "id": "65a69e325f73b42e4ffd2f17"
         }
        ],
        "bibliographic_info": {
         "is_open_access": true,
         "issue": "03",
         "open_access_status": "green",
         "start_page": "1850024",
         "volume": "33"
        },
        "citations": [],
        "citations_by_year": [
         {
          "cited_by_count": 1,
          "year": 2022
         },
         {
          "cited_by_count": 4,
          "year": 2020
         },
         {
          "cited_by_count": 3,
          "year": 2019
         },
         {
          "cited_by_count": 2,
          "year": 2018
         },
         {
          "cited_by_count": 1,
          "year": 2017
         }
        ],
        "citations_count": [
         {
          "count": 11,
          "source": "openalex"
         },
         {
          "count": 7,
          "source": "scopus"
         },
         {
          "count": 5,
          "source": "wos"
         },
         {
          "count": 15,
          "source": "scholar"
         }
        ],
        "date_published": 1517202000,
        "external_ids": [
         {
          "id": "https://openalex.org/W3100627084",
          "source": "openalex"
         },
         {
          "id": "10.1142/s0217732318500244",
          "source": "doi"
         },
         {
          "id": "3100627084",
          "source": "mag"
         },
         {
          "id": "0000707619",
          "source": "COD_RH"
         },
         {
          "id": "41",
          "source": "COD_PRODUCTO"
         },
         {
          "id": "2-s2.0-85040862223",
          "source": "scopus"
         },
         {
          "id": "000423488200007",
          "source": "wos"
         },
         {
          "id": "CoxEtYWH7qgJ",
          "source": "scholar"
         }
        ],
        "external_urls": [
         {
          "source": "oa",
          "url": "http://arxiv.org/pdf/1706.08240"
         },
         {
          "source": "scienti",
          "url": "https://www.worldscientific.com/doi/pdf/10.1142/S0217732318500244"
         },
         {
          "source": "scopus",
          "url": "https://www.scopus.com/inward/record.uri?eid=2-s2.0-85040862223&doi=10.1142%2fS0217732318500244&partnerID=40&md5=b6b843a4e108522d1ac77c5c15b1e2c6"
         },
         {
          "source": "scholar citations",
          "url": "/scholar?cites=12172815851170597898&as_sdt=2005&sciodt=0,5&hl=en"
         },
         {
          "source": "pdf",
          "url": "https://arxiv.org/pdf/1706.08240"
         }
        ],
        "keywords": [],
        "ranking": [],
        "references": [],
        "references_count": null,
        "source": {
         "id": "65a68e185f73b42e4ff04c88",
         "name": "Modern Physics Letters A"
        },
        "subjects": [
         {
          "source": "openalex",
          "subjects": [
           {
            "id": "65a693e55f73b42e4ff71d36",
            "level": 0,
            "name": "Physics"
           },
           {
            "id": "65a693e45f73b42e4ff715cb",
            "level": 1,
            "name": "Particle physics"
           },
           {
            "id": "65a693e45f73b42e4ff7187a",
            "level": 3,
            "name": "Axion"
           },
           {
            "id": "65a693eb5f73b42e4ff7448f",
            "level": 2,
            "name": "Neutrino"
           },
           {
            "id": "65a693e85f73b42e4ff73416",
            "level": 2,
            "name": "Dark matter"
           },
           {
            "id": "65a693e55f73b42e4ff71a8a",
            "level": 2,
            "name": "Quantum chromodynamics"
           },
           {
            "id": "65a693ea5f73b42e4ff74068",
            "level": 3,
            "name": "Lepton"
           },
           {
            "id": "65a694225f73b42e4ff7ffc6",
            "level": 2,
            "name": "Quark"
           },
           {
            "id": "65a6941b5f73b42e4ff7ef4d",
            "level": 2,
            "name": "Fermion"
           },
           {
            "id": "65a693e35f73b42e4ff71102",
            "level": 3,
            "name": "Standard Model (mathematical formulation)"
           },
           {
            "id": "65a6941d5f73b42e4ff7f4ba",
            "level": 2,
            "name": "Scalar (mathematics)"
           },
           {
            "id": "65a693e35f73b42e4ff7120a",
            "level": 4,
            "name": "Sterile neutrino"
           },
           {
            "id": "65a693e45f73b42e4ff7151e",
            "level": 4,
            "name": "Lepton number"
           }
          ]
         }
        ],
        "subtitle": "",
        "titles": [
         {
          "lang": "en",
          "source": "openalex",
          "title": "Anomalous leptonic U(1) symmetry: Syndetic origin of the QCD axion, weak-scale dark matter, and radiative neutrino mass"
         },
         {
          "lang": "en",
          "source": "ranking_udea",
          "title": "ANOMALOUS LEPTONIC U(1) SYMMETRY: SYNDETIC ORIGIN OF THE QCD AXION, WEAK-SCALE DARK MATTER, AND RADIATIVE NEUTRINO MASS."
         },
         {
          "lang": "en",
          "source": "scopus",
          "title": "Anomalous leptonic U(1) symmetry: Syndetic origin of the QCD axion, weak-scale dark matter, and radiative neutrino mass"
         },
         {
          "lang": "en",
          "source": "wos",
          "title": "Anomalous leptonic U(1) symmetry: Syndetic origin of the QCD axion, weak-scale dark matter, and radiative neutrino mass"
         },
         {
          "lang": "en",
          "source": "scholar",
          "title": "Anomalous leptonic U (1) symmetry: Syndetic origin of the QCD axion, weak-scale dark matter, and radiative neutrino mass"
         }
        ],
        "types": [
         {
          "source": "openalex",
          "type": "journal-article"
         },
         {
          "source": "scienti",
          "type": "Publicado en revista especializada"
         },
         {
          "source": "scienti",
          "type": "Artículo"
         },
         {
          "source": "scopus",
          "type": "Article"
         },
         {
          "source": "wos",
          "type": "article"
         },
         {
          "source": "scholar",
          "type": "article"
         }
        ],
        "updated": [
         {
          "source": "openalex",
          "time": 1706132116
         },
         {
          "source": "scienti",
          "time": 1706132130
         },
         {
          "source": "ranking_udea",
          "time": 1706132132
         },
         {
          "source": "scopus",
          "time": 1706132133
         },
         {
          "source": "wos",
          "time": 1706132137
         },
         {
          "source": "scholar",
          "time": 1706132141
         }
        ],
        "year_published": 2018
       }
      ],
      "text/plain": [
       "<IPython.core.display.JSON object>"
      ]
     },
     "execution_count": 30,
     "metadata": {
      "application/json": {
       "expanded": false,
       "root": "root"
      }
     },
     "output_type": "execute_result"
    }
   ],
   "source": [
    "JSON(json_works)"
   ]
  },
  {
   "cell_type": "code",
   "execution_count": 21,
   "id": "d6cb5081-7708-4c6b-a3b2-ff4db4dda0c0",
   "metadata": {
    "tags": []
   },
   "outputs": [],
   "source": [
    "kahi_sample_db = dbclient['kahi_sample_works']\n",
    "works_collection = kahi_sample_db['oa_works']\n",
    "works_collection_list = list(works_collection.find())\n",
    "json_works_collection = json.dumps(works_collection_list, default=str)"
   ]
  },
  {
   "cell_type": "code",
   "execution_count": null,
   "id": "6223db8f-08a0-4be1-b8d9-55ca794e9301",
   "metadata": {
    "tags": []
   },
   "outputs": [],
   "source": [
    "JSON(json_works_collection)"
   ]
  },
  {
   "cell_type": "code",
   "execution_count": 6,
   "id": "e12a536a-9ce4-4153-a4b1-7b6b67750279",
   "metadata": {
    "tags": []
   },
   "outputs": [],
   "source": [
    "#Antes de correr ETL"
   ]
  },
  {
   "cell_type": "code",
   "execution_count": 16,
   "id": "29a487a2-29f8-4d9f-b67b-7f198a1d972e",
   "metadata": {
    "tags": []
   },
   "outputs": [],
   "source": [
    "log_collection = kahi_test_db['log']\n",
    "log_collection_list = list(log_collection.find())\n",
    "json_log_collection = json.dumps(log_collection_list, default=str)"
   ]
  },
  {
   "cell_type": "code",
   "execution_count": null,
   "id": "1a165e41-7af5-4e49-9f68-fbdb11484708",
   "metadata": {
    "tags": []
   },
   "outputs": [],
   "source": [
    "JSON(json_log_collection)"
   ]
  },
  {
   "cell_type": "code",
   "execution_count": 28,
   "id": "d37fae14-b6ab-454f-909b-4bcfe5cec3f6",
   "metadata": {
    "tags": []
   },
   "outputs": [
    {
     "name": "stdout",
     "output_type": "stream",
     "text": [
      "{'name': 'affiliations', 'type': 'collection', 'options': {}, 'info': {'readOnly': False, 'uuid': Binary(b'e\\xb2\\xbe%F\\xa9G/\\xbb\\x16\\xfb\\x1d\\x82f\\x84\\x1f', 4)}, 'idIndex': {'v': 2, 'key': {'_id': 1}, 'name': '_id_'}}\n",
      "{'name': 'person', 'type': 'collection', 'options': {}, 'info': {'readOnly': False, 'uuid': Binary(b'h\\x9c\\x86\\xec\\xd09C\\xcc\\x88\\xe3\\x13\\x1e\\x17\\x1e\\xab:', 4)}, 'idIndex': {'v': 2, 'key': {'_id': 1}, 'name': '_id_'}}\n",
      "{'name': 'subjects', 'type': 'collection', 'options': {}, 'info': {'readOnly': False, 'uuid': Binary(b'k\\x9e\\xe5\\xe4\\xc5\\xa3Il\\x98\\xf1\\x87\\xa8L\\xcd\\x02\"', 4)}, 'idIndex': {'v': 2, 'key': {'_id': 1}, 'name': '_id_'}}\n",
      "{'name': 'sources', 'type': 'collection', 'options': {}, 'info': {'readOnly': False, 'uuid': Binary(b'\\x88\\xb5\\xd6\\xcd\\x16\\xd7E\\xcf\\x9b\\xe1\\xa0\\xe4\\x9b{\\xb0\\xfd', 4)}, 'idIndex': {'v': 2, 'key': {'_id': 1}, 'name': '_id_'}}\n",
      "{'name': 'log', 'type': 'collection', 'options': {}, 'info': {'readOnly': False, 'uuid': Binary(b'\\x9fW\\\\\\x8d\\xe5(M\\x9c\\xb3\\x1dL\\x97\\x91\\xde\\xfdA', 4)}, 'idIndex': {'v': 2, 'key': {'_id': 1}, 'name': '_id_'}}\n"
     ]
    }
   ],
   "source": [
    "for col in kahi_test_db.list_collections():\n",
    "    print(col)"
   ]
  },
  {
   "cell_type": "code",
   "execution_count": 27,
   "id": "61594227-81fb-4eb7-a711-165239ae0b74",
   "metadata": {
    "tags": []
   },
   "outputs": [
    {
     "data": {
      "text/plain": [
       "<pymongo.results.DeleteResult at 0x7f3ee4b97c10>"
      ]
     },
     "execution_count": 27,
     "metadata": {},
     "output_type": "execute_result"
    }
   ],
   "source": [
    "kahi_test_db.drop_collection('works')\n",
    "\n",
    "log_collection.delete_one({ \"_id\": \"openalex_works\" })\n",
    "log_collection.delete_one({ \"_id\": \"scienti_works\" })\n",
    "log_collection.delete_one({ \"_id\": \"ranking_udea_works\" })\n",
    "log_collection.delete_one({ \"_id\": \"scopus_works\" })\n",
    "log_collection.delete_one({ \"_id\": \"wos_works\" })\n",
    "log_collection.delete_one({ \"_id\": \"scholar_works\" })"
   ]
  },
  {
   "cell_type": "code",
   "execution_count": 4,
   "id": "a5a9923d-6c26-4727-a984-9882e60d54ad",
   "metadata": {},
   "outputs": [],
   "source": [
    "kahi_test_db = dbclient['kahi_sample_works']\n",
    "scienti_works = kahi_test_db['scienti_works']"
   ]
  },
  {
   "cell_type": "code",
   "execution_count": 6,
   "id": "55677ef8-cbd4-4d81-96bf-c329b4ca29ff",
   "metadata": {
    "tags": []
   },
   "outputs": [
    {
     "data": {
      "text/plain": [
       "[{'_id': ObjectId('637d3a26244b9f9d0fe574ae'),\n",
       "  'COD_RH': '0000177733',\n",
       "  'COD_PRODUCTO': '130',\n",
       "  'TXT_NME_PROD': 'Probing a simplified, $W^{\\\\prime}$ model of $R(D^{(\\\\ast)})$ anomalies using $b$-tags, $\\\\tau$ leptons and missing energy',\n",
       "  'SGL_IDIOMA': 'EN',\n",
       "  'COD_TIPO_PRODUCTO': '111',\n",
       "  'SGL_PAIS': 'EUA',\n",
       "  'NRO_ANO_PRESENTA': 2018,\n",
       "  'NRO_MES_PRESENTA': 9,\n",
       "  'TXT_WEB_PRODUCTO': 'http://doi.org/10.1103/PhysRevD.98.055016',\n",
       "  'TPO_MEDIO_DIVULGACION': 'I',\n",
       "  'STA_CERTIFICADO': '0',\n",
       "  'STA_VERIFICACION_AUTO': '0',\n",
       "  'STA_VERIFICACION_USUA': '4',\n",
       "  'DTA_CREACION': 'Mon, 29 Apr 2019 08:51:12 GMT',\n",
       "  'DTA_ACTUALIZACION': 'Mon, 29 Apr 2019 08:51:12 GMT',\n",
       "  'NRO_PATENTES': 0,\n",
       "  'NRO_SECRETOS': 0,\n",
       "  'TXT_DOI': '10.1103/PhysRevD.98.055016',\n",
       "  'NRO_REGISTROS': 0,\n",
       "  'SGL_CATEGORIA': 'ART-ART_A1',\n",
       "  'NRO_ARTISTICAS_DET': 0,\n",
       "  'author': [{'COD_RH': '0000177733',\n",
       "    'NRO_ID_CNPQ': '4193202494462358',\n",
       "    'TXT_NAMES_RH': 'Diego Alejandro',\n",
       "    'TXT_PRIM_APELL': 'Restrepo',\n",
       "    'TXT_SEG_APELL': 'Quintero',\n",
       "    'TXT_TOTAL_NAMES': 'Diego Alejandro Restrepo Quintero',\n",
       "    'TPO_NACIONALIDAD': 'C',\n",
       "    'DTA_NACIM': 'Wed, 10 Mar 1971 00:00:00 GMT',\n",
       "    'TPO_DOCUMENTO_IDENT': 'C',\n",
       "    'TPO_SEXO': 'M',\n",
       "    'COD_RH_MUN_NACIM': '0000000000',\n",
       "    'COD_MUN_NACIM': '297',\n",
       "    'NRO_DOCUMENTO_IDENT': '98554575',\n",
       "    'COD_RH_MUN_EXPED_DOC': '0000000000',\n",
       "    'COD_MUN_EXPED_DOC': '296',\n",
       "    'NRO_PASAPORTE': 'AM864262',\n",
       "    'COD_RH_RELIGION': '0000000000',\n",
       "    'SGL_PAIS_NACIM': 'COL',\n",
       "    'TPO_ESTADO_CIVIL': 'C',\n",
       "    'TPO_DIRECCION_USUAL': 'I',\n",
       "    'TPO_DOC_ACTUALIZACION': 'CCO',\n",
       "    'TPO_VER_DOC_ACTUALIZACION': '2.0.0',\n",
       "    'TXT_CITACION_BIBLIO': 'RESTREPO QUINTERO DIEGO ALEJANDRO',\n",
       "    'STA_CERTIFICADO': 'T',\n",
       "    'DTA_CERTIFICADO': 'Wed, 25 Feb 2009 00:00:00 GMT',\n",
       "    'TXT_RESPUESTA': 'greco',\n",
       "    'TXT_PREGUNTA': 'perro?',\n",
       "    'DTA_CREACION': 'Mon, 16 Dec 2002 12:21:43 GMT',\n",
       "    'DTA_ACTUALIZACION': 'Wed, 06 Apr 2022 13:37:32 GMT',\n",
       "    'COD_CERTIFICACION': '0000177733201403141215',\n",
       "    'STA_VISIBLE': 'T',\n",
       "    'TPO_PERFIL': 'IS',\n",
       "    'TXT_CONF_DATOS': 'T',\n",
       "    'COD_ORCID': '0000-0001-6455-5564',\n",
       "    'AUTOR_ID_SCP': '7005721136',\n",
       "    'STA_ACTIVO': 'A',\n",
       "    'city': [{'COD_RH_MUNICIPIO': '0000000000',\n",
       "      'COD_MUNICIPIO': '297',\n",
       "      'ID_MUNICIPIO': 433,\n",
       "      'SGL_DEPARTAMENTO': 'AN',\n",
       "      'SGL_PAIS': 'COL',\n",
       "      'COD_MUNI_DANE': '05282',\n",
       "      'TXT_NME_MUNICIPIO': 'FREDONIA',\n",
       "      'DTA_CREACION': 'Wed, 07 May 2008 12:29:11 GMT',\n",
       "      'DTA_ACTUALIZACION': 'Tue, 19 Apr 2022 11:04:53 GMT',\n",
       "      'ID_PAIS': 1,\n",
       "      'ID_DEPARTAMENTO': 31,\n",
       "      'department': [{'SGL_PAIS': 'COL',\n",
       "        'SGL_DEPARTAMENTO': 'AN',\n",
       "        'ID_DEPARTAMENTO': 31,\n",
       "        'SGL_REGION': 'NW',\n",
       "        'COD_DEPA_DANE': '05',\n",
       "        'TXT_NME_DEPARTAMENTO': 'ANTIOQUIA',\n",
       "        'DTA_CREACION': 'Fri, 24 Oct 2008 11:45:35 GMT',\n",
       "        'DTA_ACTUALIZACION': 'Tue, 19 Apr 2022 10:07:15 GMT',\n",
       "        'ID_PAIS': 1,\n",
       "        'ID': 31,\n",
       "        'country': [{'SGL_PAIS': 'COL',\n",
       "          'TXT_NME_PAIS': 'Colombia',\n",
       "          'SGL_IDIOMA': 'EN',\n",
       "          'SGL_PAIS_ISO_2': 'CO',\n",
       "          'COD_PAIS_SIGP': 19,\n",
       "          'SGL_CONTINENTE_4': 'AME',\n",
       "          'SGL_CONTINENTE': 'AME',\n",
       "          'SGL_CONTINENTE_6': 'AME',\n",
       "          'SGL_CONTINENTE_7': 'SAM',\n",
       "          'SGL_CONTINENTE_8': 'SAM',\n",
       "          'DTA_CREACION': 'Fri, 05 Jun 2015 14:54:15 GMT',\n",
       "          'DTA_ACTUALIZACION': 'Fri, 05 Jun 2015 14:54:20 GMT',\n",
       "          'TXT_NME_PAIS_ING': 'Colombia',\n",
       "          'ID': 1}]}]}]}],\n",
       "  'language': [{'SGL_IDIOMA': 'EN',\n",
       "    'TXT_NME_IDIOMA': 'Inglés',\n",
       "    'NRO_IMPORTANCIA': 2,\n",
       "    'DTA_CREACION': 'Fri, 05 Jun 2015 14:54:15 GMT',\n",
       "    'DTA_ACTUALIZACION': 'Fri, 05 Jun 2015 14:54:15 GMT'}],\n",
       "  'product_type': [{'COD_TIPO_PRODUCTO': '111',\n",
       "    'TXT_NME_TIPO_PRODUCTO': 'Publicado en revista especializada',\n",
       "    'NRO_NIVEL': 2,\n",
       "    'COD_TIPO_PRODUCTO_PADRE': '11',\n",
       "    'STA_ACTIVO': 'T',\n",
       "    'TPO_CLASE': 'NC',\n",
       "    'product_type': [{'COD_TIPO_PRODUCTO': '11',\n",
       "      'TXT_NME_TIPO_PRODUCTO': 'Artículo',\n",
       "      'NRO_NIVEL': 1,\n",
       "      'COD_TIPO_PRODUCTO_PADRE': '1',\n",
       "      'STA_ACTIVO': 'T',\n",
       "      'product_type': [{'COD_TIPO_PRODUCTO': '1',\n",
       "        'TXT_NME_TIPO_PRODUCTO': 'Producción bibliográfica',\n",
       "        'NRO_NIVEL': 0,\n",
       "        'STA_ACTIVO': 'T'}]}]}],\n",
       "  'NRO_ID_GRUPO': '00000000001676',\n",
       "  'SEQ_PRODUCTO': 31668,\n",
       "  'DTA_VINCULACION': 'Mon, 29 Apr 2019 08:51:12 GMT',\n",
       "  'STA_HUERFANO': 'F',\n",
       "  'STA_MEDIDO': 'T',\n",
       "  'group': [{'NRO_ID_GRUPO': '00000000001676',\n",
       "    'COD_ID_GRUPO': 'COL0008423',\n",
       "    'NME_GRUPO': 'Grupo de Fenomenologia de Interacciones Fundamentales',\n",
       "    'ANO_FORMACAO': 1979,\n",
       "    'MES_FORMACAO': 12,\n",
       "    'COD_RH_AREA': '0000000000',\n",
       "    'COD_AREA_CONHEC': '1C03',\n",
       "    'COD_PROGRAMA': 5,\n",
       "    'COD_PROGRAMA_SECUND': 0,\n",
       "    'TPO_ESTADO_GR': 0,\n",
       "    'TXT_CLASIF': 'A1',\n",
       "    'DTA_CLASIF': 'Tue, 24 May 2022 00:00:00 GMT',\n",
       "    'DTA_FIN_CLASIF': 'Thu, 23 May 2024 00:00:00 GMT',\n",
       "    'TPO_GRUPO': 'T',\n",
       "    'DTA_TPO_GRUPO': 'Tue, 24 May 2022 00:00:00 GMT',\n",
       "    'STA_ELIMINADO': 'F',\n",
       "    'TXT_PLAN_TRABAJO': 'Estudio teorico de la fenomenologia del modelo estandar,\\r\\n\\r\\nAnalisis de extensiones supersimetricas del modelo estandar y de fisica mas alla del modelo estandar en general,\\r\\n\\r\\nEstudio de senales de neutrinos emitidos por supernovas (Fisica de Astroparticulas),\\r\\n\\r\\nFisica de energias intermedias.\\r\\n\\r\\nCosmología',\n",
       "    'TXT_ESTADO_ARTE': 'El modelo estandar (M E) ha pasado con exito las mas estrictas pruebas experimentales no solo a nivel clasico, sino tambien a nivel cuantico con solo una evidencia de necesidad de nueva fisica: las anomalias solar y atmosferica de neutrinos. Aun asi, el M E tiene algunas falencias teoricas que han motivado el desarrollo de una serie de modelos los cuales predicen nuevas particulas que pueden estar al alcance de los aceleradores presentes y futuros. Entre las extensiones mas estudiadas del M E en la actualidad estan las motivadas epecialmente por la solucion del problema de la jerarquia de masa del Higgs (la renormalizacion de la masa del Higgs en el ME involucra divergencias cuadraticas) como supersimetria y dimensiones extra, las cuales a su vez pueden acomodar los resultados sobre anomalias de neutrinos. Otros modelos de fisica mas alla del M E estan basados en extensiones del grupo gauge como las teorias de gran unificacion o los modelos del tipo SU(3)_cxSU(3)XU(1).\\r\\nEs importante recalcar que nuestro grupo ha venido trabajando en todos estos topicos.',\n",
       "    'TXT_OBJETIVOS': 'Contribuir al desarrollo de la física teórica y hacer investigación básica en el área de la fenomenología de las partículas elementales y los tópicos relacionados.\\r\\n\\r\\nConstruir modelos para explicar y predecir los resultados experimentales obtenidos en los aceleradores y demás laboratorios de física de partículas elementales.\\r\\n\\r\\nEstudiar y explorar nuevas teorías que expliquen el comportamiento de la materia a muy altas energías.\\r\\n\\r\\nEnseñar los tópicos de esta área de investigación a nuevos estudiantes para mantener y fortalecer el grupo de investigación.\\r\\n\\r\\nContribuir al fortalecimiento de la red nacional de investigadores en esta área del conocimiento.\\r\\n\\r\\nMejorar la percepción y entendimiento que tiene el publico en general de la física de altas energías.',\n",
       "    'TXT_PROD_DESTACADA': 'sobre propiedades electromanegticas de neutrinos: M. Hirsch, E. Nardi and D. Restrepo *Bounds on the tau and muon neutrino vector and axial vector charge radius,*  Phys Rev. D 67:033005 (2003)\\r\\n\\r\\nsobre extensiones del sector de gauge de modelo estandar que permiten generar masas para los neutrinos :R. Martinez, W.A. Ponce and L.A.Sanchez, Phys Rev. D 65 (2002) 055013 \\r\\n\\r\\nsobre la explicacion de las anomalias de neutrinos usando supersimetria: J.M.Mira, E. Nardi, D.A. Restrepo and J.W Valle, Phys lett. B 492 (2000) 81\\r\\n\\r\\nsobre implicaciones astrofisicas de neutrinos: E, Nardi and J.I. Zuluaga, astrophys. J. 549 (2001) 1076\\r\\n\\r\\nsobre la solucion del problema \\\\mu en supersimetria:J.M.Mira, E. Nardi and D.A. Restrepo\\r\\nPhys Rev. D 62 (2000) 016002\\r\\n',\n",
       "    'TXT_RETOS': 'Proyectarnos a nivel latinoamericano e internacional en los próximos dos años. Para ello necesitamos consolidar las colaboraciones que tenemos con los grupos nacionales y extranjeros en áreas de alto interés para la comunidad científica en nuestro campo como son los modelos supersimétricos para la generación de masas y mezclas para neutrinos, y las implicaciones fenomenológicas de modelos de dimensiones extras y con estructura gauge extendida tanto en sus versiones normales como supersimetrizadas. También necesitamos consolidar la formación de recurso humanos no sólo a través de la línea de doctorado y maestría sino también fomentando la formación posdoctoral de los miembros más jóvenes de nuestro grupo.',\n",
       "    'TXT_VISION': 'Ser protagonistas en la simulación e interpretación de la gran avalancha de resultados experimantales que se genera con el funcionamiento del LARGE HADRON COLLIDER en Europa , los resultados de alta luminosidad del TEVATRON en Estados Unidos, el experimento PIER AUGER en Argentina, y los diferentes experimentos de neutrinos solares con angulo de mezcla grande o MUNU en Rusia para explorar las propiedades electromagnéticas de los neutrinos y los satélites de medición precisa de las fluctuaciones de la radiación cósmica de fondo como WMAP y PLANCK y sus implicaciones en la física de neutrinos.',\n",
       "    'STA_CERTIFICADO': 'T',\n",
       "    'DTA_CERTIFICADO': 'Thu, 21 Jan 2016 00:00:00 GMT',\n",
       "    'DTA_CREACION': 'Tue, 11 Sep 2007 13:29:58 GMT',\n",
       "    'DTA_ACTUALIZACION': 'Tue, 24 May 2022 19:50:25 GMT',\n",
       "    'COD_CERTIFICACION': 'COL0008423201601211837',\n",
       "    'DTA_INI_SESION': 'Wed, 26 Jan 2022 07:30:12 GMT',\n",
       "    'TXT_CLASIF_1': 'A1',\n",
       "    'STA_CENTRO': 'F',\n",
       "    'STA_SECTOR': 'F',\n",
       "    'STA_ACTIVO': 'A',\n",
       "    'NRO_BLOQUEOS': 2,\n",
       "    'COD_AREA_CONHEC_BK': '1C',\n",
       "    'institution': [{'COD_INST': '007300000887',\n",
       "      'COD_INST_MACRO': '007300000887',\n",
       "      'NME_INST': 'UNIVERSIDAD DE ANTIOQUIA',\n",
       "      'SGL_INST': 'UdeA',\n",
       "      'COD_SECTOR_ECON': '241',\n",
       "      'SGL_PAIS': '1',\n",
       "      'SGL_DEPARTAMENTO': '31',\n",
       "      'COD_RH_MUNICIPIO': '0000000000',\n",
       "      'COD_MUNICIPIO': '786',\n",
       "      'URL_HOME_PAGE': 'http://www.udea.edu.co',\n",
       "      'TXT_DIRECCION': 'Calle 67 53-10',\n",
       "      'TXT_TELEFONO': ' 4-2195190',\n",
       "      'TXT_EMAIL': 'viceinvestigacion@udea.edu.co',\n",
       "      'TXT_NIT': '890980040',\n",
       "      'TXT_DIGITO_VERIFICADOR': '8',\n",
       "      'ID_REPRESENTANTE': 4,\n",
       "      'TPO_AVAL': '1',\n",
       "      'TXT_CIUDAD_INST': 'Medellín',\n",
       "      'TPO_CONTRIBUYENTE': 6,\n",
       "      'STA_EXPORTA': 12,\n",
       "      'COD_NIVEL': 1,\n",
       "      'COD_IES': '1201',\n",
       "      'DTA_CONSTITUCION': 'Sat, 30 May 1964 00:00:00 GMT',\n",
       "      'DTA_CREACION': 'Mon, 12 May 2008 12:34:11 GMT',\n",
       "      'DTA_ACTUALIZACION': 'Mon, 08 Feb 2021 08:46:45 GMT',\n",
       "      'COD_SECTOR_ECON2': '1011',\n",
       "      'ID_INSTITUCION': 883,\n",
       "      'STA_TERMINOS_COND': 'T',\n",
       "      'DTA_ACEPTA_TERMINOS': 'Mon, 08 Feb 2021 08:45:14 GMT'}],\n",
       "    'knowledge_area': [{'COD_RH': '0000000000',\n",
       "      'COD_AREA_CONOCIMIENTO': '1C03',\n",
       "      'TXT_NME_AREA': 'Física de Partículas y Campos',\n",
       "      'NRO_NIVEL': 2,\n",
       "      'TXT_VERIFICADO': 'T',\n",
       "      'COD_RH_PADRE': '0000000000',\n",
       "      'COD_AREA_PADRE': '1C',\n",
       "      'COD_RH_FULL': '0000000000',\n",
       "      'COD_AREA_CONOCIMIENTO_FULL': '1 - 1C - 1C03',\n",
       "      'TXT_NME_AREA_FULL': 'Ciencias Naturales -- Ciencias Físicas -- Física de Partículas y Campos',\n",
       "      'TPO_CAMBIO': 'T',\n",
       "      'DTA_CREACION': 'Thu, 31 Oct 2013 00:00:00 GMT',\n",
       "      'DTA_ACTUALIZACION': 'Thu, 31 Oct 2013 00:00:00 GMT',\n",
       "      'knowledge_area': [{'COD_RH': '0000000000',\n",
       "        'COD_AREA_CONOCIMIENTO': '1C',\n",
       "        'TXT_NME_AREA': 'Ciencias Físicas',\n",
       "        'NRO_NIVEL': 1,\n",
       "        'TXT_VERIFICADO': 'T',\n",
       "        'COD_RH_PADRE': '0000000000',\n",
       "        'COD_AREA_PADRE': '1',\n",
       "        'COD_RH_FULL': '0000000000',\n",
       "        'COD_AREA_CONOCIMIENTO_FULL': '1 - 1C',\n",
       "        'TXT_NME_AREA_FULL': 'Ciencias Naturales -- Ciencias Físicas',\n",
       "        'TPO_CAMBIO': 'T',\n",
       "        'DTA_CREACION': 'Thu, 31 Oct 2013 00:00:00 GMT',\n",
       "        'DTA_ACTUALIZACION': 'Fri, 15 Nov 2013 11:42:07 GMT',\n",
       "        'knowledge_area': [{'COD_RH': '0000000000',\n",
       "          'COD_AREA_CONOCIMIENTO': '1',\n",
       "          'TXT_NME_AREA': 'Ciencias Naturales',\n",
       "          'NRO_NIVEL': 0,\n",
       "          'TXT_VERIFICADO': 'T',\n",
       "          'COD_RH_PADRE': '0000000000',\n",
       "          'TXT_NME_AREA_FULL': 'Ciencias Naturales',\n",
       "          'TPO_CAMBIO': 'T',\n",
       "          'DTA_CREACION': 'Thu, 31 Oct 2013 00:00:00 GMT',\n",
       "          'DTA_ACTUALIZACION': 'Thu, 31 Oct 2013 00:00:00 GMT'}]}]}]}],\n",
       "  'author_others': [{'COD_RH_CREA': '0000177733',\n",
       "    'COD_RH_OTRO': '0',\n",
       "    'TXT_NME_RH': 'Diego Alejandro',\n",
       "    'TXT_PRIM_APELL': 'Restrepo',\n",
       "    'TXT_SEG_APELL': 'Quintero',\n",
       "    'SGL_PAIS': 'COL',\n",
       "    'TPO_NACIONALIDAD': 'C',\n",
       "    'DTA_NACIMIENTO': 'Wed, 10 Mar 1971 00:00:00 GMT',\n",
       "    'TPO_DOC_IDENTIFICACION': 'C',\n",
       "    'NRO_DOC_IDENTIFICACION': '98554575',\n",
       "    'NRO_ID_CNPQ': '4193202494462358',\n",
       "    'DTA_CREACION': 'Mon, 16 Dec 2002 12:21:43 GMT',\n",
       "    'DTA_ACTUALIZACION': 'Fri, 26 Jan 2018 17:04:18 GMT',\n",
       "    'TXT_TOTAL_NAMES': 'Diego Alejandro Restrepo Quintero',\n",
       "    'COD_RH_REF': '0000177733',\n",
       "    'COD_ORCID': '0000-0001-6455-5564',\n",
       "    'AUTOR_ID_SCP': '7005721136'},\n",
       "   {'COD_RH_CREA': '0000177733',\n",
       "    'COD_RH_OTRO': '86',\n",
       "    'TXT_NME_RH': 'Carlos Andrés',\n",
       "    'TXT_PRIM_APELL': 'Flórez',\n",
       "    'TXT_SEG_APELL': 'Bustos',\n",
       "    'SGL_PAIS': 'COL',\n",
       "    'TPO_NACIONALIDAD': 'C',\n",
       "    'DTA_NACIMIENTO': 'Mon, 26 Nov 1979 00:00:00 GMT',\n",
       "    'TPO_DOC_IDENTIFICACION': 'C',\n",
       "    'NRO_DOC_IDENTIFICACION': '80147719',\n",
       "    'NRO_ID_CNPQ': '7205972292486355',\n",
       "    'DTA_CREACION': 'Tue, 13 Jun 2017 18:39:03 GMT',\n",
       "    'DTA_ACTUALIZACION': 'Tue, 13 Jun 2017 18:39:03 GMT',\n",
       "    'TXT_TOTAL_NAMES': 'Carlos Andrés Flórez Bustos',\n",
       "    'COD_RH_REF': '0001541878'},\n",
       "   {'COD_RH_CREA': '0000177733',\n",
       "    'COD_RH_OTRO': '89',\n",
       "    'TXT_NME_RH': 'Julián Andrés',\n",
       "    'TXT_PRIM_APELL': 'Calle',\n",
       "    'TXT_SEG_APELL': 'Mosquera',\n",
       "    'SGL_PAIS': 'COL',\n",
       "    'TPO_NACIONALIDAD': 'C',\n",
       "    'DTA_NACIMIENTO': 'Thu, 09 Jun 1994 00:00:00 GMT',\n",
       "    'TPO_DOC_IDENTIFICACION': 'C',\n",
       "    'NRO_DOC_IDENTIFICACION': '1017220257',\n",
       "    'NRO_ID_CNPQ': '5338556277462423',\n",
       "    'DTA_CREACION': 'Sat, 27 Apr 2019 20:55:01 GMT',\n",
       "    'DTA_ACTUALIZACION': 'Sat, 27 Apr 2019 20:55:01 GMT',\n",
       "    'TXT_TOTAL_NAMES': 'Julián Andrés Calle Mosquera',\n",
       "    'COD_RH_REF': '0000185653'}],\n",
       "  'details': [{'article': [{'COD_RH': '0000177733',\n",
       "      'COD_PRODUCTO': '130',\n",
       "      'COD_REVISTA': 125329,\n",
       "      'COD_RH_MUNICIPIO': '0000177733',\n",
       "      'COD_MUNICIPIO': '10',\n",
       "      'TXT_VOLUMEN_REVISTA': '98',\n",
       "      'TXT_FASCICULO_REVISTA': '055016',\n",
       "      'TXT_PAGINA_INICIAL': '1',\n",
       "      'TXT_PAGINA_FINAL': '8',\n",
       "      'DTA_CREACION': 'Sat, 27 Apr 2019 21:48:51 GMT',\n",
       "      'DTA_ACTUALIZACION': 'Sat, 27 Apr 2019 21:48:51 GMT',\n",
       "      'journal': [{'COD_REVISTA': 125329,\n",
       "        'TXT_ISSN_SEP': '2470-0010',\n",
       "        'TXT_ISSN': '24700010',\n",
       "        'COD_REVISTA_REF': 1235493,\n",
       "        'TXT_ISSN_REF_SEP': '2470-0029',\n",
       "        'TXT_ISSN_REF': '24700029',\n",
       "        'TXT_NME_REVISTA': 'Physical Review D',\n",
       "        'SGL_PAIS': 'EUA',\n",
       "        'TPO_REVISTA': 'P',\n",
       "        'COD_EDITORIAL': 705,\n",
       "        'STA_VERIFICADA': 'P',\n",
       "        'editorial': [{'COD_EDITORIAL': 705,\n",
       "          'TXT_NME_EDITORIAL': 'The American Physical Society',\n",
       "          'COD_RH_MUNICIPIO': '0000000000',\n",
       "          'TXT_PAGINA_WEB': '\"http://www.aps.org/\"',\n",
       "          'TPO_INSTITUCION': 'IL',\n",
       "          'TXT_REFERENCIA': 'O'}]}]}]},\n",
       "   {'keywords': [{'COD_RH': '0000177733',\n",
       "      'COD_PALABRA_CLAVE': 45,\n",
       "      'TXT_NME_PALABRA_CLAVE': 'effective Lagrangian',\n",
       "      'DTA_CREACION': 'Thu, 09 Oct 2008 05:12:30 GMT',\n",
       "      'DTA_ACTUALIZACION': 'Thu, 09 Oct 2008 05:12:30 GMT'},\n",
       "     {'COD_RH': '0000177733',\n",
       "      'COD_PALABRA_CLAVE': 64,\n",
       "      'TXT_NME_PALABRA_CLAVE': 'Beyond Standard Model',\n",
       "      'DTA_CREACION': 'Thu, 09 Oct 2008 05:12:30 GMT',\n",
       "      'DTA_ACTUALIZACION': 'Thu, 09 Oct 2008 05:12:30 GMT'}]}],\n",
       "  'NIVEL_MAX': '111: Publicado en revista especializada'},\n",
       " {'_id': ObjectId('637d3a26244b9f9d0fe574b4'),\n",
       "  'COD_RH': '0000177733',\n",
       "  'COD_PRODUCTO': '139',\n",
       "  'TXT_NME_PROD': 'Singlet-doublet Dirac dark matter and neutrino masses',\n",
       "  'SGL_IDIOMA': 'EN',\n",
       "  'COD_TIPO_PRODUCTO': '111',\n",
       "  'SGL_PAIS': 'ITA',\n",
       "  'NRO_ANO_PRESENTA': 2019,\n",
       "  'NRO_MES_PRESENTA': 8,\n",
       "  'TXT_WEB_PRODUCTO': 'https://doi.org/10.1103/PhysRevD.100.035029',\n",
       "  'TPO_MEDIO_DIVULGACION': 'H',\n",
       "  'STA_CERTIFICADO': '0',\n",
       "  'STA_VERIFICACION_AUTO': '0',\n",
       "  'STA_VERIFICACION_USUA': '4',\n",
       "  'DTA_CREACION': 'Fri, 23 Apr 2021 12:17:12 GMT',\n",
       "  'DTA_ACTUALIZACION': 'Fri, 23 Apr 2021 12:17:12 GMT',\n",
       "  'NRO_PATENTES': 0,\n",
       "  'NRO_SECRETOS': 0,\n",
       "  'TXT_DOI': '10.1103/PhysRevD.100.035029',\n",
       "  'NRO_REGISTROS': 0,\n",
       "  'SGL_CATEGORIA': 'PID-PID_C',\n",
       "  'NRO_ARTISTICAS_DET': 0,\n",
       "  'author': [{'COD_RH': '0000177733',\n",
       "    'NRO_ID_CNPQ': '4193202494462358',\n",
       "    'TXT_NAMES_RH': 'Diego Alejandro',\n",
       "    'TXT_PRIM_APELL': 'Restrepo',\n",
       "    'TXT_SEG_APELL': 'Quintero',\n",
       "    'TXT_TOTAL_NAMES': 'Diego Alejandro Restrepo Quintero',\n",
       "    'TPO_NACIONALIDAD': 'C',\n",
       "    'DTA_NACIM': 'Wed, 10 Mar 1971 00:00:00 GMT',\n",
       "    'TPO_DOCUMENTO_IDENT': 'C',\n",
       "    'TPO_SEXO': 'M',\n",
       "    'COD_RH_MUN_NACIM': '0000000000',\n",
       "    'COD_MUN_NACIM': '297',\n",
       "    'NRO_DOCUMENTO_IDENT': '98554575',\n",
       "    'COD_RH_MUN_EXPED_DOC': '0000000000',\n",
       "    'COD_MUN_EXPED_DOC': '296',\n",
       "    'NRO_PASAPORTE': 'AM864262',\n",
       "    'COD_RH_RELIGION': '0000000000',\n",
       "    'SGL_PAIS_NACIM': 'COL',\n",
       "    'TPO_ESTADO_CIVIL': 'C',\n",
       "    'TPO_DIRECCION_USUAL': 'I',\n",
       "    'TPO_DOC_ACTUALIZACION': 'CCO',\n",
       "    'TPO_VER_DOC_ACTUALIZACION': '2.0.0',\n",
       "    'TXT_CITACION_BIBLIO': 'RESTREPO QUINTERO DIEGO ALEJANDRO',\n",
       "    'STA_CERTIFICADO': 'T',\n",
       "    'DTA_CERTIFICADO': 'Wed, 25 Feb 2009 00:00:00 GMT',\n",
       "    'TXT_RESPUESTA': 'greco',\n",
       "    'TXT_PREGUNTA': 'perro?',\n",
       "    'DTA_CREACION': 'Mon, 16 Dec 2002 12:21:43 GMT',\n",
       "    'DTA_ACTUALIZACION': 'Wed, 06 Apr 2022 13:37:32 GMT',\n",
       "    'COD_CERTIFICACION': '0000177733201403141215',\n",
       "    'STA_VISIBLE': 'T',\n",
       "    'TPO_PERFIL': 'IS',\n",
       "    'TXT_CONF_DATOS': 'T',\n",
       "    'COD_ORCID': '0000-0001-6455-5564',\n",
       "    'AUTOR_ID_SCP': '7005721136',\n",
       "    'STA_ACTIVO': 'A',\n",
       "    'city': [{'COD_RH_MUNICIPIO': '0000000000',\n",
       "      'COD_MUNICIPIO': '297',\n",
       "      'ID_MUNICIPIO': 433,\n",
       "      'SGL_DEPARTAMENTO': 'AN',\n",
       "      'SGL_PAIS': 'COL',\n",
       "      'COD_MUNI_DANE': '05282',\n",
       "      'TXT_NME_MUNICIPIO': 'FREDONIA',\n",
       "      'DTA_CREACION': 'Wed, 07 May 2008 12:29:11 GMT',\n",
       "      'DTA_ACTUALIZACION': 'Tue, 19 Apr 2022 11:04:53 GMT',\n",
       "      'ID_PAIS': 1,\n",
       "      'ID_DEPARTAMENTO': 31,\n",
       "      'department': [{'SGL_PAIS': 'COL',\n",
       "        'SGL_DEPARTAMENTO': 'AN',\n",
       "        'ID_DEPARTAMENTO': 31,\n",
       "        'SGL_REGION': 'NW',\n",
       "        'COD_DEPA_DANE': '05',\n",
       "        'TXT_NME_DEPARTAMENTO': 'ANTIOQUIA',\n",
       "        'DTA_CREACION': 'Fri, 24 Oct 2008 11:45:35 GMT',\n",
       "        'DTA_ACTUALIZACION': 'Tue, 19 Apr 2022 10:07:15 GMT',\n",
       "        'ID_PAIS': 1,\n",
       "        'ID': 31,\n",
       "        'country': [{'SGL_PAIS': 'COL',\n",
       "          'TXT_NME_PAIS': 'Colombia',\n",
       "          'SGL_IDIOMA': 'EN',\n",
       "          'SGL_PAIS_ISO_2': 'CO',\n",
       "          'COD_PAIS_SIGP': 19,\n",
       "          'SGL_CONTINENTE_4': 'AME',\n",
       "          'SGL_CONTINENTE': 'AME',\n",
       "          'SGL_CONTINENTE_6': 'AME',\n",
       "          'SGL_CONTINENTE_7': 'SAM',\n",
       "          'SGL_CONTINENTE_8': 'SAM',\n",
       "          'DTA_CREACION': 'Fri, 05 Jun 2015 14:54:15 GMT',\n",
       "          'DTA_ACTUALIZACION': 'Fri, 05 Jun 2015 14:54:20 GMT',\n",
       "          'TXT_NME_PAIS_ING': 'Colombia',\n",
       "          'ID': 1}]}]}]}],\n",
       "  'language': [{'SGL_IDIOMA': 'EN',\n",
       "    'TXT_NME_IDIOMA': 'Inglés',\n",
       "    'NRO_IMPORTANCIA': 2,\n",
       "    'DTA_CREACION': 'Fri, 05 Jun 2015 14:54:15 GMT',\n",
       "    'DTA_ACTUALIZACION': 'Fri, 05 Jun 2015 14:54:15 GMT'}],\n",
       "  'product_type': [{'COD_TIPO_PRODUCTO': '111',\n",
       "    'TXT_NME_TIPO_PRODUCTO': 'Publicado en revista especializada',\n",
       "    'NRO_NIVEL': 2,\n",
       "    'COD_TIPO_PRODUCTO_PADRE': '11',\n",
       "    'STA_ACTIVO': 'T',\n",
       "    'TPO_CLASE': 'NC',\n",
       "    'product_type': [{'COD_TIPO_PRODUCTO': '11',\n",
       "      'TXT_NME_TIPO_PRODUCTO': 'Artículo',\n",
       "      'NRO_NIVEL': 1,\n",
       "      'COD_TIPO_PRODUCTO_PADRE': '1',\n",
       "      'STA_ACTIVO': 'T',\n",
       "      'product_type': [{'COD_TIPO_PRODUCTO': '1',\n",
       "        'TXT_NME_TIPO_PRODUCTO': 'Producción bibliográfica',\n",
       "        'NRO_NIVEL': 0,\n",
       "        'STA_ACTIVO': 'T'}]}]}],\n",
       "  'project': [{'COD_RH': '0000177733',\n",
       "    'COD_PROYECTO': '22',\n",
       "    'TXT_NME_PROYECTO': 'Materia oscura, masas de neutrinos y rayos gamma',\n",
       "    'TXT_RESUMEN_PROYECTO': 'Postdocs Colciencias\\r\\n',\n",
       "    'TPO_PROYECTO': 'ID',\n",
       "    'NRO_MES_INICIO': 10,\n",
       "    'NRO_ANO_INICIO': 2018,\n",
       "    'NRO_MES_FIN': 2,\n",
       "    'NRO_ANO_FIN': 2020,\n",
       "    'DTA_CREACION': 'Fri, 23 Apr 2021 12:12:21 GMT',\n",
       "    'DTA_ACTUALIZACION': 'Fri, 23 Apr 2021 12:12:21 GMT',\n",
       "    'TPO_FINANCIACION': 'FI',\n",
       "    'TPO_FTE_FINAN': 'I',\n",
       "    'TPO_AMB_FINAN': 'N',\n",
       "    'STA_AVAL_INST': 'F',\n",
       "    'SGL_CATEGORIA': 'PID-PID_C'}],\n",
       "  'NRO_ID_GRUPO': '00000000001676',\n",
       "  'SEQ_PRODUCTO': 32113,\n",
       "  'DTA_VINCULACION': 'Fri, 23 Apr 2021 12:17:12 GMT',\n",
       "  'STA_HUERFANO': 'F',\n",
       "  'STA_MEDIDO': 'T',\n",
       "  'group': [{'NRO_ID_GRUPO': '00000000001676',\n",
       "    'COD_ID_GRUPO': 'COL0008423',\n",
       "    'NME_GRUPO': 'Grupo de Fenomenologia de Interacciones Fundamentales',\n",
       "    'ANO_FORMACAO': 1979,\n",
       "    'MES_FORMACAO': 12,\n",
       "    'COD_RH_AREA': '0000000000',\n",
       "    'COD_AREA_CONHEC': '1C03',\n",
       "    'COD_PROGRAMA': 5,\n",
       "    'COD_PROGRAMA_SECUND': 0,\n",
       "    'TPO_ESTADO_GR': 0,\n",
       "    'TXT_CLASIF': 'A1',\n",
       "    'DTA_CLASIF': 'Tue, 24 May 2022 00:00:00 GMT',\n",
       "    'DTA_FIN_CLASIF': 'Thu, 23 May 2024 00:00:00 GMT',\n",
       "    'TPO_GRUPO': 'T',\n",
       "    'DTA_TPO_GRUPO': 'Tue, 24 May 2022 00:00:00 GMT',\n",
       "    'STA_ELIMINADO': 'F',\n",
       "    'TXT_PLAN_TRABAJO': 'Estudio teorico de la fenomenologia del modelo estandar,\\r\\n\\r\\nAnalisis de extensiones supersimetricas del modelo estandar y de fisica mas alla del modelo estandar en general,\\r\\n\\r\\nEstudio de senales de neutrinos emitidos por supernovas (Fisica de Astroparticulas),\\r\\n\\r\\nFisica de energias intermedias.\\r\\n\\r\\nCosmología',\n",
       "    'TXT_ESTADO_ARTE': 'El modelo estandar (M E) ha pasado con exito las mas estrictas pruebas experimentales no solo a nivel clasico, sino tambien a nivel cuantico con solo una evidencia de necesidad de nueva fisica: las anomalias solar y atmosferica de neutrinos. Aun asi, el M E tiene algunas falencias teoricas que han motivado el desarrollo de una serie de modelos los cuales predicen nuevas particulas que pueden estar al alcance de los aceleradores presentes y futuros. Entre las extensiones mas estudiadas del M E en la actualidad estan las motivadas epecialmente por la solucion del problema de la jerarquia de masa del Higgs (la renormalizacion de la masa del Higgs en el ME involucra divergencias cuadraticas) como supersimetria y dimensiones extra, las cuales a su vez pueden acomodar los resultados sobre anomalias de neutrinos. Otros modelos de fisica mas alla del M E estan basados en extensiones del grupo gauge como las teorias de gran unificacion o los modelos del tipo SU(3)_cxSU(3)XU(1).\\r\\nEs importante recalcar que nuestro grupo ha venido trabajando en todos estos topicos.',\n",
       "    'TXT_OBJETIVOS': 'Contribuir al desarrollo de la física teórica y hacer investigación básica en el área de la fenomenología de las partículas elementales y los tópicos relacionados.\\r\\n\\r\\nConstruir modelos para explicar y predecir los resultados experimentales obtenidos en los aceleradores y demás laboratorios de física de partículas elementales.\\r\\n\\r\\nEstudiar y explorar nuevas teorías que expliquen el comportamiento de la materia a muy altas energías.\\r\\n\\r\\nEnseñar los tópicos de esta área de investigación a nuevos estudiantes para mantener y fortalecer el grupo de investigación.\\r\\n\\r\\nContribuir al fortalecimiento de la red nacional de investigadores en esta área del conocimiento.\\r\\n\\r\\nMejorar la percepción y entendimiento que tiene el publico en general de la física de altas energías.',\n",
       "    'TXT_PROD_DESTACADA': 'sobre propiedades electromanegticas de neutrinos: M. Hirsch, E. Nardi and D. Restrepo *Bounds on the tau and muon neutrino vector and axial vector charge radius,*  Phys Rev. D 67:033005 (2003)\\r\\n\\r\\nsobre extensiones del sector de gauge de modelo estandar que permiten generar masas para los neutrinos :R. Martinez, W.A. Ponce and L.A.Sanchez, Phys Rev. D 65 (2002) 055013 \\r\\n\\r\\nsobre la explicacion de las anomalias de neutrinos usando supersimetria: J.M.Mira, E. Nardi, D.A. Restrepo and J.W Valle, Phys lett. B 492 (2000) 81\\r\\n\\r\\nsobre implicaciones astrofisicas de neutrinos: E, Nardi and J.I. Zuluaga, astrophys. J. 549 (2001) 1076\\r\\n\\r\\nsobre la solucion del problema \\\\mu en supersimetria:J.M.Mira, E. Nardi and D.A. Restrepo\\r\\nPhys Rev. D 62 (2000) 016002\\r\\n',\n",
       "    'TXT_RETOS': 'Proyectarnos a nivel latinoamericano e internacional en los próximos dos años. Para ello necesitamos consolidar las colaboraciones que tenemos con los grupos nacionales y extranjeros en áreas de alto interés para la comunidad científica en nuestro campo como son los modelos supersimétricos para la generación de masas y mezclas para neutrinos, y las implicaciones fenomenológicas de modelos de dimensiones extras y con estructura gauge extendida tanto en sus versiones normales como supersimetrizadas. También necesitamos consolidar la formación de recurso humanos no sólo a través de la línea de doctorado y maestría sino también fomentando la formación posdoctoral de los miembros más jóvenes de nuestro grupo.',\n",
       "    'TXT_VISION': 'Ser protagonistas en la simulación e interpretación de la gran avalancha de resultados experimantales que se genera con el funcionamiento del LARGE HADRON COLLIDER en Europa , los resultados de alta luminosidad del TEVATRON en Estados Unidos, el experimento PIER AUGER en Argentina, y los diferentes experimentos de neutrinos solares con angulo de mezcla grande o MUNU en Rusia para explorar las propiedades electromagnéticas de los neutrinos y los satélites de medición precisa de las fluctuaciones de la radiación cósmica de fondo como WMAP y PLANCK y sus implicaciones en la física de neutrinos.',\n",
       "    'STA_CERTIFICADO': 'T',\n",
       "    'DTA_CERTIFICADO': 'Thu, 21 Jan 2016 00:00:00 GMT',\n",
       "    'DTA_CREACION': 'Tue, 11 Sep 2007 13:29:58 GMT',\n",
       "    'DTA_ACTUALIZACION': 'Tue, 24 May 2022 19:50:25 GMT',\n",
       "    'COD_CERTIFICACION': 'COL0008423201601211837',\n",
       "    'DTA_INI_SESION': 'Wed, 26 Jan 2022 07:30:12 GMT',\n",
       "    'TXT_CLASIF_1': 'A1',\n",
       "    'STA_CENTRO': 'F',\n",
       "    'STA_SECTOR': 'F',\n",
       "    'STA_ACTIVO': 'A',\n",
       "    'NRO_BLOQUEOS': 2,\n",
       "    'COD_AREA_CONHEC_BK': '1C',\n",
       "    'institution': [{'COD_INST': '007300000887',\n",
       "      'COD_INST_MACRO': '007300000887',\n",
       "      'NME_INST': 'UNIVERSIDAD DE ANTIOQUIA',\n",
       "      'SGL_INST': 'UdeA',\n",
       "      'COD_SECTOR_ECON': '241',\n",
       "      'SGL_PAIS': '1',\n",
       "      'SGL_DEPARTAMENTO': '31',\n",
       "      'COD_RH_MUNICIPIO': '0000000000',\n",
       "      'COD_MUNICIPIO': '786',\n",
       "      'URL_HOME_PAGE': 'http://www.udea.edu.co',\n",
       "      'TXT_DIRECCION': 'Calle 67 53-10',\n",
       "      'TXT_TELEFONO': ' 4-2195190',\n",
       "      'TXT_EMAIL': 'viceinvestigacion@udea.edu.co',\n",
       "      'TXT_NIT': '890980040',\n",
       "      'TXT_DIGITO_VERIFICADOR': '8',\n",
       "      'ID_REPRESENTANTE': 4,\n",
       "      'TPO_AVAL': '1',\n",
       "      'TXT_CIUDAD_INST': 'Medellín',\n",
       "      'TPO_CONTRIBUYENTE': 6,\n",
       "      'STA_EXPORTA': 12,\n",
       "      'COD_NIVEL': 1,\n",
       "      'COD_IES': '1201',\n",
       "      'DTA_CONSTITUCION': 'Sat, 30 May 1964 00:00:00 GMT',\n",
       "      'DTA_CREACION': 'Mon, 12 May 2008 12:34:11 GMT',\n",
       "      'DTA_ACTUALIZACION': 'Mon, 08 Feb 2021 08:46:45 GMT',\n",
       "      'COD_SECTOR_ECON2': '1011',\n",
       "      'ID_INSTITUCION': 883,\n",
       "      'STA_TERMINOS_COND': 'T',\n",
       "      'DTA_ACEPTA_TERMINOS': 'Mon, 08 Feb 2021 08:45:14 GMT'}],\n",
       "    'knowledge_area': [{'COD_RH': '0000000000',\n",
       "      'COD_AREA_CONOCIMIENTO': '1C03',\n",
       "      'TXT_NME_AREA': 'Física de Partículas y Campos',\n",
       "      'NRO_NIVEL': 2,\n",
       "      'TXT_VERIFICADO': 'T',\n",
       "      'COD_RH_PADRE': '0000000000',\n",
       "      'COD_AREA_PADRE': '1C',\n",
       "      'COD_RH_FULL': '0000000000',\n",
       "      'COD_AREA_CONOCIMIENTO_FULL': '1 - 1C - 1C03',\n",
       "      'TXT_NME_AREA_FULL': 'Ciencias Naturales -- Ciencias Físicas -- Física de Partículas y Campos',\n",
       "      'TPO_CAMBIO': 'T',\n",
       "      'DTA_CREACION': 'Thu, 31 Oct 2013 00:00:00 GMT',\n",
       "      'DTA_ACTUALIZACION': 'Thu, 31 Oct 2013 00:00:00 GMT',\n",
       "      'knowledge_area': [{'COD_RH': '0000000000',\n",
       "        'COD_AREA_CONOCIMIENTO': '1C',\n",
       "        'TXT_NME_AREA': 'Ciencias Físicas',\n",
       "        'NRO_NIVEL': 1,\n",
       "        'TXT_VERIFICADO': 'T',\n",
       "        'COD_RH_PADRE': '0000000000',\n",
       "        'COD_AREA_PADRE': '1',\n",
       "        'COD_RH_FULL': '0000000000',\n",
       "        'COD_AREA_CONOCIMIENTO_FULL': '1 - 1C',\n",
       "        'TXT_NME_AREA_FULL': 'Ciencias Naturales -- Ciencias Físicas',\n",
       "        'TPO_CAMBIO': 'T',\n",
       "        'DTA_CREACION': 'Thu, 31 Oct 2013 00:00:00 GMT',\n",
       "        'DTA_ACTUALIZACION': 'Fri, 15 Nov 2013 11:42:07 GMT',\n",
       "        'knowledge_area': [{'COD_RH': '0000000000',\n",
       "          'COD_AREA_CONOCIMIENTO': '1',\n",
       "          'TXT_NME_AREA': 'Ciencias Naturales',\n",
       "          'NRO_NIVEL': 0,\n",
       "          'TXT_VERIFICADO': 'T',\n",
       "          'COD_RH_PADRE': '0000000000',\n",
       "          'TXT_NME_AREA_FULL': 'Ciencias Naturales',\n",
       "          'TPO_CAMBIO': 'T',\n",
       "          'DTA_CREACION': 'Thu, 31 Oct 2013 00:00:00 GMT',\n",
       "          'DTA_ACTUALIZACION': 'Thu, 31 Oct 2013 00:00:00 GMT'}]}]}]}],\n",
       "  'SEQ_PROJETO': 8530,\n",
       "  'COD_PROYECTO': '22',\n",
       "  'ANO_INIC': '2018',\n",
       "  'ANO_FIM': '2020',\n",
       "  'TXT_NOME_PROJETO': 'Materia oscura, masas de neutrinos y rayos gamma',\n",
       "  'TPO_NATUREZA': 'ID',\n",
       "  'DSC_PROJETO': 'Postdocs Colciencias\\r\\n',\n",
       "  'MES_INIC': 10,\n",
       "  'MES_FIM': 2,\n",
       "  'author_others': [{'COD_RH_CREA': '0000177733',\n",
       "    'COD_RH_OTRO': '0',\n",
       "    'TXT_NME_RH': 'Diego Alejandro',\n",
       "    'TXT_PRIM_APELL': 'Restrepo',\n",
       "    'TXT_SEG_APELL': 'Quintero',\n",
       "    'SGL_PAIS': 'COL',\n",
       "    'TPO_NACIONALIDAD': 'C',\n",
       "    'DTA_NACIMIENTO': 'Wed, 10 Mar 1971 00:00:00 GMT',\n",
       "    'TPO_DOC_IDENTIFICACION': 'C',\n",
       "    'NRO_DOC_IDENTIFICACION': '98554575',\n",
       "    'NRO_ID_CNPQ': '4193202494462358',\n",
       "    'DTA_CREACION': 'Mon, 16 Dec 2002 12:21:43 GMT',\n",
       "    'DTA_ACTUALIZACION': 'Fri, 26 Jan 2018 17:04:18 GMT',\n",
       "    'TXT_TOTAL_NAMES': 'Diego Alejandro Restrepo Quintero',\n",
       "    'COD_RH_REF': '0000177733',\n",
       "    'COD_ORCID': '0000-0001-6455-5564',\n",
       "    'AUTOR_ID_SCP': '7005721136'},\n",
       "   {'COD_RH_CREA': '0000177733',\n",
       "    'COD_RH_OTRO': '58',\n",
       "    'TXT_NME_RH': 'Andrés Felipe',\n",
       "    'TXT_PRIM_APELL': 'Rivera',\n",
       "    'TXT_SEG_APELL': 'Romero',\n",
       "    'SGL_PAIS': 'COL',\n",
       "    'TPO_NACIONALIDAD': 'C',\n",
       "    'DTA_NACIMIENTO': 'Thu, 28 Oct 1982 00:00:00 GMT',\n",
       "    'TPO_DOC_IDENTIFICACION': 'P',\n",
       "    'NRO_DOC_IDENTIFICACION': '8161616',\n",
       "    'NRO_ID_CNPQ': '5824561413835230',\n",
       "    'DTA_CREACION': 'Fri, 22 Jan 2016 11:41:11 GMT',\n",
       "    'DTA_ACTUALIZACION': 'Sun, 21 Jun 2020 20:43:22 GMT',\n",
       "    'TXT_TOTAL_NAMES': 'Andrés Felipe Rivera Romero',\n",
       "    'COD_RH_REF': '0001201360',\n",
       "    'COD_ORCID': '0000-0002-6256-8545'}],\n",
       "  'details': [{'article': [{'COD_RH': '0000177733',\n",
       "      'COD_PRODUCTO': '139',\n",
       "      'COD_REVISTA': 125329,\n",
       "      'COD_RH_MUNICIPIO': '0000000000',\n",
       "      'COD_MUNICIPIO': '34613',\n",
       "      'TXT_VOLUMEN_REVISTA': '100',\n",
       "      'TXT_FASCICULO_REVISTA': '3',\n",
       "      'TXT_PAGINA_INICIAL': '035029-1',\n",
       "      'TXT_PAGINA_FINAL': '035029-11',\n",
       "      'DTA_CREACION': 'Wed, 14 Apr 2021 12:00:35 GMT',\n",
       "      'DTA_ACTUALIZACION': 'Wed, 14 Apr 2021 12:12:23 GMT',\n",
       "      'journal': [{'COD_REVISTA': 125329,\n",
       "        'TXT_ISSN_SEP': '2470-0010',\n",
       "        'TXT_ISSN': '24700010',\n",
       "        'COD_REVISTA_REF': 1235493,\n",
       "        'TXT_ISSN_REF_SEP': '2470-0029',\n",
       "        'TXT_ISSN_REF': '24700029',\n",
       "        'TXT_NME_REVISTA': 'Physical Review D',\n",
       "        'SGL_PAIS': 'EUA',\n",
       "        'TPO_REVISTA': 'P',\n",
       "        'COD_EDITORIAL': 705,\n",
       "        'STA_VERIFICADA': 'P',\n",
       "        'editorial': [{'COD_EDITORIAL': 705,\n",
       "          'TXT_NME_EDITORIAL': 'The American Physical Society',\n",
       "          'COD_RH_MUNICIPIO': '0000000000',\n",
       "          'TXT_PAGINA_WEB': '\"http://www.aps.org/\"',\n",
       "          'TPO_INSTITUCION': 'IL',\n",
       "          'TXT_REFERENCIA': 'O'}]}]}]},\n",
       "   {'keywords': [{'COD_RH': '0000177733',\n",
       "      'COD_PALABRA_CLAVE': 62,\n",
       "      'TXT_NME_PALABRA_CLAVE': 'Dark Matter',\n",
       "      'DTA_CREACION': 'Thu, 09 Oct 2008 05:12:30 GMT',\n",
       "      'DTA_ACTUALIZACION': 'Thu, 09 Oct 2008 05:12:30 GMT'},\n",
       "     {'COD_RH': '0000177733',\n",
       "      'COD_PALABRA_CLAVE': 67,\n",
       "      'TXT_NME_PALABRA_CLAVE': 'Dark matter experiments',\n",
       "      'DTA_CREACION': 'Wed, 14 Apr 2021 12:02:40 GMT',\n",
       "      'DTA_ACTUALIZACION': 'Wed, 14 Apr 2021 12:02:40 GMT'},\n",
       "     {'COD_RH': '0000177733',\n",
       "      'COD_PALABRA_CLAVE': 68,\n",
       "      'TXT_NME_PALABRA_CLAVE': 'Neutrinos',\n",
       "      'DTA_CREACION': 'Wed, 14 Apr 2021 12:03:32 GMT',\n",
       "      'DTA_ACTUALIZACION': 'Wed, 14 Apr 2021 12:03:32 GMT'},\n",
       "     {'COD_RH': '0000177733',\n",
       "      'COD_PALABRA_CLAVE': 69,\n",
       "      'TXT_NME_PALABRA_CLAVE': 'Scotogenic model',\n",
       "      'DTA_CREACION': 'Wed, 14 Apr 2021 12:03:46 GMT',\n",
       "      'DTA_ACTUALIZACION': 'Wed, 14 Apr 2021 12:03:46 GMT'}]}],\n",
       "  'NIVEL_MAX': '111: Publicado en revista especializada'},\n",
       " {'_id': ObjectId('637d3a26244b9f9d0fe574b2'),\n",
       "  'COD_RH': '0000177733',\n",
       "  'COD_PRODUCTO': '133',\n",
       "  'TXT_NME_PROD': 'Expanding the Reach of Heavy Neutrino Searches at the LHC',\n",
       "  'SGL_IDIOMA': 'EN',\n",
       "  'COD_TIPO_PRODUCTO': '111',\n",
       "  'SGL_PAIS': 'HOL',\n",
       "  'NRO_ANO_PRESENTA': 2018,\n",
       "  'NRO_MES_PRESENTA': 3,\n",
       "  'TXT_WEB_PRODUCTO': 'http://doi.org/10.1016/j.physletb.2018.01.009',\n",
       "  'TPO_MEDIO_DIVULGACION': 'H',\n",
       "  'STA_CERTIFICADO': '0',\n",
       "  'STA_VERIFICACION_AUTO': '0',\n",
       "  'STA_VERIFICACION_USUA': '4',\n",
       "  'DTA_CREACION': 'Mon, 29 Apr 2019 08:51:12 GMT',\n",
       "  'DTA_ACTUALIZACION': 'Mon, 29 Apr 2019 08:51:12 GMT',\n",
       "  'NRO_PATENTES': 0,\n",
       "  'NRO_SECRETOS': 0,\n",
       "  'TXT_DOI': '10.1016/j.physletb.2018.01.009',\n",
       "  'NRO_REGISTROS': 0,\n",
       "  'SGL_CATEGORIA': 'ART-ART_A1',\n",
       "  'NRO_ARTISTICAS_DET': 0,\n",
       "  'author': [{'COD_RH': '0000177733',\n",
       "    'NRO_ID_CNPQ': '4193202494462358',\n",
       "    'TXT_NAMES_RH': 'Diego Alejandro',\n",
       "    'TXT_PRIM_APELL': 'Restrepo',\n",
       "    'TXT_SEG_APELL': 'Quintero',\n",
       "    'TXT_TOTAL_NAMES': 'Diego Alejandro Restrepo Quintero',\n",
       "    'TPO_NACIONALIDAD': 'C',\n",
       "    'DTA_NACIM': 'Wed, 10 Mar 1971 00:00:00 GMT',\n",
       "    'TPO_DOCUMENTO_IDENT': 'C',\n",
       "    'TPO_SEXO': 'M',\n",
       "    'COD_RH_MUN_NACIM': '0000000000',\n",
       "    'COD_MUN_NACIM': '297',\n",
       "    'NRO_DOCUMENTO_IDENT': '98554575',\n",
       "    'COD_RH_MUN_EXPED_DOC': '0000000000',\n",
       "    'COD_MUN_EXPED_DOC': '296',\n",
       "    'NRO_PASAPORTE': 'AM864262',\n",
       "    'COD_RH_RELIGION': '0000000000',\n",
       "    'SGL_PAIS_NACIM': 'COL',\n",
       "    'TPO_ESTADO_CIVIL': 'C',\n",
       "    'TPO_DIRECCION_USUAL': 'I',\n",
       "    'TPO_DOC_ACTUALIZACION': 'CCO',\n",
       "    'TPO_VER_DOC_ACTUALIZACION': '2.0.0',\n",
       "    'TXT_CITACION_BIBLIO': 'RESTREPO QUINTERO DIEGO ALEJANDRO',\n",
       "    'STA_CERTIFICADO': 'T',\n",
       "    'DTA_CERTIFICADO': 'Wed, 25 Feb 2009 00:00:00 GMT',\n",
       "    'TXT_RESPUESTA': 'greco',\n",
       "    'TXT_PREGUNTA': 'perro?',\n",
       "    'DTA_CREACION': 'Mon, 16 Dec 2002 12:21:43 GMT',\n",
       "    'DTA_ACTUALIZACION': 'Wed, 06 Apr 2022 13:37:32 GMT',\n",
       "    'COD_CERTIFICACION': '0000177733201403141215',\n",
       "    'STA_VISIBLE': 'T',\n",
       "    'TPO_PERFIL': 'IS',\n",
       "    'TXT_CONF_DATOS': 'T',\n",
       "    'COD_ORCID': '0000-0001-6455-5564',\n",
       "    'AUTOR_ID_SCP': '7005721136',\n",
       "    'STA_ACTIVO': 'A',\n",
       "    'city': [{'COD_RH_MUNICIPIO': '0000000000',\n",
       "      'COD_MUNICIPIO': '297',\n",
       "      'ID_MUNICIPIO': 433,\n",
       "      'SGL_DEPARTAMENTO': 'AN',\n",
       "      'SGL_PAIS': 'COL',\n",
       "      'COD_MUNI_DANE': '05282',\n",
       "      'TXT_NME_MUNICIPIO': 'FREDONIA',\n",
       "      'DTA_CREACION': 'Wed, 07 May 2008 12:29:11 GMT',\n",
       "      'DTA_ACTUALIZACION': 'Tue, 19 Apr 2022 11:04:53 GMT',\n",
       "      'ID_PAIS': 1,\n",
       "      'ID_DEPARTAMENTO': 31,\n",
       "      'department': [{'SGL_PAIS': 'COL',\n",
       "        'SGL_DEPARTAMENTO': 'AN',\n",
       "        'ID_DEPARTAMENTO': 31,\n",
       "        'SGL_REGION': 'NW',\n",
       "        'COD_DEPA_DANE': '05',\n",
       "        'TXT_NME_DEPARTAMENTO': 'ANTIOQUIA',\n",
       "        'DTA_CREACION': 'Fri, 24 Oct 2008 11:45:35 GMT',\n",
       "        'DTA_ACTUALIZACION': 'Tue, 19 Apr 2022 10:07:15 GMT',\n",
       "        'ID_PAIS': 1,\n",
       "        'ID': 31,\n",
       "        'country': [{'SGL_PAIS': 'COL',\n",
       "          'TXT_NME_PAIS': 'Colombia',\n",
       "          'SGL_IDIOMA': 'EN',\n",
       "          'SGL_PAIS_ISO_2': 'CO',\n",
       "          'COD_PAIS_SIGP': 19,\n",
       "          'SGL_CONTINENTE_4': 'AME',\n",
       "          'SGL_CONTINENTE': 'AME',\n",
       "          'SGL_CONTINENTE_6': 'AME',\n",
       "          'SGL_CONTINENTE_7': 'SAM',\n",
       "          'SGL_CONTINENTE_8': 'SAM',\n",
       "          'DTA_CREACION': 'Fri, 05 Jun 2015 14:54:15 GMT',\n",
       "          'DTA_ACTUALIZACION': 'Fri, 05 Jun 2015 14:54:20 GMT',\n",
       "          'TXT_NME_PAIS_ING': 'Colombia',\n",
       "          'ID': 1}]}]}]}],\n",
       "  'language': [{'SGL_IDIOMA': 'EN',\n",
       "    'TXT_NME_IDIOMA': 'Inglés',\n",
       "    'NRO_IMPORTANCIA': 2,\n",
       "    'DTA_CREACION': 'Fri, 05 Jun 2015 14:54:15 GMT',\n",
       "    'DTA_ACTUALIZACION': 'Fri, 05 Jun 2015 14:54:15 GMT'}],\n",
       "  'product_type': [{'COD_TIPO_PRODUCTO': '111',\n",
       "    'TXT_NME_TIPO_PRODUCTO': 'Publicado en revista especializada',\n",
       "    'NRO_NIVEL': 2,\n",
       "    'COD_TIPO_PRODUCTO_PADRE': '11',\n",
       "    'STA_ACTIVO': 'T',\n",
       "    'TPO_CLASE': 'NC',\n",
       "    'product_type': [{'COD_TIPO_PRODUCTO': '11',\n",
       "      'TXT_NME_TIPO_PRODUCTO': 'Artículo',\n",
       "      'NRO_NIVEL': 1,\n",
       "      'COD_TIPO_PRODUCTO_PADRE': '1',\n",
       "      'STA_ACTIVO': 'T',\n",
       "      'product_type': [{'COD_TIPO_PRODUCTO': '1',\n",
       "        'TXT_NME_TIPO_PRODUCTO': 'Producción bibliográfica',\n",
       "        'NRO_NIVEL': 0,\n",
       "        'STA_ACTIVO': 'T'}]}]}],\n",
       "  'NRO_ID_GRUPO': '00000000001676',\n",
       "  'SEQ_PRODUCTO': 31671,\n",
       "  'DTA_VINCULACION': 'Mon, 29 Apr 2019 08:51:12 GMT',\n",
       "  'STA_HUERFANO': 'F',\n",
       "  'STA_MEDIDO': 'T',\n",
       "  'group': [{'NRO_ID_GRUPO': '00000000001676',\n",
       "    'COD_ID_GRUPO': 'COL0008423',\n",
       "    'NME_GRUPO': 'Grupo de Fenomenologia de Interacciones Fundamentales',\n",
       "    'ANO_FORMACAO': 1979,\n",
       "    'MES_FORMACAO': 12,\n",
       "    'COD_RH_AREA': '0000000000',\n",
       "    'COD_AREA_CONHEC': '1C03',\n",
       "    'COD_PROGRAMA': 5,\n",
       "    'COD_PROGRAMA_SECUND': 0,\n",
       "    'TPO_ESTADO_GR': 0,\n",
       "    'TXT_CLASIF': 'A1',\n",
       "    'DTA_CLASIF': 'Tue, 24 May 2022 00:00:00 GMT',\n",
       "    'DTA_FIN_CLASIF': 'Thu, 23 May 2024 00:00:00 GMT',\n",
       "    'TPO_GRUPO': 'T',\n",
       "    'DTA_TPO_GRUPO': 'Tue, 24 May 2022 00:00:00 GMT',\n",
       "    'STA_ELIMINADO': 'F',\n",
       "    'TXT_PLAN_TRABAJO': 'Estudio teorico de la fenomenologia del modelo estandar,\\r\\n\\r\\nAnalisis de extensiones supersimetricas del modelo estandar y de fisica mas alla del modelo estandar en general,\\r\\n\\r\\nEstudio de senales de neutrinos emitidos por supernovas (Fisica de Astroparticulas),\\r\\n\\r\\nFisica de energias intermedias.\\r\\n\\r\\nCosmología',\n",
       "    'TXT_ESTADO_ARTE': 'El modelo estandar (M E) ha pasado con exito las mas estrictas pruebas experimentales no solo a nivel clasico, sino tambien a nivel cuantico con solo una evidencia de necesidad de nueva fisica: las anomalias solar y atmosferica de neutrinos. Aun asi, el M E tiene algunas falencias teoricas que han motivado el desarrollo de una serie de modelos los cuales predicen nuevas particulas que pueden estar al alcance de los aceleradores presentes y futuros. Entre las extensiones mas estudiadas del M E en la actualidad estan las motivadas epecialmente por la solucion del problema de la jerarquia de masa del Higgs (la renormalizacion de la masa del Higgs en el ME involucra divergencias cuadraticas) como supersimetria y dimensiones extra, las cuales a su vez pueden acomodar los resultados sobre anomalias de neutrinos. Otros modelos de fisica mas alla del M E estan basados en extensiones del grupo gauge como las teorias de gran unificacion o los modelos del tipo SU(3)_cxSU(3)XU(1).\\r\\nEs importante recalcar que nuestro grupo ha venido trabajando en todos estos topicos.',\n",
       "    'TXT_OBJETIVOS': 'Contribuir al desarrollo de la física teórica y hacer investigación básica en el área de la fenomenología de las partículas elementales y los tópicos relacionados.\\r\\n\\r\\nConstruir modelos para explicar y predecir los resultados experimentales obtenidos en los aceleradores y demás laboratorios de física de partículas elementales.\\r\\n\\r\\nEstudiar y explorar nuevas teorías que expliquen el comportamiento de la materia a muy altas energías.\\r\\n\\r\\nEnseñar los tópicos de esta área de investigación a nuevos estudiantes para mantener y fortalecer el grupo de investigación.\\r\\n\\r\\nContribuir al fortalecimiento de la red nacional de investigadores en esta área del conocimiento.\\r\\n\\r\\nMejorar la percepción y entendimiento que tiene el publico en general de la física de altas energías.',\n",
       "    'TXT_PROD_DESTACADA': 'sobre propiedades electromanegticas de neutrinos: M. Hirsch, E. Nardi and D. Restrepo *Bounds on the tau and muon neutrino vector and axial vector charge radius,*  Phys Rev. D 67:033005 (2003)\\r\\n\\r\\nsobre extensiones del sector de gauge de modelo estandar que permiten generar masas para los neutrinos :R. Martinez, W.A. Ponce and L.A.Sanchez, Phys Rev. D 65 (2002) 055013 \\r\\n\\r\\nsobre la explicacion de las anomalias de neutrinos usando supersimetria: J.M.Mira, E. Nardi, D.A. Restrepo and J.W Valle, Phys lett. B 492 (2000) 81\\r\\n\\r\\nsobre implicaciones astrofisicas de neutrinos: E, Nardi and J.I. Zuluaga, astrophys. J. 549 (2001) 1076\\r\\n\\r\\nsobre la solucion del problema \\\\mu en supersimetria:J.M.Mira, E. Nardi and D.A. Restrepo\\r\\nPhys Rev. D 62 (2000) 016002\\r\\n',\n",
       "    'TXT_RETOS': 'Proyectarnos a nivel latinoamericano e internacional en los próximos dos años. Para ello necesitamos consolidar las colaboraciones que tenemos con los grupos nacionales y extranjeros en áreas de alto interés para la comunidad científica en nuestro campo como son los modelos supersimétricos para la generación de masas y mezclas para neutrinos, y las implicaciones fenomenológicas de modelos de dimensiones extras y con estructura gauge extendida tanto en sus versiones normales como supersimetrizadas. También necesitamos consolidar la formación de recurso humanos no sólo a través de la línea de doctorado y maestría sino también fomentando la formación posdoctoral de los miembros más jóvenes de nuestro grupo.',\n",
       "    'TXT_VISION': 'Ser protagonistas en la simulación e interpretación de la gran avalancha de resultados experimantales que se genera con el funcionamiento del LARGE HADRON COLLIDER en Europa , los resultados de alta luminosidad del TEVATRON en Estados Unidos, el experimento PIER AUGER en Argentina, y los diferentes experimentos de neutrinos solares con angulo de mezcla grande o MUNU en Rusia para explorar las propiedades electromagnéticas de los neutrinos y los satélites de medición precisa de las fluctuaciones de la radiación cósmica de fondo como WMAP y PLANCK y sus implicaciones en la física de neutrinos.',\n",
       "    'STA_CERTIFICADO': 'T',\n",
       "    'DTA_CERTIFICADO': 'Thu, 21 Jan 2016 00:00:00 GMT',\n",
       "    'DTA_CREACION': 'Tue, 11 Sep 2007 13:29:58 GMT',\n",
       "    'DTA_ACTUALIZACION': 'Tue, 24 May 2022 19:50:25 GMT',\n",
       "    'COD_CERTIFICACION': 'COL0008423201601211837',\n",
       "    'DTA_INI_SESION': 'Wed, 26 Jan 2022 07:30:12 GMT',\n",
       "    'TXT_CLASIF_1': 'A1',\n",
       "    'STA_CENTRO': 'F',\n",
       "    'STA_SECTOR': 'F',\n",
       "    'STA_ACTIVO': 'A',\n",
       "    'NRO_BLOQUEOS': 2,\n",
       "    'COD_AREA_CONHEC_BK': '1C',\n",
       "    'institution': [{'COD_INST': '007300000887',\n",
       "      'COD_INST_MACRO': '007300000887',\n",
       "      'NME_INST': 'UNIVERSIDAD DE ANTIOQUIA',\n",
       "      'SGL_INST': 'UdeA',\n",
       "      'COD_SECTOR_ECON': '241',\n",
       "      'SGL_PAIS': '1',\n",
       "      'SGL_DEPARTAMENTO': '31',\n",
       "      'COD_RH_MUNICIPIO': '0000000000',\n",
       "      'COD_MUNICIPIO': '786',\n",
       "      'URL_HOME_PAGE': 'http://www.udea.edu.co',\n",
       "      'TXT_DIRECCION': 'Calle 67 53-10',\n",
       "      'TXT_TELEFONO': ' 4-2195190',\n",
       "      'TXT_EMAIL': 'viceinvestigacion@udea.edu.co',\n",
       "      'TXT_NIT': '890980040',\n",
       "      'TXT_DIGITO_VERIFICADOR': '8',\n",
       "      'ID_REPRESENTANTE': 4,\n",
       "      'TPO_AVAL': '1',\n",
       "      'TXT_CIUDAD_INST': 'Medellín',\n",
       "      'TPO_CONTRIBUYENTE': 6,\n",
       "      'STA_EXPORTA': 12,\n",
       "      'COD_NIVEL': 1,\n",
       "      'COD_IES': '1201',\n",
       "      'DTA_CONSTITUCION': 'Sat, 30 May 1964 00:00:00 GMT',\n",
       "      'DTA_CREACION': 'Mon, 12 May 2008 12:34:11 GMT',\n",
       "      'DTA_ACTUALIZACION': 'Mon, 08 Feb 2021 08:46:45 GMT',\n",
       "      'COD_SECTOR_ECON2': '1011',\n",
       "      'ID_INSTITUCION': 883,\n",
       "      'STA_TERMINOS_COND': 'T',\n",
       "      'DTA_ACEPTA_TERMINOS': 'Mon, 08 Feb 2021 08:45:14 GMT'}],\n",
       "    'knowledge_area': [{'COD_RH': '0000000000',\n",
       "      'COD_AREA_CONOCIMIENTO': '1C03',\n",
       "      'TXT_NME_AREA': 'Física de Partículas y Campos',\n",
       "      'NRO_NIVEL': 2,\n",
       "      'TXT_VERIFICADO': 'T',\n",
       "      'COD_RH_PADRE': '0000000000',\n",
       "      'COD_AREA_PADRE': '1C',\n",
       "      'COD_RH_FULL': '0000000000',\n",
       "      'COD_AREA_CONOCIMIENTO_FULL': '1 - 1C - 1C03',\n",
       "      'TXT_NME_AREA_FULL': 'Ciencias Naturales -- Ciencias Físicas -- Física de Partículas y Campos',\n",
       "      'TPO_CAMBIO': 'T',\n",
       "      'DTA_CREACION': 'Thu, 31 Oct 2013 00:00:00 GMT',\n",
       "      'DTA_ACTUALIZACION': 'Thu, 31 Oct 2013 00:00:00 GMT',\n",
       "      'knowledge_area': [{'COD_RH': '0000000000',\n",
       "        'COD_AREA_CONOCIMIENTO': '1C',\n",
       "        'TXT_NME_AREA': 'Ciencias Físicas',\n",
       "        'NRO_NIVEL': 1,\n",
       "        'TXT_VERIFICADO': 'T',\n",
       "        'COD_RH_PADRE': '0000000000',\n",
       "        'COD_AREA_PADRE': '1',\n",
       "        'COD_RH_FULL': '0000000000',\n",
       "        'COD_AREA_CONOCIMIENTO_FULL': '1 - 1C',\n",
       "        'TXT_NME_AREA_FULL': 'Ciencias Naturales -- Ciencias Físicas',\n",
       "        'TPO_CAMBIO': 'T',\n",
       "        'DTA_CREACION': 'Thu, 31 Oct 2013 00:00:00 GMT',\n",
       "        'DTA_ACTUALIZACION': 'Fri, 15 Nov 2013 11:42:07 GMT',\n",
       "        'knowledge_area': [{'COD_RH': '0000000000',\n",
       "          'COD_AREA_CONOCIMIENTO': '1',\n",
       "          'TXT_NME_AREA': 'Ciencias Naturales',\n",
       "          'NRO_NIVEL': 0,\n",
       "          'TXT_VERIFICADO': 'T',\n",
       "          'COD_RH_PADRE': '0000000000',\n",
       "          'TXT_NME_AREA_FULL': 'Ciencias Naturales',\n",
       "          'TPO_CAMBIO': 'T',\n",
       "          'DTA_CREACION': 'Thu, 31 Oct 2013 00:00:00 GMT',\n",
       "          'DTA_ACTUALIZACION': 'Thu, 31 Oct 2013 00:00:00 GMT'}]}]}]}],\n",
       "  'author_others': [{'COD_RH_CREA': '0000177733',\n",
       "    'COD_RH_OTRO': '0',\n",
       "    'TXT_NME_RH': 'Diego Alejandro',\n",
       "    'TXT_PRIM_APELL': 'Restrepo',\n",
       "    'TXT_SEG_APELL': 'Quintero',\n",
       "    'SGL_PAIS': 'COL',\n",
       "    'TPO_NACIONALIDAD': 'C',\n",
       "    'DTA_NACIMIENTO': 'Wed, 10 Mar 1971 00:00:00 GMT',\n",
       "    'TPO_DOC_IDENTIFICACION': 'C',\n",
       "    'NRO_DOC_IDENTIFICACION': '98554575',\n",
       "    'NRO_ID_CNPQ': '4193202494462358',\n",
       "    'DTA_CREACION': 'Mon, 16 Dec 2002 12:21:43 GMT',\n",
       "    'DTA_ACTUALIZACION': 'Fri, 26 Jan 2018 17:04:18 GMT',\n",
       "    'TXT_TOTAL_NAMES': 'Diego Alejandro Restrepo Quintero',\n",
       "    'COD_RH_REF': '0000177733',\n",
       "    'COD_ORCID': '0000-0001-6455-5564',\n",
       "    'AUTOR_ID_SCP': '7005721136'},\n",
       "   {'COD_RH_CREA': '0000177733',\n",
       "    'COD_RH_OTRO': '86',\n",
       "    'TXT_NME_RH': 'Carlos Andrés',\n",
       "    'TXT_PRIM_APELL': 'Flórez',\n",
       "    'TXT_SEG_APELL': 'Bustos',\n",
       "    'SGL_PAIS': 'COL',\n",
       "    'TPO_NACIONALIDAD': 'C',\n",
       "    'DTA_NACIMIENTO': 'Mon, 26 Nov 1979 00:00:00 GMT',\n",
       "    'TPO_DOC_IDENTIFICACION': 'C',\n",
       "    'NRO_DOC_IDENTIFICACION': '80147719',\n",
       "    'NRO_ID_CNPQ': '7205972292486355',\n",
       "    'DTA_CREACION': 'Tue, 13 Jun 2017 18:39:03 GMT',\n",
       "    'DTA_ACTUALIZACION': 'Tue, 13 Jun 2017 18:39:03 GMT',\n",
       "    'TXT_TOTAL_NAMES': 'Carlos Andrés Flórez Bustos',\n",
       "    'COD_RH_REF': '0001541878'}],\n",
       "  'details': [{'article': [{'COD_RH': '0000177733',\n",
       "      'COD_PRODUCTO': '133',\n",
       "      'COD_REVISTA': 2637,\n",
       "      'COD_RH_MUNICIPIO': '0000000000',\n",
       "      'COD_MUNICIPIO': '31541',\n",
       "      'TXT_VOLUMEN_REVISTA': '778',\n",
       "      'TXT_PAGINA_INICIAL': '94',\n",
       "      'TXT_PAGINA_FINAL': '100',\n",
       "      'DTA_CREACION': 'Sat, 27 Apr 2019 22:07:09 GMT',\n",
       "      'DTA_ACTUALIZACION': 'Sat, 27 Apr 2019 22:07:09 GMT',\n",
       "      'journal': [{'COD_REVISTA': 2637,\n",
       "        'TXT_ISSN_SEP': '0370-2693',\n",
       "        'TXT_ISSN': '03702693',\n",
       "        'COD_REVISTA_REF': 138400,\n",
       "        'TXT_ISSN_REF_SEP': '1873-2445',\n",
       "        'TXT_ISSN_REF': '18732445',\n",
       "        'TXT_NME_REVISTA': 'Physics Letters B',\n",
       "        'SGL_PAIS': 'HOL',\n",
       "        'TPO_REVISTA': 'P',\n",
       "        'TPO_CLASIFICACION': 'A1',\n",
       "        'COD_EDITORIAL': 8969,\n",
       "        'TXT_LUGAR_PUBLICACION': 'Amsterdam',\n",
       "        'TXT_MEDIO_DIVULGACION': 'Papel',\n",
       "        'TXT_URL': 'http://www.journals.elsevier.com/physics-letters-b/',\n",
       "        'STA_VERIFICADA': 'P',\n",
       "        'editorial': [{'COD_EDITORIAL': 8969,\n",
       "          'TXT_NME_EDITORIAL': 'Elsevier Science Bv',\n",
       "          'COD_RH_MUNICIPIO': '0000000000',\n",
       "          'TPO_INSTITUCION': 'IL',\n",
       "          'TXT_REFERENCIA': 'BC'}]}]}]},\n",
       "   {'keywords': [{'COD_RH': '0000177733',\n",
       "      'COD_PALABRA_CLAVE': 64,\n",
       "      'TXT_NME_PALABRA_CLAVE': 'Beyond Standard Model',\n",
       "      'DTA_CREACION': 'Thu, 09 Oct 2008 05:12:30 GMT',\n",
       "      'DTA_ACTUALIZACION': 'Thu, 09 Oct 2008 05:12:30 GMT'}]}],\n",
       "  'NIVEL_MAX': '111: Publicado en revista especializada'},\n",
       " {'_id': ObjectId('637d3a26244b9f9d0fe574b0'),\n",
       "  'COD_RH': '0000707619',\n",
       "  'COD_PRODUCTO': '129',\n",
       "  'TXT_NME_PROD': 'Bound-state dark matter with Majorana neutrinos',\n",
       "  'SGL_IDIOMA': 'ES',\n",
       "  'COD_TIPO_PRODUCTO': '111',\n",
       "  'SGL_PAIS': 'HOL',\n",
       "  'NRO_ANO_PRESENTA': 2019,\n",
       "  'NRO_MES_PRESENTA': 1,\n",
       "  'TXT_WEB_PRODUCTO': 'http://doi.org/10.1016/j.physletb.2019.01.023',\n",
       "  'TPO_MEDIO_DIVULGACION': 'I',\n",
       "  'STA_CERTIFICADO': '0',\n",
       "  'STA_VERIFICACION_AUTO': '0',\n",
       "  'STA_VERIFICACION_USUA': '4',\n",
       "  'DTA_CREACION': 'Tue, 30 Apr 2019 16:03:33 GMT',\n",
       "  'DTA_ACTUALIZACION': 'Tue, 30 Apr 2019 16:03:33 GMT',\n",
       "  'NRO_PATENTES': 0,\n",
       "  'NRO_SECRETOS': 0,\n",
       "  'TXT_DOI': '10.1016/j.physletb.2019.01.023',\n",
       "  'NRO_REGISTROS': 0,\n",
       "  'SGL_CATEGORIA': 'PID-PID_C',\n",
       "  'NRO_ARTISTICAS_DET': 0,\n",
       "  'author': [{'COD_RH': '0000177733',\n",
       "    'NRO_ID_CNPQ': '4193202494462358',\n",
       "    'TXT_NAMES_RH': 'Diego Alejandro',\n",
       "    'TXT_PRIM_APELL': 'Restrepo',\n",
       "    'TXT_SEG_APELL': 'Quintero',\n",
       "    'TXT_TOTAL_NAMES': 'Diego Alejandro Restrepo Quintero',\n",
       "    'TPO_NACIONALIDAD': 'C',\n",
       "    'DTA_NACIM': 'Wed, 10 Mar 1971 00:00:00 GMT',\n",
       "    'TPO_DOCUMENTO_IDENT': 'C',\n",
       "    'TPO_SEXO': 'M',\n",
       "    'COD_RH_MUN_NACIM': '0000000000',\n",
       "    'COD_MUN_NACIM': '297',\n",
       "    'NRO_DOCUMENTO_IDENT': '98554575',\n",
       "    'COD_RH_MUN_EXPED_DOC': '0000000000',\n",
       "    'COD_MUN_EXPED_DOC': '296',\n",
       "    'NRO_PASAPORTE': 'AM864262',\n",
       "    'COD_RH_RELIGION': '0000000000',\n",
       "    'SGL_PAIS_NACIM': 'COL',\n",
       "    'TPO_ESTADO_CIVIL': 'C',\n",
       "    'TPO_DIRECCION_USUAL': 'I',\n",
       "    'TPO_DOC_ACTUALIZACION': 'CCO',\n",
       "    'TPO_VER_DOC_ACTUALIZACION': '2.0.0',\n",
       "    'TXT_CITACION_BIBLIO': 'RESTREPO QUINTERO DIEGO ALEJANDRO',\n",
       "    'STA_CERTIFICADO': 'T',\n",
       "    'DTA_CERTIFICADO': 'Wed, 25 Feb 2009 00:00:00 GMT',\n",
       "    'TXT_RESPUESTA': 'greco',\n",
       "    'TXT_PREGUNTA': 'perro?',\n",
       "    'DTA_CREACION': 'Mon, 16 Dec 2002 12:21:43 GMT',\n",
       "    'DTA_ACTUALIZACION': 'Wed, 06 Apr 2022 13:37:32 GMT',\n",
       "    'COD_CERTIFICACION': '0000177733201403141215',\n",
       "    'STA_VISIBLE': 'T',\n",
       "    'TPO_PERFIL': 'IS',\n",
       "    'TXT_CONF_DATOS': 'T',\n",
       "    'COD_ORCID': '0000-0001-6455-5564',\n",
       "    'AUTOR_ID_SCP': '7005721136',\n",
       "    'STA_ACTIVO': 'A',\n",
       "    'city': [{'COD_RH_MUNICIPIO': '0000000000',\n",
       "      'COD_MUNICIPIO': '297',\n",
       "      'ID_MUNICIPIO': 433,\n",
       "      'SGL_DEPARTAMENTO': 'AN',\n",
       "      'SGL_PAIS': 'COL',\n",
       "      'COD_MUNI_DANE': '05282',\n",
       "      'TXT_NME_MUNICIPIO': 'FREDONIA',\n",
       "      'DTA_CREACION': 'Wed, 07 May 2008 12:29:11 GMT',\n",
       "      'DTA_ACTUALIZACION': 'Tue, 19 Apr 2022 11:04:53 GMT',\n",
       "      'ID_PAIS': 1,\n",
       "      'ID_DEPARTAMENTO': 31,\n",
       "      'department': [{'SGL_PAIS': 'COL',\n",
       "        'SGL_DEPARTAMENTO': 'AN',\n",
       "        'ID_DEPARTAMENTO': 31,\n",
       "        'SGL_REGION': 'NW',\n",
       "        'COD_DEPA_DANE': '05',\n",
       "        'TXT_NME_DEPARTAMENTO': 'ANTIOQUIA',\n",
       "        'DTA_CREACION': 'Fri, 24 Oct 2008 11:45:35 GMT',\n",
       "        'DTA_ACTUALIZACION': 'Tue, 19 Apr 2022 10:07:15 GMT',\n",
       "        'ID_PAIS': 1,\n",
       "        'ID': 31,\n",
       "        'country': [{'SGL_PAIS': 'COL',\n",
       "          'TXT_NME_PAIS': 'Colombia',\n",
       "          'SGL_IDIOMA': 'EN',\n",
       "          'SGL_PAIS_ISO_2': 'CO',\n",
       "          'COD_PAIS_SIGP': 19,\n",
       "          'SGL_CONTINENTE_4': 'AME',\n",
       "          'SGL_CONTINENTE': 'AME',\n",
       "          'SGL_CONTINENTE_6': 'AME',\n",
       "          'SGL_CONTINENTE_7': 'SAM',\n",
       "          'SGL_CONTINENTE_8': 'SAM',\n",
       "          'DTA_CREACION': 'Fri, 05 Jun 2015 14:54:15 GMT',\n",
       "          'DTA_ACTUALIZACION': 'Fri, 05 Jun 2015 14:54:20 GMT',\n",
       "          'TXT_NME_PAIS_ING': 'Colombia',\n",
       "          'ID': 1}]}]}]}],\n",
       "  'language': [{'SGL_IDIOMA': 'ES',\n",
       "    'TXT_NME_IDIOMA': 'Español',\n",
       "    'NRO_IMPORTANCIA': 1,\n",
       "    'DTA_CREACION': 'Fri, 05 Jun 2015 14:54:15 GMT',\n",
       "    'DTA_ACTUALIZACION': 'Fri, 05 Jun 2015 14:54:15 GMT'}],\n",
       "  'product_type': [{'COD_TIPO_PRODUCTO': '111',\n",
       "    'TXT_NME_TIPO_PRODUCTO': 'Publicado en revista especializada',\n",
       "    'NRO_NIVEL': 2,\n",
       "    'COD_TIPO_PRODUCTO_PADRE': '11',\n",
       "    'STA_ACTIVO': 'T',\n",
       "    'TPO_CLASE': 'NC',\n",
       "    'product_type': [{'COD_TIPO_PRODUCTO': '11',\n",
       "      'TXT_NME_TIPO_PRODUCTO': 'Artículo',\n",
       "      'NRO_NIVEL': 1,\n",
       "      'COD_TIPO_PRODUCTO_PADRE': '1',\n",
       "      'STA_ACTIVO': 'T',\n",
       "      'product_type': [{'COD_TIPO_PRODUCTO': '1',\n",
       "        'TXT_NME_TIPO_PRODUCTO': 'Producción bibliográfica',\n",
       "        'NRO_NIVEL': 0,\n",
       "        'STA_ACTIVO': 'T'}]}]}],\n",
       "  'NRO_ID_GRUPO': '00000000001676',\n",
       "  'SEQ_PRODUCTO': 31667,\n",
       "  'DTA_VINCULACION': 'Tue, 30 Apr 2019 16:03:33 GMT',\n",
       "  'STA_HUERFANO': 'F',\n",
       "  'STA_MEDIDO': 'T',\n",
       "  'group': [{'NRO_ID_GRUPO': '00000000001676',\n",
       "    'COD_ID_GRUPO': 'COL0008423',\n",
       "    'NME_GRUPO': 'Grupo de Fenomenologia de Interacciones Fundamentales',\n",
       "    'ANO_FORMACAO': 1979,\n",
       "    'MES_FORMACAO': 12,\n",
       "    'COD_RH_AREA': '0000000000',\n",
       "    'COD_AREA_CONHEC': '1C03',\n",
       "    'COD_PROGRAMA': 5,\n",
       "    'COD_PROGRAMA_SECUND': 0,\n",
       "    'TPO_ESTADO_GR': 0,\n",
       "    'TXT_CLASIF': 'A1',\n",
       "    'DTA_CLASIF': 'Tue, 24 May 2022 00:00:00 GMT',\n",
       "    'DTA_FIN_CLASIF': 'Thu, 23 May 2024 00:00:00 GMT',\n",
       "    'TPO_GRUPO': 'T',\n",
       "    'DTA_TPO_GRUPO': 'Tue, 24 May 2022 00:00:00 GMT',\n",
       "    'STA_ELIMINADO': 'F',\n",
       "    'TXT_PLAN_TRABAJO': 'Estudio teorico de la fenomenologia del modelo estandar,\\r\\n\\r\\nAnalisis de extensiones supersimetricas del modelo estandar y de fisica mas alla del modelo estandar en general,\\r\\n\\r\\nEstudio de senales de neutrinos emitidos por supernovas (Fisica de Astroparticulas),\\r\\n\\r\\nFisica de energias intermedias.\\r\\n\\r\\nCosmología',\n",
       "    'TXT_ESTADO_ARTE': 'El modelo estandar (M E) ha pasado con exito las mas estrictas pruebas experimentales no solo a nivel clasico, sino tambien a nivel cuantico con solo una evidencia de necesidad de nueva fisica: las anomalias solar y atmosferica de neutrinos. Aun asi, el M E tiene algunas falencias teoricas que han motivado el desarrollo de una serie de modelos los cuales predicen nuevas particulas que pueden estar al alcance de los aceleradores presentes y futuros. Entre las extensiones mas estudiadas del M E en la actualidad estan las motivadas epecialmente por la solucion del problema de la jerarquia de masa del Higgs (la renormalizacion de la masa del Higgs en el ME involucra divergencias cuadraticas) como supersimetria y dimensiones extra, las cuales a su vez pueden acomodar los resultados sobre anomalias de neutrinos. Otros modelos de fisica mas alla del M E estan basados en extensiones del grupo gauge como las teorias de gran unificacion o los modelos del tipo SU(3)_cxSU(3)XU(1).\\r\\nEs importante recalcar que nuestro grupo ha venido trabajando en todos estos topicos.',\n",
       "    'TXT_OBJETIVOS': 'Contribuir al desarrollo de la física teórica y hacer investigación básica en el área de la fenomenología de las partículas elementales y los tópicos relacionados.\\r\\n\\r\\nConstruir modelos para explicar y predecir los resultados experimentales obtenidos en los aceleradores y demás laboratorios de física de partículas elementales.\\r\\n\\r\\nEstudiar y explorar nuevas teorías que expliquen el comportamiento de la materia a muy altas energías.\\r\\n\\r\\nEnseñar los tópicos de esta área de investigación a nuevos estudiantes para mantener y fortalecer el grupo de investigación.\\r\\n\\r\\nContribuir al fortalecimiento de la red nacional de investigadores en esta área del conocimiento.\\r\\n\\r\\nMejorar la percepción y entendimiento que tiene el publico en general de la física de altas energías.',\n",
       "    'TXT_PROD_DESTACADA': 'sobre propiedades electromanegticas de neutrinos: M. Hirsch, E. Nardi and D. Restrepo *Bounds on the tau and muon neutrino vector and axial vector charge radius,*  Phys Rev. D 67:033005 (2003)\\r\\n\\r\\nsobre extensiones del sector de gauge de modelo estandar que permiten generar masas para los neutrinos :R. Martinez, W.A. Ponce and L.A.Sanchez, Phys Rev. D 65 (2002) 055013 \\r\\n\\r\\nsobre la explicacion de las anomalias de neutrinos usando supersimetria: J.M.Mira, E. Nardi, D.A. Restrepo and J.W Valle, Phys lett. B 492 (2000) 81\\r\\n\\r\\nsobre implicaciones astrofisicas de neutrinos: E, Nardi and J.I. Zuluaga, astrophys. J. 549 (2001) 1076\\r\\n\\r\\nsobre la solucion del problema \\\\mu en supersimetria:J.M.Mira, E. Nardi and D.A. Restrepo\\r\\nPhys Rev. D 62 (2000) 016002\\r\\n',\n",
       "    'TXT_RETOS': 'Proyectarnos a nivel latinoamericano e internacional en los próximos dos años. Para ello necesitamos consolidar las colaboraciones que tenemos con los grupos nacionales y extranjeros en áreas de alto interés para la comunidad científica en nuestro campo como son los modelos supersimétricos para la generación de masas y mezclas para neutrinos, y las implicaciones fenomenológicas de modelos de dimensiones extras y con estructura gauge extendida tanto en sus versiones normales como supersimetrizadas. También necesitamos consolidar la formación de recurso humanos no sólo a través de la línea de doctorado y maestría sino también fomentando la formación posdoctoral de los miembros más jóvenes de nuestro grupo.',\n",
       "    'TXT_VISION': 'Ser protagonistas en la simulación e interpretación de la gran avalancha de resultados experimantales que se genera con el funcionamiento del LARGE HADRON COLLIDER en Europa , los resultados de alta luminosidad del TEVATRON en Estados Unidos, el experimento PIER AUGER en Argentina, y los diferentes experimentos de neutrinos solares con angulo de mezcla grande o MUNU en Rusia para explorar las propiedades electromagnéticas de los neutrinos y los satélites de medición precisa de las fluctuaciones de la radiación cósmica de fondo como WMAP y PLANCK y sus implicaciones en la física de neutrinos.',\n",
       "    'STA_CERTIFICADO': 'T',\n",
       "    'DTA_CERTIFICADO': 'Thu, 21 Jan 2016 00:00:00 GMT',\n",
       "    'DTA_CREACION': 'Tue, 11 Sep 2007 13:29:58 GMT',\n",
       "    'DTA_ACTUALIZACION': 'Tue, 24 May 2022 19:50:25 GMT',\n",
       "    'COD_CERTIFICACION': 'COL0008423201601211837',\n",
       "    'DTA_INI_SESION': 'Wed, 26 Jan 2022 07:30:12 GMT',\n",
       "    'TXT_CLASIF_1': 'A1',\n",
       "    'STA_CENTRO': 'F',\n",
       "    'STA_SECTOR': 'F',\n",
       "    'STA_ACTIVO': 'A',\n",
       "    'NRO_BLOQUEOS': 2,\n",
       "    'COD_AREA_CONHEC_BK': '1C',\n",
       "    'institution': [{'COD_INST': '007300000887',\n",
       "      'COD_INST_MACRO': '007300000887',\n",
       "      'NME_INST': 'UNIVERSIDAD DE ANTIOQUIA',\n",
       "      'SGL_INST': 'UdeA',\n",
       "      'COD_SECTOR_ECON': '241',\n",
       "      'SGL_PAIS': '1',\n",
       "      'SGL_DEPARTAMENTO': '31',\n",
       "      'COD_RH_MUNICIPIO': '0000000000',\n",
       "      'COD_MUNICIPIO': '786',\n",
       "      'URL_HOME_PAGE': 'http://www.udea.edu.co',\n",
       "      'TXT_DIRECCION': 'Calle 67 53-10',\n",
       "      'TXT_TELEFONO': ' 4-2195190',\n",
       "      'TXT_EMAIL': 'viceinvestigacion@udea.edu.co',\n",
       "      'TXT_NIT': '890980040',\n",
       "      'TXT_DIGITO_VERIFICADOR': '8',\n",
       "      'ID_REPRESENTANTE': 4,\n",
       "      'TPO_AVAL': '1',\n",
       "      'TXT_CIUDAD_INST': 'Medellín',\n",
       "      'TPO_CONTRIBUYENTE': 6,\n",
       "      'STA_EXPORTA': 12,\n",
       "      'COD_NIVEL': 1,\n",
       "      'COD_IES': '1201',\n",
       "      'DTA_CONSTITUCION': 'Sat, 30 May 1964 00:00:00 GMT',\n",
       "      'DTA_CREACION': 'Mon, 12 May 2008 12:34:11 GMT',\n",
       "      'DTA_ACTUALIZACION': 'Mon, 08 Feb 2021 08:46:45 GMT',\n",
       "      'COD_SECTOR_ECON2': '1011',\n",
       "      'ID_INSTITUCION': 883,\n",
       "      'STA_TERMINOS_COND': 'T',\n",
       "      'DTA_ACEPTA_TERMINOS': 'Mon, 08 Feb 2021 08:45:14 GMT'}],\n",
       "    'knowledge_area': [{'COD_RH': '0000000000',\n",
       "      'COD_AREA_CONOCIMIENTO': '1C03',\n",
       "      'TXT_NME_AREA': 'Física de Partículas y Campos',\n",
       "      'NRO_NIVEL': 2,\n",
       "      'TXT_VERIFICADO': 'T',\n",
       "      'COD_RH_PADRE': '0000000000',\n",
       "      'COD_AREA_PADRE': '1C',\n",
       "      'COD_RH_FULL': '0000000000',\n",
       "      'COD_AREA_CONOCIMIENTO_FULL': '1 - 1C - 1C03',\n",
       "      'TXT_NME_AREA_FULL': 'Ciencias Naturales -- Ciencias Físicas -- Física de Partículas y Campos',\n",
       "      'TPO_CAMBIO': 'T',\n",
       "      'DTA_CREACION': 'Thu, 31 Oct 2013 00:00:00 GMT',\n",
       "      'DTA_ACTUALIZACION': 'Thu, 31 Oct 2013 00:00:00 GMT',\n",
       "      'knowledge_area': [{'COD_RH': '0000000000',\n",
       "        'COD_AREA_CONOCIMIENTO': '1C',\n",
       "        'TXT_NME_AREA': 'Ciencias Físicas',\n",
       "        'NRO_NIVEL': 1,\n",
       "        'TXT_VERIFICADO': 'T',\n",
       "        'COD_RH_PADRE': '0000000000',\n",
       "        'COD_AREA_PADRE': '1',\n",
       "        'COD_RH_FULL': '0000000000',\n",
       "        'COD_AREA_CONOCIMIENTO_FULL': '1 - 1C',\n",
       "        'TXT_NME_AREA_FULL': 'Ciencias Naturales -- Ciencias Físicas',\n",
       "        'TPO_CAMBIO': 'T',\n",
       "        'DTA_CREACION': 'Thu, 31 Oct 2013 00:00:00 GMT',\n",
       "        'DTA_ACTUALIZACION': 'Fri, 15 Nov 2013 11:42:07 GMT',\n",
       "        'knowledge_area': [{'COD_RH': '0000000000',\n",
       "          'COD_AREA_CONOCIMIENTO': '1',\n",
       "          'TXT_NME_AREA': 'Ciencias Naturales',\n",
       "          'NRO_NIVEL': 0,\n",
       "          'TXT_VERIFICADO': 'T',\n",
       "          'COD_RH_PADRE': '0000000000',\n",
       "          'TXT_NME_AREA_FULL': 'Ciencias Naturales',\n",
       "          'TPO_CAMBIO': 'T',\n",
       "          'DTA_CREACION': 'Thu, 31 Oct 2013 00:00:00 GMT',\n",
       "          'DTA_ACTUALIZACION': 'Thu, 31 Oct 2013 00:00:00 GMT'}]}]}]}],\n",
       "  'SEQ_PROJETO': 8524,\n",
       "  'COD_PROYECTO': '7',\n",
       "  'ANO_INIC': '2019',\n",
       "  'TXT_NOME_PROJETO': 'Fenomenología de modelos materia oscura tipo WIMP/axion.',\n",
       "  'TPO_NATUREZA': 'ID',\n",
       "  'MES_INIC': 1,\n",
       "  'author_others': [{'COD_RH_CREA': '0000177733',\n",
       "    'COD_RH_OTRO': '0',\n",
       "    'TXT_NME_RH': 'Diego Alejandro',\n",
       "    'TXT_PRIM_APELL': 'Restrepo',\n",
       "    'TXT_SEG_APELL': 'Quintero',\n",
       "    'SGL_PAIS': 'COL',\n",
       "    'TPO_NACIONALIDAD': 'C',\n",
       "    'DTA_NACIMIENTO': 'Wed, 10 Mar 1971 00:00:00 GMT',\n",
       "    'TPO_DOC_IDENTIFICACION': 'C',\n",
       "    'NRO_DOC_IDENTIFICACION': '98554575',\n",
       "    'NRO_ID_CNPQ': '4193202494462358',\n",
       "    'DTA_CREACION': 'Mon, 16 Dec 2002 12:21:43 GMT',\n",
       "    'DTA_ACTUALIZACION': 'Fri, 26 Jan 2018 17:04:18 GMT',\n",
       "    'TXT_TOTAL_NAMES': 'Diego Alejandro Restrepo Quintero',\n",
       "    'COD_RH_REF': '0000177733',\n",
       "    'COD_ORCID': '0000-0001-6455-5564',\n",
       "    'AUTOR_ID_SCP': '7005721136'},\n",
       "   {'COD_RH_CREA': '0000177733',\n",
       "    'COD_RH_OTRO': '2',\n",
       "    'TXT_PRIM_APELL': 'J W Valle',\n",
       "    'SGL_PAIS': 'COL',\n",
       "    'TPO_NACIONALIDAD': 'C',\n",
       "    'DTA_CREACION': 'Thu, 09 Oct 2008 05:12:30 GMT',\n",
       "    'DTA_ACTUALIZACION': 'Thu, 09 Oct 2008 05:12:30 GMT',\n",
       "    'TXT_TOTAL_NAMES': 'J W Valle'},\n",
       "   {'COD_RH_CREA': '0000177733',\n",
       "    'COD_RH_OTRO': '23',\n",
       "    'TXT_NME_RH': 'Oscar Alberto',\n",
       "    'TXT_PRIM_APELL': 'Zapata',\n",
       "    'TXT_SEG_APELL': 'Norena',\n",
       "    'SGL_PAIS': 'COL',\n",
       "    'TPO_NACIONALIDAD': 'C',\n",
       "    'DTA_NACIMIENTO': 'Fri, 25 Apr 1980 00:00:00 GMT',\n",
       "    'TPO_DOC_IDENTIFICACION': 'C',\n",
       "    'NRO_DOC_IDENTIFICACION': '15386534',\n",
       "    'NRO_ID_CNPQ': '2768502538640334',\n",
       "    'DTA_CREACION': 'Thu, 09 Oct 2008 05:12:30 GMT',\n",
       "    'DTA_ACTUALIZACION': 'Sat, 20 Dec 2014 01:33:32 GMT',\n",
       "    'TXT_TOTAL_NAMES': 'Oscar Alberto Zapata Norena',\n",
       "    'COD_RH_REF': '0000707619'}],\n",
       "  'details': [{'article': [{'COD_RH': '0000177733',\n",
       "      'COD_PRODUCTO': '129',\n",
       "      'COD_REVISTA': 2637,\n",
       "      'COD_RH_MUNICIPIO': '0000000000',\n",
       "      'COD_MUNICIPIO': '31541',\n",
       "      'TXT_VOLUMEN_REVISTA': '790',\n",
       "      'TXT_PAGINA_INICIAL': '303',\n",
       "      'TXT_PAGINA_FINAL': '307',\n",
       "      'DTA_CREACION': 'Sat, 27 Apr 2019 21:25:25 GMT',\n",
       "      'DTA_ACTUALIZACION': 'Sat, 27 Apr 2019 21:32:45 GMT',\n",
       "      'journal': [{'COD_REVISTA': 2637,\n",
       "        'TXT_ISSN_SEP': '0370-2693',\n",
       "        'TXT_ISSN': '03702693',\n",
       "        'COD_REVISTA_REF': 138400,\n",
       "        'TXT_ISSN_REF_SEP': '1873-2445',\n",
       "        'TXT_ISSN_REF': '18732445',\n",
       "        'TXT_NME_REVISTA': 'Physics Letters B',\n",
       "        'SGL_PAIS': 'HOL',\n",
       "        'TPO_REVISTA': 'P',\n",
       "        'TPO_CLASIFICACION': 'A1',\n",
       "        'COD_EDITORIAL': 8969,\n",
       "        'TXT_LUGAR_PUBLICACION': 'Amsterdam',\n",
       "        'TXT_MEDIO_DIVULGACION': 'Papel',\n",
       "        'TXT_URL': 'http://www.journals.elsevier.com/physics-letters-b/',\n",
       "        'STA_VERIFICADA': 'P',\n",
       "        'editorial': [{'COD_EDITORIAL': 8969,\n",
       "          'TXT_NME_EDITORIAL': 'Elsevier Science Bv',\n",
       "          'COD_RH_MUNICIPIO': '0000000000',\n",
       "          'TPO_INSTITUCION': 'IL',\n",
       "          'TXT_REFERENCIA': 'BC'}]}]}]},\n",
       "   {'keywords': [{'COD_RH': '0000177733',\n",
       "      'COD_PALABRA_CLAVE': 35,\n",
       "      'TXT_NME_PALABRA_CLAVE': 'neutrino, mass generation',\n",
       "      'DTA_CREACION': 'Thu, 09 Oct 2008 05:12:30 GMT',\n",
       "      'DTA_ACTUALIZACION': 'Thu, 09 Oct 2008 05:12:30 GMT'},\n",
       "     {'COD_RH': '0000177733',\n",
       "      'COD_PALABRA_CLAVE': 62,\n",
       "      'TXT_NME_PALABRA_CLAVE': 'Dark Matter',\n",
       "      'DTA_CREACION': 'Thu, 09 Oct 2008 05:12:30 GMT',\n",
       "      'DTA_ACTUALIZACION': 'Thu, 09 Oct 2008 05:12:30 GMT'},\n",
       "     {'COD_RH': '0000177733',\n",
       "      'COD_PALABRA_CLAVE': 63,\n",
       "      'TXT_NME_PALABRA_CLAVE': 'Neutrino Physics',\n",
       "      'DTA_CREACION': 'Thu, 09 Oct 2008 05:12:30 GMT',\n",
       "      'DTA_ACTUALIZACION': 'Thu, 09 Oct 2008 05:12:30 GMT'}]}],\n",
       "  'NIVEL_MAX': '111: Publicado en revista especializada'},\n",
       " {'_id': ObjectId('637d3a26244b9f9d0fe574b1'),\n",
       "  'COD_RH': '0000177733',\n",
       "  'COD_PRODUCTO': '132',\n",
       "  'TXT_NME_PROD': 'Vector Boson Fusion in the Inert Doublet Model',\n",
       "  'SGL_IDIOMA': 'EN',\n",
       "  'COD_TIPO_PRODUCTO': '111',\n",
       "  'SGL_PAIS': 'EUA',\n",
       "  'NRO_ANO_PRESENTA': 2018,\n",
       "  'NRO_MES_PRESENTA': 3,\n",
       "  'TXT_WEB_PRODUCTO': 'http://doi.org/10.1103/PhysRevD.97.055045',\n",
       "  'TPO_MEDIO_DIVULGACION': 'I',\n",
       "  'STA_CERTIFICADO': '0',\n",
       "  'STA_VERIFICACION_AUTO': '0',\n",
       "  'STA_VERIFICACION_USUA': '4',\n",
       "  'DTA_CREACION': 'Fri, 23 Apr 2021 12:17:12 GMT',\n",
       "  'DTA_ACTUALIZACION': 'Fri, 23 Apr 2021 12:17:12 GMT',\n",
       "  'NRO_PATENTES': 0,\n",
       "  'NRO_SECRETOS': 0,\n",
       "  'TXT_DOI': '10.1103/PhysRevD.97.055045',\n",
       "  'NRO_REGISTROS': 0,\n",
       "  'SGL_CATEGORIA': 'PID-PID_C',\n",
       "  'NRO_ARTISTICAS_DET': 0,\n",
       "  'author': [{'COD_RH': '0000177733',\n",
       "    'NRO_ID_CNPQ': '4193202494462358',\n",
       "    'TXT_NAMES_RH': 'Diego Alejandro',\n",
       "    'TXT_PRIM_APELL': 'Restrepo',\n",
       "    'TXT_SEG_APELL': 'Quintero',\n",
       "    'TXT_TOTAL_NAMES': 'Diego Alejandro Restrepo Quintero',\n",
       "    'TPO_NACIONALIDAD': 'C',\n",
       "    'DTA_NACIM': 'Wed, 10 Mar 1971 00:00:00 GMT',\n",
       "    'TPO_DOCUMENTO_IDENT': 'C',\n",
       "    'TPO_SEXO': 'M',\n",
       "    'COD_RH_MUN_NACIM': '0000000000',\n",
       "    'COD_MUN_NACIM': '297',\n",
       "    'NRO_DOCUMENTO_IDENT': '98554575',\n",
       "    'COD_RH_MUN_EXPED_DOC': '0000000000',\n",
       "    'COD_MUN_EXPED_DOC': '296',\n",
       "    'NRO_PASAPORTE': 'AM864262',\n",
       "    'COD_RH_RELIGION': '0000000000',\n",
       "    'SGL_PAIS_NACIM': 'COL',\n",
       "    'TPO_ESTADO_CIVIL': 'C',\n",
       "    'TPO_DIRECCION_USUAL': 'I',\n",
       "    'TPO_DOC_ACTUALIZACION': 'CCO',\n",
       "    'TPO_VER_DOC_ACTUALIZACION': '2.0.0',\n",
       "    'TXT_CITACION_BIBLIO': 'RESTREPO QUINTERO DIEGO ALEJANDRO',\n",
       "    'STA_CERTIFICADO': 'T',\n",
       "    'DTA_CERTIFICADO': 'Wed, 25 Feb 2009 00:00:00 GMT',\n",
       "    'TXT_RESPUESTA': 'greco',\n",
       "    'TXT_PREGUNTA': 'perro?',\n",
       "    'DTA_CREACION': 'Mon, 16 Dec 2002 12:21:43 GMT',\n",
       "    'DTA_ACTUALIZACION': 'Wed, 06 Apr 2022 13:37:32 GMT',\n",
       "    'COD_CERTIFICACION': '0000177733201403141215',\n",
       "    'STA_VISIBLE': 'T',\n",
       "    'TPO_PERFIL': 'IS',\n",
       "    'TXT_CONF_DATOS': 'T',\n",
       "    'COD_ORCID': '0000-0001-6455-5564',\n",
       "    'AUTOR_ID_SCP': '7005721136',\n",
       "    'STA_ACTIVO': 'A',\n",
       "    'city': [{'COD_RH_MUNICIPIO': '0000000000',\n",
       "      'COD_MUNICIPIO': '297',\n",
       "      'ID_MUNICIPIO': 433,\n",
       "      'SGL_DEPARTAMENTO': 'AN',\n",
       "      'SGL_PAIS': 'COL',\n",
       "      'COD_MUNI_DANE': '05282',\n",
       "      'TXT_NME_MUNICIPIO': 'FREDONIA',\n",
       "      'DTA_CREACION': 'Wed, 07 May 2008 12:29:11 GMT',\n",
       "      'DTA_ACTUALIZACION': 'Tue, 19 Apr 2022 11:04:53 GMT',\n",
       "      'ID_PAIS': 1,\n",
       "      'ID_DEPARTAMENTO': 31,\n",
       "      'department': [{'SGL_PAIS': 'COL',\n",
       "        'SGL_DEPARTAMENTO': 'AN',\n",
       "        'ID_DEPARTAMENTO': 31,\n",
       "        'SGL_REGION': 'NW',\n",
       "        'COD_DEPA_DANE': '05',\n",
       "        'TXT_NME_DEPARTAMENTO': 'ANTIOQUIA',\n",
       "        'DTA_CREACION': 'Fri, 24 Oct 2008 11:45:35 GMT',\n",
       "        'DTA_ACTUALIZACION': 'Tue, 19 Apr 2022 10:07:15 GMT',\n",
       "        'ID_PAIS': 1,\n",
       "        'ID': 31,\n",
       "        'country': [{'SGL_PAIS': 'COL',\n",
       "          'TXT_NME_PAIS': 'Colombia',\n",
       "          'SGL_IDIOMA': 'EN',\n",
       "          'SGL_PAIS_ISO_2': 'CO',\n",
       "          'COD_PAIS_SIGP': 19,\n",
       "          'SGL_CONTINENTE_4': 'AME',\n",
       "          'SGL_CONTINENTE': 'AME',\n",
       "          'SGL_CONTINENTE_6': 'AME',\n",
       "          'SGL_CONTINENTE_7': 'SAM',\n",
       "          'SGL_CONTINENTE_8': 'SAM',\n",
       "          'DTA_CREACION': 'Fri, 05 Jun 2015 14:54:15 GMT',\n",
       "          'DTA_ACTUALIZACION': 'Fri, 05 Jun 2015 14:54:20 GMT',\n",
       "          'TXT_NME_PAIS_ING': 'Colombia',\n",
       "          'ID': 1}]}]}]}],\n",
       "  'language': [{'SGL_IDIOMA': 'EN',\n",
       "    'TXT_NME_IDIOMA': 'Inglés',\n",
       "    'NRO_IMPORTANCIA': 2,\n",
       "    'DTA_CREACION': 'Fri, 05 Jun 2015 14:54:15 GMT',\n",
       "    'DTA_ACTUALIZACION': 'Fri, 05 Jun 2015 14:54:15 GMT'}],\n",
       "  'product_type': [{'COD_TIPO_PRODUCTO': '111',\n",
       "    'TXT_NME_TIPO_PRODUCTO': 'Publicado en revista especializada',\n",
       "    'NRO_NIVEL': 2,\n",
       "    'COD_TIPO_PRODUCTO_PADRE': '11',\n",
       "    'STA_ACTIVO': 'T',\n",
       "    'TPO_CLASE': 'NC',\n",
       "    'product_type': [{'COD_TIPO_PRODUCTO': '11',\n",
       "      'TXT_NME_TIPO_PRODUCTO': 'Artículo',\n",
       "      'NRO_NIVEL': 1,\n",
       "      'COD_TIPO_PRODUCTO_PADRE': '1',\n",
       "      'STA_ACTIVO': 'T',\n",
       "      'product_type': [{'COD_TIPO_PRODUCTO': '1',\n",
       "        'TXT_NME_TIPO_PRODUCTO': 'Producción bibliográfica',\n",
       "        'NRO_NIVEL': 0,\n",
       "        'STA_ACTIVO': 'T'}]}]}],\n",
       "  'project': [{'COD_RH': '0000177733',\n",
       "    'COD_PROYECTO': '22',\n",
       "    'TXT_NME_PROYECTO': 'Materia oscura, masas de neutrinos y rayos gamma',\n",
       "    'TXT_RESUMEN_PROYECTO': 'Postdocs Colciencias\\r\\n',\n",
       "    'TPO_PROYECTO': 'ID',\n",
       "    'NRO_MES_INICIO': 10,\n",
       "    'NRO_ANO_INICIO': 2018,\n",
       "    'NRO_MES_FIN': 2,\n",
       "    'NRO_ANO_FIN': 2020,\n",
       "    'DTA_CREACION': 'Fri, 23 Apr 2021 12:12:21 GMT',\n",
       "    'DTA_ACTUALIZACION': 'Fri, 23 Apr 2021 12:12:21 GMT',\n",
       "    'TPO_FINANCIACION': 'FI',\n",
       "    'TPO_FTE_FINAN': 'I',\n",
       "    'TPO_AMB_FINAN': 'N',\n",
       "    'STA_AVAL_INST': 'F',\n",
       "    'SGL_CATEGORIA': 'PID-PID_C'}],\n",
       "  'NRO_ID_GRUPO': '00000000001676',\n",
       "  'SEQ_PRODUCTO': 31670,\n",
       "  'DTA_VINCULACION': 'Fri, 23 Apr 2021 12:17:12 GMT',\n",
       "  'STA_HUERFANO': 'F',\n",
       "  'STA_MEDIDO': 'T',\n",
       "  'group': [{'NRO_ID_GRUPO': '00000000001676',\n",
       "    'COD_ID_GRUPO': 'COL0008423',\n",
       "    'NME_GRUPO': 'Grupo de Fenomenologia de Interacciones Fundamentales',\n",
       "    'ANO_FORMACAO': 1979,\n",
       "    'MES_FORMACAO': 12,\n",
       "    'COD_RH_AREA': '0000000000',\n",
       "    'COD_AREA_CONHEC': '1C03',\n",
       "    'COD_PROGRAMA': 5,\n",
       "    'COD_PROGRAMA_SECUND': 0,\n",
       "    'TPO_ESTADO_GR': 0,\n",
       "    'TXT_CLASIF': 'A1',\n",
       "    'DTA_CLASIF': 'Tue, 24 May 2022 00:00:00 GMT',\n",
       "    'DTA_FIN_CLASIF': 'Thu, 23 May 2024 00:00:00 GMT',\n",
       "    'TPO_GRUPO': 'T',\n",
       "    'DTA_TPO_GRUPO': 'Tue, 24 May 2022 00:00:00 GMT',\n",
       "    'STA_ELIMINADO': 'F',\n",
       "    'TXT_PLAN_TRABAJO': 'Estudio teorico de la fenomenologia del modelo estandar,\\r\\n\\r\\nAnalisis de extensiones supersimetricas del modelo estandar y de fisica mas alla del modelo estandar en general,\\r\\n\\r\\nEstudio de senales de neutrinos emitidos por supernovas (Fisica de Astroparticulas),\\r\\n\\r\\nFisica de energias intermedias.\\r\\n\\r\\nCosmología',\n",
       "    'TXT_ESTADO_ARTE': 'El modelo estandar (M E) ha pasado con exito las mas estrictas pruebas experimentales no solo a nivel clasico, sino tambien a nivel cuantico con solo una evidencia de necesidad de nueva fisica: las anomalias solar y atmosferica de neutrinos. Aun asi, el M E tiene algunas falencias teoricas que han motivado el desarrollo de una serie de modelos los cuales predicen nuevas particulas que pueden estar al alcance de los aceleradores presentes y futuros. Entre las extensiones mas estudiadas del M E en la actualidad estan las motivadas epecialmente por la solucion del problema de la jerarquia de masa del Higgs (la renormalizacion de la masa del Higgs en el ME involucra divergencias cuadraticas) como supersimetria y dimensiones extra, las cuales a su vez pueden acomodar los resultados sobre anomalias de neutrinos. Otros modelos de fisica mas alla del M E estan basados en extensiones del grupo gauge como las teorias de gran unificacion o los modelos del tipo SU(3)_cxSU(3)XU(1).\\r\\nEs importante recalcar que nuestro grupo ha venido trabajando en todos estos topicos.',\n",
       "    'TXT_OBJETIVOS': 'Contribuir al desarrollo de la física teórica y hacer investigación básica en el área de la fenomenología de las partículas elementales y los tópicos relacionados.\\r\\n\\r\\nConstruir modelos para explicar y predecir los resultados experimentales obtenidos en los aceleradores y demás laboratorios de física de partículas elementales.\\r\\n\\r\\nEstudiar y explorar nuevas teorías que expliquen el comportamiento de la materia a muy altas energías.\\r\\n\\r\\nEnseñar los tópicos de esta área de investigación a nuevos estudiantes para mantener y fortalecer el grupo de investigación.\\r\\n\\r\\nContribuir al fortalecimiento de la red nacional de investigadores en esta área del conocimiento.\\r\\n\\r\\nMejorar la percepción y entendimiento que tiene el publico en general de la física de altas energías.',\n",
       "    'TXT_PROD_DESTACADA': 'sobre propiedades electromanegticas de neutrinos: M. Hirsch, E. Nardi and D. Restrepo *Bounds on the tau and muon neutrino vector and axial vector charge radius,*  Phys Rev. D 67:033005 (2003)\\r\\n\\r\\nsobre extensiones del sector de gauge de modelo estandar que permiten generar masas para los neutrinos :R. Martinez, W.A. Ponce and L.A.Sanchez, Phys Rev. D 65 (2002) 055013 \\r\\n\\r\\nsobre la explicacion de las anomalias de neutrinos usando supersimetria: J.M.Mira, E. Nardi, D.A. Restrepo and J.W Valle, Phys lett. B 492 (2000) 81\\r\\n\\r\\nsobre implicaciones astrofisicas de neutrinos: E, Nardi and J.I. Zuluaga, astrophys. J. 549 (2001) 1076\\r\\n\\r\\nsobre la solucion del problema \\\\mu en supersimetria:J.M.Mira, E. Nardi and D.A. Restrepo\\r\\nPhys Rev. D 62 (2000) 016002\\r\\n',\n",
       "    'TXT_RETOS': 'Proyectarnos a nivel latinoamericano e internacional en los próximos dos años. Para ello necesitamos consolidar las colaboraciones que tenemos con los grupos nacionales y extranjeros en áreas de alto interés para la comunidad científica en nuestro campo como son los modelos supersimétricos para la generación de masas y mezclas para neutrinos, y las implicaciones fenomenológicas de modelos de dimensiones extras y con estructura gauge extendida tanto en sus versiones normales como supersimetrizadas. También necesitamos consolidar la formación de recurso humanos no sólo a través de la línea de doctorado y maestría sino también fomentando la formación posdoctoral de los miembros más jóvenes de nuestro grupo.',\n",
       "    'TXT_VISION': 'Ser protagonistas en la simulación e interpretación de la gran avalancha de resultados experimantales que se genera con el funcionamiento del LARGE HADRON COLLIDER en Europa , los resultados de alta luminosidad del TEVATRON en Estados Unidos, el experimento PIER AUGER en Argentina, y los diferentes experimentos de neutrinos solares con angulo de mezcla grande o MUNU en Rusia para explorar las propiedades electromagnéticas de los neutrinos y los satélites de medición precisa de las fluctuaciones de la radiación cósmica de fondo como WMAP y PLANCK y sus implicaciones en la física de neutrinos.',\n",
       "    'STA_CERTIFICADO': 'T',\n",
       "    'DTA_CERTIFICADO': 'Thu, 21 Jan 2016 00:00:00 GMT',\n",
       "    'DTA_CREACION': 'Tue, 11 Sep 2007 13:29:58 GMT',\n",
       "    'DTA_ACTUALIZACION': 'Tue, 24 May 2022 19:50:25 GMT',\n",
       "    'COD_CERTIFICACION': 'COL0008423201601211837',\n",
       "    'DTA_INI_SESION': 'Wed, 26 Jan 2022 07:30:12 GMT',\n",
       "    'TXT_CLASIF_1': 'A1',\n",
       "    'STA_CENTRO': 'F',\n",
       "    'STA_SECTOR': 'F',\n",
       "    'STA_ACTIVO': 'A',\n",
       "    'NRO_BLOQUEOS': 2,\n",
       "    'COD_AREA_CONHEC_BK': '1C',\n",
       "    'institution': [{'COD_INST': '007300000887',\n",
       "      'COD_INST_MACRO': '007300000887',\n",
       "      'NME_INST': 'UNIVERSIDAD DE ANTIOQUIA',\n",
       "      'SGL_INST': 'UdeA',\n",
       "      'COD_SECTOR_ECON': '241',\n",
       "      'SGL_PAIS': '1',\n",
       "      'SGL_DEPARTAMENTO': '31',\n",
       "      'COD_RH_MUNICIPIO': '0000000000',\n",
       "      'COD_MUNICIPIO': '786',\n",
       "      'URL_HOME_PAGE': 'http://www.udea.edu.co',\n",
       "      'TXT_DIRECCION': 'Calle 67 53-10',\n",
       "      'TXT_TELEFONO': ' 4-2195190',\n",
       "      'TXT_EMAIL': 'viceinvestigacion@udea.edu.co',\n",
       "      'TXT_NIT': '890980040',\n",
       "      'TXT_DIGITO_VERIFICADOR': '8',\n",
       "      'ID_REPRESENTANTE': 4,\n",
       "      'TPO_AVAL': '1',\n",
       "      'TXT_CIUDAD_INST': 'Medellín',\n",
       "      'TPO_CONTRIBUYENTE': 6,\n",
       "      'STA_EXPORTA': 12,\n",
       "      'COD_NIVEL': 1,\n",
       "      'COD_IES': '1201',\n",
       "      'DTA_CONSTITUCION': 'Sat, 30 May 1964 00:00:00 GMT',\n",
       "      'DTA_CREACION': 'Mon, 12 May 2008 12:34:11 GMT',\n",
       "      'DTA_ACTUALIZACION': 'Mon, 08 Feb 2021 08:46:45 GMT',\n",
       "      'COD_SECTOR_ECON2': '1011',\n",
       "      'ID_INSTITUCION': 883,\n",
       "      'STA_TERMINOS_COND': 'T',\n",
       "      'DTA_ACEPTA_TERMINOS': 'Mon, 08 Feb 2021 08:45:14 GMT'}],\n",
       "    'knowledge_area': [{'COD_RH': '0000000000',\n",
       "      'COD_AREA_CONOCIMIENTO': '1C03',\n",
       "      'TXT_NME_AREA': 'Física de Partículas y Campos',\n",
       "      'NRO_NIVEL': 2,\n",
       "      'TXT_VERIFICADO': 'T',\n",
       "      'COD_RH_PADRE': '0000000000',\n",
       "      'COD_AREA_PADRE': '1C',\n",
       "      'COD_RH_FULL': '0000000000',\n",
       "      'COD_AREA_CONOCIMIENTO_FULL': '1 - 1C - 1C03',\n",
       "      'TXT_NME_AREA_FULL': 'Ciencias Naturales -- Ciencias Físicas -- Física de Partículas y Campos',\n",
       "      'TPO_CAMBIO': 'T',\n",
       "      'DTA_CREACION': 'Thu, 31 Oct 2013 00:00:00 GMT',\n",
       "      'DTA_ACTUALIZACION': 'Thu, 31 Oct 2013 00:00:00 GMT',\n",
       "      'knowledge_area': [{'COD_RH': '0000000000',\n",
       "        'COD_AREA_CONOCIMIENTO': '1C',\n",
       "        'TXT_NME_AREA': 'Ciencias Físicas',\n",
       "        'NRO_NIVEL': 1,\n",
       "        'TXT_VERIFICADO': 'T',\n",
       "        'COD_RH_PADRE': '0000000000',\n",
       "        'COD_AREA_PADRE': '1',\n",
       "        'COD_RH_FULL': '0000000000',\n",
       "        'COD_AREA_CONOCIMIENTO_FULL': '1 - 1C',\n",
       "        'TXT_NME_AREA_FULL': 'Ciencias Naturales -- Ciencias Físicas',\n",
       "        'TPO_CAMBIO': 'T',\n",
       "        'DTA_CREACION': 'Thu, 31 Oct 2013 00:00:00 GMT',\n",
       "        'DTA_ACTUALIZACION': 'Fri, 15 Nov 2013 11:42:07 GMT',\n",
       "        'knowledge_area': [{'COD_RH': '0000000000',\n",
       "          'COD_AREA_CONOCIMIENTO': '1',\n",
       "          'TXT_NME_AREA': 'Ciencias Naturales',\n",
       "          'NRO_NIVEL': 0,\n",
       "          'TXT_VERIFICADO': 'T',\n",
       "          'COD_RH_PADRE': '0000000000',\n",
       "          'TXT_NME_AREA_FULL': 'Ciencias Naturales',\n",
       "          'TPO_CAMBIO': 'T',\n",
       "          'DTA_CREACION': 'Thu, 31 Oct 2013 00:00:00 GMT',\n",
       "          'DTA_ACTUALIZACION': 'Thu, 31 Oct 2013 00:00:00 GMT'}]}]}]}],\n",
       "  'SEQ_PROJETO': 8530,\n",
       "  'COD_PROYECTO': '22',\n",
       "  'ANO_INIC': '2018',\n",
       "  'ANO_FIM': '2020',\n",
       "  'TXT_NOME_PROJETO': 'Materia oscura, masas de neutrinos y rayos gamma',\n",
       "  'TPO_NATUREZA': 'ID',\n",
       "  'DSC_PROJETO': 'Postdocs Colciencias\\r\\n',\n",
       "  'MES_INIC': 10,\n",
       "  'MES_FIM': 2,\n",
       "  'author_others': [{'COD_RH_CREA': '0000177733',\n",
       "    'COD_RH_OTRO': '0',\n",
       "    'TXT_NME_RH': 'Diego Alejandro',\n",
       "    'TXT_PRIM_APELL': 'Restrepo',\n",
       "    'TXT_SEG_APELL': 'Quintero',\n",
       "    'SGL_PAIS': 'COL',\n",
       "    'TPO_NACIONALIDAD': 'C',\n",
       "    'DTA_NACIMIENTO': 'Wed, 10 Mar 1971 00:00:00 GMT',\n",
       "    'TPO_DOC_IDENTIFICACION': 'C',\n",
       "    'NRO_DOC_IDENTIFICACION': '98554575',\n",
       "    'NRO_ID_CNPQ': '4193202494462358',\n",
       "    'DTA_CREACION': 'Mon, 16 Dec 2002 12:21:43 GMT',\n",
       "    'DTA_ACTUALIZACION': 'Fri, 26 Jan 2018 17:04:18 GMT',\n",
       "    'TXT_TOTAL_NAMES': 'Diego Alejandro Restrepo Quintero',\n",
       "    'COD_RH_REF': '0000177733',\n",
       "    'COD_ORCID': '0000-0001-6455-5564',\n",
       "    'AUTOR_ID_SCP': '7005721136'},\n",
       "   {'COD_RH_CREA': '0000177733',\n",
       "    'COD_RH_OTRO': '38',\n",
       "    'TXT_NME_RH': 'José David',\n",
       "    'TXT_PRIM_APELL': 'Ruiz',\n",
       "    'TXT_SEG_APELL': 'Álvarez',\n",
       "    'SGL_PAIS': 'COL',\n",
       "    'TPO_NACIONALIDAD': 'C',\n",
       "    'DTA_NACIMIENTO': 'Thu, 26 Jul 1984 00:00:00 GMT',\n",
       "    'TPO_DOC_IDENTIFICACION': 'P',\n",
       "    'NRO_DOC_IDENTIFICACION': '15370261',\n",
       "    'NRO_ID_CNPQ': '1331189877941938',\n",
       "    'DTA_CREACION': 'Thu, 01 Nov 2012 23:10:02 GMT',\n",
       "    'DTA_ACTUALIZACION': 'Mon, 29 Apr 2019 07:56:15 GMT',\n",
       "    'TXT_TOTAL_NAMES': 'José David Ruiz Álvarez',\n",
       "    'COD_RH_REF': '0001376231',\n",
       "    'COD_ORCID': '0000-0002-3306-0363'},\n",
       "   {'COD_RH_CREA': '0000177733',\n",
       "    'COD_RH_OTRO': '53',\n",
       "    'TXT_NME_RH': 'Guillermo Alberto ',\n",
       "    'TXT_PRIM_APELL': 'Palacio ',\n",
       "    'TXT_SEG_APELL': 'Cárdenas',\n",
       "    'SGL_PAIS': 'COL',\n",
       "    'TPO_NACIONALIDAD': 'C',\n",
       "    'DTA_NACIMIENTO': 'Mon, 20 Jul 1987 00:00:00 GMT',\n",
       "    'TPO_DOC_IDENTIFICACION': 'C',\n",
       "    'NRO_DOC_IDENTIFICACION': '1128469037',\n",
       "    'NRO_ID_CNPQ': '6367313273790085',\n",
       "    'DTA_CREACION': 'Thu, 21 Jan 2016 18:26:48 GMT',\n",
       "    'DTA_ACTUALIZACION': 'Thu, 21 Jan 2016 18:26:48 GMT',\n",
       "    'TXT_TOTAL_NAMES': 'Guillermo Alberto Palacio Cárdenas',\n",
       "    'COD_RH_REF': '0001399345'}],\n",
       "  'details': [{'article': [{'COD_RH': '0000177733',\n",
       "      'COD_PRODUCTO': '132',\n",
       "      'COD_REVISTA': 125329,\n",
       "      'COD_RH_MUNICIPIO': '0000177733',\n",
       "      'COD_MUNICIPIO': '10',\n",
       "      'TXT_VOLUMEN_REVISTA': '97',\n",
       "      'TXT_FASCICULO_REVISTA': '055045',\n",
       "      'TXT_PAGINA_INICIAL': '1',\n",
       "      'TXT_PAGINA_FINAL': '8',\n",
       "      'DTA_CREACION': 'Sat, 27 Apr 2019 22:01:13 GMT',\n",
       "      'DTA_ACTUALIZACION': 'Sat, 27 Apr 2019 22:01:13 GMT',\n",
       "      'journal': [{'COD_REVISTA': 125329,\n",
       "        'TXT_ISSN_SEP': '2470-0010',\n",
       "        'TXT_ISSN': '24700010',\n",
       "        'COD_REVISTA_REF': 1235493,\n",
       "        'TXT_ISSN_REF_SEP': '2470-0029',\n",
       "        'TXT_ISSN_REF': '24700029',\n",
       "        'TXT_NME_REVISTA': 'Physical Review D',\n",
       "        'SGL_PAIS': 'EUA',\n",
       "        'TPO_REVISTA': 'P',\n",
       "        'COD_EDITORIAL': 705,\n",
       "        'STA_VERIFICADA': 'P',\n",
       "        'editorial': [{'COD_EDITORIAL': 705,\n",
       "          'TXT_NME_EDITORIAL': 'The American Physical Society',\n",
       "          'COD_RH_MUNICIPIO': '0000000000',\n",
       "          'TXT_PAGINA_WEB': '\"http://www.aps.org/\"',\n",
       "          'TPO_INSTITUCION': 'IL',\n",
       "          'TXT_REFERENCIA': 'O'}]}]}]},\n",
       "   {'keywords': [{'COD_RH': '0000177733',\n",
       "      'COD_PALABRA_CLAVE': 62,\n",
       "      'TXT_NME_PALABRA_CLAVE': 'Dark Matter',\n",
       "      'DTA_CREACION': 'Thu, 09 Oct 2008 05:12:30 GMT',\n",
       "      'DTA_ACTUALIZACION': 'Thu, 09 Oct 2008 05:12:30 GMT'}]}],\n",
       "  'NIVEL_MAX': '111: Publicado en revista especializada'},\n",
       " {'_id': ObjectId('637d3a28244b9f9d0fe597dc'),\n",
       "  'COD_RH': '0000707619',\n",
       "  'COD_PRODUCTO': '52',\n",
       "  'TXT_NME_PROD': 'Dirac neutrino mass generation from a Majorana messenger',\n",
       "  'SGL_IDIOMA': 'EN',\n",
       "  'COD_TIPO_PRODUCTO': '111',\n",
       "  'NRO_ANO_PRESENTA': 2020,\n",
       "  'NRO_MES_PRESENTA': 2,\n",
       "  'TXT_WEB_PRODUCTO': 'https://inspirehep.net/files/5418d90c632fd004307d586f307a226e',\n",
       "  'TPO_MEDIO_DIVULGACION': 'I',\n",
       "  'STA_CERTIFICADO': '0',\n",
       "  'STA_VERIFICACION_AUTO': '0',\n",
       "  'STA_VERIFICACION_USUA': '4',\n",
       "  'DTA_CREACION': 'Mon, 26 Apr 2021 20:50:30 GMT',\n",
       "  'DTA_ACTUALIZACION': 'Mon, 26 Apr 2021 20:50:30 GMT',\n",
       "  'NRO_PATENTES': 0,\n",
       "  'NRO_SECRETOS': 0,\n",
       "  'TXT_DOI': '10.1103/PhysRevD.101.035004',\n",
       "  'NRO_REGISTROS': 0,\n",
       "  'SGL_CATEGORIA': 'ART-ART_A1',\n",
       "  'NRO_ARTISTICAS_DET': 0,\n",
       "  'author': [{'COD_RH': '0000707619',\n",
       "    'NRO_ID_CNPQ': '2768502538640334',\n",
       "    'TXT_NAMES_RH': 'Oscar Alberto',\n",
       "    'TXT_PRIM_APELL': 'Zapata',\n",
       "    'TXT_SEG_APELL': 'Norena',\n",
       "    'TXT_TOTAL_NAMES': 'Oscar Alberto Zapata Norena',\n",
       "    'TPO_NACIONALIDAD': 'C',\n",
       "    'DTA_NACIM': 'Fri, 25 Apr 1980 00:00:00 GMT',\n",
       "    'TPO_DOCUMENTO_IDENT': 'C',\n",
       "    'TPO_SEXO': 'M',\n",
       "    'COD_RH_MUN_NACIM': '0000000000',\n",
       "    'COD_MUN_NACIM': '249',\n",
       "    'NRO_DOCUMENTO_IDENT': '15386534',\n",
       "    'COD_RH_MUN_EXPED_DOC': '0000000000',\n",
       "    'COD_MUN_EXPED_DOC': '312',\n",
       "    'COD_RH_RELIGION': '0000000000',\n",
       "    'SGL_PAIS_NACIM': 'COL',\n",
       "    'TPO_DIRECCION_USUAL': 'I',\n",
       "    'TPO_DOC_ACTUALIZACION': 'CCO',\n",
       "    'TPO_VER_DOC_ACTUALIZACION': 'W1.0.0',\n",
       "    'TXT_CITACION_BIBLIO': 'ZAPATA NORENA OSCAR ALBERTO',\n",
       "    'STA_CERTIFICADO': 'T',\n",
       "    'DTA_CERTIFICADO': 'Mon, 02 Dec 2013 00:00:00 GMT',\n",
       "    'DTA_CREACION': 'Thu, 22 Jun 2006 10:50:12 GMT',\n",
       "    'DTA_ACTUALIZACION': 'Wed, 12 Jan 2022 09:34:29 GMT',\n",
       "    'COD_CERTIFICACION': '0000707619201403141214',\n",
       "    'STA_VISIBLE': 'T',\n",
       "    'TPO_PERFIL': 'IS',\n",
       "    'TXT_CONF_DATOS': 'T',\n",
       "    'COD_ORCID': '0000-0001-5533-4014',\n",
       "    'STA_ACTIVO': 'A',\n",
       "    'city': [{'COD_RH_MUNICIPIO': '0000000000',\n",
       "      'COD_MUNICIPIO': '249',\n",
       "      'ID_MUNICIPIO': 385,\n",
       "      'SGL_DEPARTAMENTO': 'AN',\n",
       "      'SGL_PAIS': 'COL',\n",
       "      'COD_MUNI_DANE': '05001',\n",
       "      'TXT_NME_MUNICIPIO': 'MEDELLÍN',\n",
       "      'DTA_CREACION': 'Wed, 07 May 2008 12:29:11 GMT',\n",
       "      'DTA_ACTUALIZACION': 'Tue, 19 Apr 2022 11:04:53 GMT',\n",
       "      'ID_PAIS': 1,\n",
       "      'ID_DEPARTAMENTO': 31,\n",
       "      'department': [{'SGL_PAIS': 'COL',\n",
       "        'SGL_DEPARTAMENTO': 'AN',\n",
       "        'ID_DEPARTAMENTO': 31,\n",
       "        'SGL_REGION': 'NW',\n",
       "        'COD_DEPA_DANE': '05',\n",
       "        'TXT_NME_DEPARTAMENTO': 'ANTIOQUIA',\n",
       "        'DTA_CREACION': 'Fri, 24 Oct 2008 11:45:35 GMT',\n",
       "        'DTA_ACTUALIZACION': 'Tue, 19 Apr 2022 10:07:15 GMT',\n",
       "        'ID_PAIS': 1,\n",
       "        'ID': 31,\n",
       "        'country': [{'SGL_PAIS': 'COL',\n",
       "          'TXT_NME_PAIS': 'Colombia',\n",
       "          'SGL_IDIOMA': 'EN',\n",
       "          'SGL_PAIS_ISO_2': 'CO',\n",
       "          'COD_PAIS_SIGP': 19,\n",
       "          'SGL_CONTINENTE_4': 'AME',\n",
       "          'SGL_CONTINENTE': 'AME',\n",
       "          'SGL_CONTINENTE_6': 'AME',\n",
       "          'SGL_CONTINENTE_7': 'SAM',\n",
       "          'SGL_CONTINENTE_8': 'SAM',\n",
       "          'DTA_CREACION': 'Fri, 05 Jun 2015 14:54:15 GMT',\n",
       "          'DTA_ACTUALIZACION': 'Fri, 05 Jun 2015 14:54:20 GMT',\n",
       "          'TXT_NME_PAIS_ING': 'Colombia',\n",
       "          'ID': 1}]}]}]}],\n",
       "  'language': [{'SGL_IDIOMA': 'EN',\n",
       "    'TXT_NME_IDIOMA': 'Inglés',\n",
       "    'NRO_IMPORTANCIA': 2,\n",
       "    'DTA_CREACION': 'Fri, 05 Jun 2015 14:54:15 GMT',\n",
       "    'DTA_ACTUALIZACION': 'Fri, 05 Jun 2015 14:54:15 GMT'}],\n",
       "  'product_type': [{'COD_TIPO_PRODUCTO': '111',\n",
       "    'TXT_NME_TIPO_PRODUCTO': 'Publicado en revista especializada',\n",
       "    'NRO_NIVEL': 2,\n",
       "    'COD_TIPO_PRODUCTO_PADRE': '11',\n",
       "    'STA_ACTIVO': 'T',\n",
       "    'TPO_CLASE': 'NC',\n",
       "    'product_type': [{'COD_TIPO_PRODUCTO': '11',\n",
       "      'TXT_NME_TIPO_PRODUCTO': 'Artículo',\n",
       "      'NRO_NIVEL': 1,\n",
       "      'COD_TIPO_PRODUCTO_PADRE': '1',\n",
       "      'STA_ACTIVO': 'T',\n",
       "      'product_type': [{'COD_TIPO_PRODUCTO': '1',\n",
       "        'TXT_NME_TIPO_PRODUCTO': 'Producción bibliográfica',\n",
       "        'NRO_NIVEL': 0,\n",
       "        'STA_ACTIVO': 'T'}]}]}],\n",
       "  'NRO_ID_GRUPO': '00000000001676',\n",
       "  'SEQ_PRODUCTO': 32128,\n",
       "  'DTA_VINCULACION': 'Mon, 26 Apr 2021 20:50:30 GMT',\n",
       "  'STA_HUERFANO': 'F',\n",
       "  'STA_MEDIDO': 'T',\n",
       "  'group': [{'NRO_ID_GRUPO': '00000000001676',\n",
       "    'COD_ID_GRUPO': 'COL0008423',\n",
       "    'NME_GRUPO': 'Grupo de Fenomenologia de Interacciones Fundamentales',\n",
       "    'ANO_FORMACAO': 1979,\n",
       "    'MES_FORMACAO': 12,\n",
       "    'COD_RH_AREA': '0000000000',\n",
       "    'COD_AREA_CONHEC': '1C03',\n",
       "    'COD_PROGRAMA': 5,\n",
       "    'COD_PROGRAMA_SECUND': 0,\n",
       "    'TPO_ESTADO_GR': 0,\n",
       "    'TXT_CLASIF': 'A1',\n",
       "    'DTA_CLASIF': 'Tue, 24 May 2022 00:00:00 GMT',\n",
       "    'DTA_FIN_CLASIF': 'Thu, 23 May 2024 00:00:00 GMT',\n",
       "    'TPO_GRUPO': 'T',\n",
       "    'DTA_TPO_GRUPO': 'Tue, 24 May 2022 00:00:00 GMT',\n",
       "    'STA_ELIMINADO': 'F',\n",
       "    'TXT_PLAN_TRABAJO': 'Estudio teorico de la fenomenologia del modelo estandar,\\r\\n\\r\\nAnalisis de extensiones supersimetricas del modelo estandar y de fisica mas alla del modelo estandar en general,\\r\\n\\r\\nEstudio de senales de neutrinos emitidos por supernovas (Fisica de Astroparticulas),\\r\\n\\r\\nFisica de energias intermedias.\\r\\n\\r\\nCosmología',\n",
       "    'TXT_ESTADO_ARTE': 'El modelo estandar (M E) ha pasado con exito las mas estrictas pruebas experimentales no solo a nivel clasico, sino tambien a nivel cuantico con solo una evidencia de necesidad de nueva fisica: las anomalias solar y atmosferica de neutrinos. Aun asi, el M E tiene algunas falencias teoricas que han motivado el desarrollo de una serie de modelos los cuales predicen nuevas particulas que pueden estar al alcance de los aceleradores presentes y futuros. Entre las extensiones mas estudiadas del M E en la actualidad estan las motivadas epecialmente por la solucion del problema de la jerarquia de masa del Higgs (la renormalizacion de la masa del Higgs en el ME involucra divergencias cuadraticas) como supersimetria y dimensiones extra, las cuales a su vez pueden acomodar los resultados sobre anomalias de neutrinos. Otros modelos de fisica mas alla del M E estan basados en extensiones del grupo gauge como las teorias de gran unificacion o los modelos del tipo SU(3)_cxSU(3)XU(1).\\r\\nEs importante recalcar que nuestro grupo ha venido trabajando en todos estos topicos.',\n",
       "    'TXT_OBJETIVOS': 'Contribuir al desarrollo de la física teórica y hacer investigación básica en el área de la fenomenología de las partículas elementales y los tópicos relacionados.\\r\\n\\r\\nConstruir modelos para explicar y predecir los resultados experimentales obtenidos en los aceleradores y demás laboratorios de física de partículas elementales.\\r\\n\\r\\nEstudiar y explorar nuevas teorías que expliquen el comportamiento de la materia a muy altas energías.\\r\\n\\r\\nEnseñar los tópicos de esta área de investigación a nuevos estudiantes para mantener y fortalecer el grupo de investigación.\\r\\n\\r\\nContribuir al fortalecimiento de la red nacional de investigadores en esta área del conocimiento.\\r\\n\\r\\nMejorar la percepción y entendimiento que tiene el publico en general de la física de altas energías.',\n",
       "    'TXT_PROD_DESTACADA': 'sobre propiedades electromanegticas de neutrinos: M. Hirsch, E. Nardi and D. Restrepo *Bounds on the tau and muon neutrino vector and axial vector charge radius,*  Phys Rev. D 67:033005 (2003)\\r\\n\\r\\nsobre extensiones del sector de gauge de modelo estandar que permiten generar masas para los neutrinos :R. Martinez, W.A. Ponce and L.A.Sanchez, Phys Rev. D 65 (2002) 055013 \\r\\n\\r\\nsobre la explicacion de las anomalias de neutrinos usando supersimetria: J.M.Mira, E. Nardi, D.A. Restrepo and J.W Valle, Phys lett. B 492 (2000) 81\\r\\n\\r\\nsobre implicaciones astrofisicas de neutrinos: E, Nardi and J.I. Zuluaga, astrophys. J. 549 (2001) 1076\\r\\n\\r\\nsobre la solucion del problema \\\\mu en supersimetria:J.M.Mira, E. Nardi and D.A. Restrepo\\r\\nPhys Rev. D 62 (2000) 016002\\r\\n',\n",
       "    'TXT_RETOS': 'Proyectarnos a nivel latinoamericano e internacional en los próximos dos años. Para ello necesitamos consolidar las colaboraciones que tenemos con los grupos nacionales y extranjeros en áreas de alto interés para la comunidad científica en nuestro campo como son los modelos supersimétricos para la generación de masas y mezclas para neutrinos, y las implicaciones fenomenológicas de modelos de dimensiones extras y con estructura gauge extendida tanto en sus versiones normales como supersimetrizadas. También necesitamos consolidar la formación de recurso humanos no sólo a través de la línea de doctorado y maestría sino también fomentando la formación posdoctoral de los miembros más jóvenes de nuestro grupo.',\n",
       "    'TXT_VISION': 'Ser protagonistas en la simulación e interpretación de la gran avalancha de resultados experimantales que se genera con el funcionamiento del LARGE HADRON COLLIDER en Europa , los resultados de alta luminosidad del TEVATRON en Estados Unidos, el experimento PIER AUGER en Argentina, y los diferentes experimentos de neutrinos solares con angulo de mezcla grande o MUNU en Rusia para explorar las propiedades electromagnéticas de los neutrinos y los satélites de medición precisa de las fluctuaciones de la radiación cósmica de fondo como WMAP y PLANCK y sus implicaciones en la física de neutrinos.',\n",
       "    'STA_CERTIFICADO': 'T',\n",
       "    'DTA_CERTIFICADO': 'Thu, 21 Jan 2016 00:00:00 GMT',\n",
       "    'DTA_CREACION': 'Tue, 11 Sep 2007 13:29:58 GMT',\n",
       "    'DTA_ACTUALIZACION': 'Tue, 24 May 2022 19:50:25 GMT',\n",
       "    'COD_CERTIFICACION': 'COL0008423201601211837',\n",
       "    'DTA_INI_SESION': 'Wed, 26 Jan 2022 07:30:12 GMT',\n",
       "    'TXT_CLASIF_1': 'A1',\n",
       "    'STA_CENTRO': 'F',\n",
       "    'STA_SECTOR': 'F',\n",
       "    'STA_ACTIVO': 'A',\n",
       "    'NRO_BLOQUEOS': 2,\n",
       "    'COD_AREA_CONHEC_BK': '1C',\n",
       "    'institution': [{'COD_INST': '007300000887',\n",
       "      'COD_INST_MACRO': '007300000887',\n",
       "      'NME_INST': 'UNIVERSIDAD DE ANTIOQUIA',\n",
       "      'SGL_INST': 'UdeA',\n",
       "      'COD_SECTOR_ECON': '241',\n",
       "      'SGL_PAIS': '1',\n",
       "      'SGL_DEPARTAMENTO': '31',\n",
       "      'COD_RH_MUNICIPIO': '0000000000',\n",
       "      'COD_MUNICIPIO': '786',\n",
       "      'URL_HOME_PAGE': 'http://www.udea.edu.co',\n",
       "      'TXT_DIRECCION': 'Calle 67 53-10',\n",
       "      'TXT_TELEFONO': ' 4-2195190',\n",
       "      'TXT_EMAIL': 'viceinvestigacion@udea.edu.co',\n",
       "      'TXT_NIT': '890980040',\n",
       "      'TXT_DIGITO_VERIFICADOR': '8',\n",
       "      'ID_REPRESENTANTE': 4,\n",
       "      'TPO_AVAL': '1',\n",
       "      'TXT_CIUDAD_INST': 'Medellín',\n",
       "      'TPO_CONTRIBUYENTE': 6,\n",
       "      'STA_EXPORTA': 12,\n",
       "      'COD_NIVEL': 1,\n",
       "      'COD_IES': '1201',\n",
       "      'DTA_CONSTITUCION': 'Sat, 30 May 1964 00:00:00 GMT',\n",
       "      'DTA_CREACION': 'Mon, 12 May 2008 12:34:11 GMT',\n",
       "      'DTA_ACTUALIZACION': 'Mon, 08 Feb 2021 08:46:45 GMT',\n",
       "      'COD_SECTOR_ECON2': '1011',\n",
       "      'ID_INSTITUCION': 883,\n",
       "      'STA_TERMINOS_COND': 'T',\n",
       "      'DTA_ACEPTA_TERMINOS': 'Mon, 08 Feb 2021 08:45:14 GMT'}],\n",
       "    'knowledge_area': [{'COD_RH': '0000000000',\n",
       "      'COD_AREA_CONOCIMIENTO': '1C03',\n",
       "      'TXT_NME_AREA': 'Física de Partículas y Campos',\n",
       "      'NRO_NIVEL': 2,\n",
       "      'TXT_VERIFICADO': 'T',\n",
       "      'COD_RH_PADRE': '0000000000',\n",
       "      'COD_AREA_PADRE': '1C',\n",
       "      'COD_RH_FULL': '0000000000',\n",
       "      'COD_AREA_CONOCIMIENTO_FULL': '1 - 1C - 1C03',\n",
       "      'TXT_NME_AREA_FULL': 'Ciencias Naturales -- Ciencias Físicas -- Física de Partículas y Campos',\n",
       "      'TPO_CAMBIO': 'T',\n",
       "      'DTA_CREACION': 'Thu, 31 Oct 2013 00:00:00 GMT',\n",
       "      'DTA_ACTUALIZACION': 'Thu, 31 Oct 2013 00:00:00 GMT',\n",
       "      'knowledge_area': [{'COD_RH': '0000000000',\n",
       "        'COD_AREA_CONOCIMIENTO': '1C',\n",
       "        'TXT_NME_AREA': 'Ciencias Físicas',\n",
       "        'NRO_NIVEL': 1,\n",
       "        'TXT_VERIFICADO': 'T',\n",
       "        'COD_RH_PADRE': '0000000000',\n",
       "        'COD_AREA_PADRE': '1',\n",
       "        'COD_RH_FULL': '0000000000',\n",
       "        'COD_AREA_CONOCIMIENTO_FULL': '1 - 1C',\n",
       "        'TXT_NME_AREA_FULL': 'Ciencias Naturales -- Ciencias Físicas',\n",
       "        'TPO_CAMBIO': 'T',\n",
       "        'DTA_CREACION': 'Thu, 31 Oct 2013 00:00:00 GMT',\n",
       "        'DTA_ACTUALIZACION': 'Fri, 15 Nov 2013 11:42:07 GMT',\n",
       "        'knowledge_area': [{'COD_RH': '0000000000',\n",
       "          'COD_AREA_CONOCIMIENTO': '1',\n",
       "          'TXT_NME_AREA': 'Ciencias Naturales',\n",
       "          'NRO_NIVEL': 0,\n",
       "          'TXT_VERIFICADO': 'T',\n",
       "          'COD_RH_PADRE': '0000000000',\n",
       "          'TXT_NME_AREA_FULL': 'Ciencias Naturales',\n",
       "          'TPO_CAMBIO': 'T',\n",
       "          'DTA_CREACION': 'Thu, 31 Oct 2013 00:00:00 GMT',\n",
       "          'DTA_ACTUALIZACION': 'Thu, 31 Oct 2013 00:00:00 GMT'}]}]}]}],\n",
       "  'author_others': [{'COD_RH_CREA': '0000707619',\n",
       "    'COD_RH_OTRO': '0',\n",
       "    'TXT_NME_RH': 'Oscar Alberto',\n",
       "    'TXT_PRIM_APELL': 'Zapata',\n",
       "    'TXT_SEG_APELL': 'Norena',\n",
       "    'SGL_PAIS': 'COL',\n",
       "    'TPO_NACIONALIDAD': 'C',\n",
       "    'DTA_NACIMIENTO': 'Fri, 25 Apr 1980 00:00:00 GMT',\n",
       "    'TPO_DOC_IDENTIFICACION': 'C',\n",
       "    'NRO_DOC_IDENTIFICACION': '15386534',\n",
       "    'NRO_ID_CNPQ': '2768502538640334',\n",
       "    'DTA_CREACION': 'Thu, 22 Jun 2006 10:50:12 GMT',\n",
       "    'DTA_ACTUALIZACION': 'Sat, 20 Dec 2014 01:35:20 GMT',\n",
       "    'TXT_TOTAL_NAMES': 'Oscar Alberto Zapata Norena',\n",
       "    'COD_RH_REF': '0000707619'}],\n",
       "  'details': [{'article': [{'COD_RH': '0000707619',\n",
       "      'COD_PRODUCTO': '52',\n",
       "      'COD_REVISTA': 125329,\n",
       "      'TXT_VOLUMEN_REVISTA': '101',\n",
       "      'TXT_FASCICULO_REVISTA': '035004',\n",
       "      'TXT_PAGINA_INICIAL': '035004-1',\n",
       "      'TXT_PAGINA_FINAL': '035004-10',\n",
       "      'DTA_CREACION': 'Mon, 19 Apr 2021 14:51:48 GMT',\n",
       "      'DTA_ACTUALIZACION': 'Wed, 06 Oct 2021 19:16:24 GMT',\n",
       "      'journal': [{'COD_REVISTA': 125329,\n",
       "        'TXT_ISSN_SEP': '2470-0010',\n",
       "        'TXT_ISSN': '24700010',\n",
       "        'COD_REVISTA_REF': 1235493,\n",
       "        'TXT_ISSN_REF_SEP': '2470-0029',\n",
       "        'TXT_ISSN_REF': '24700029',\n",
       "        'TXT_NME_REVISTA': 'Physical Review D',\n",
       "        'SGL_PAIS': 'EUA',\n",
       "        'TPO_REVISTA': 'P',\n",
       "        'COD_EDITORIAL': 705,\n",
       "        'STA_VERIFICADA': 'P',\n",
       "        'editorial': [{'COD_EDITORIAL': 705,\n",
       "          'TXT_NME_EDITORIAL': 'The American Physical Society',\n",
       "          'COD_RH_MUNICIPIO': '0000000000',\n",
       "          'TXT_PAGINA_WEB': '\"http://www.aps.org/\"',\n",
       "          'TPO_INSTITUCION': 'IL',\n",
       "          'TXT_REFERENCIA': 'O'}]}]}]}],\n",
       "  'NIVEL_MAX': '111: Publicado en revista especializada'},\n",
       " {'_id': ObjectId('637d3a26244b9f9d0fe574b3'),\n",
       "  'COD_RH': '0000177733',\n",
       "  'COD_PRODUCTO': '140',\n",
       "  'TXT_NME_PROD': 'Phenomenological consistency of the singlet-triplet scotogenic model',\n",
       "  'SGL_IDIOMA': 'EN',\n",
       "  'COD_TIPO_PRODUCTO': '111',\n",
       "  'SGL_PAIS': 'EUA',\n",
       "  'NRO_ANO_PRESENTA': 2020,\n",
       "  'NRO_MES_PRESENTA': 4,\n",
       "  'TXT_WEB_PRODUCTO': 'https://link.springer.com/article/10.1007/JHEP04(2020)134',\n",
       "  'TPO_MEDIO_DIVULGACION': 'H',\n",
       "  'STA_CERTIFICADO': '0',\n",
       "  'STA_VERIFICACION_AUTO': '0',\n",
       "  'STA_VERIFICACION_USUA': '4',\n",
       "  'DTA_CREACION': 'Fri, 23 Apr 2021 12:17:12 GMT',\n",
       "  'DTA_ACTUALIZACION': 'Fri, 23 Apr 2021 12:17:12 GMT',\n",
       "  'NRO_PATENTES': 0,\n",
       "  'NRO_SECRETOS': 0,\n",
       "  'TXT_DOI': '10.1007/JHEP04(2020)134',\n",
       "  'NRO_REGISTROS': 0,\n",
       "  'SGL_CATEGORIA': 'PID-PID_C',\n",
       "  'NRO_ARTISTICAS_DET': 0,\n",
       "  'author': [{'COD_RH': '0000177733',\n",
       "    'NRO_ID_CNPQ': '4193202494462358',\n",
       "    'TXT_NAMES_RH': 'Diego Alejandro',\n",
       "    'TXT_PRIM_APELL': 'Restrepo',\n",
       "    'TXT_SEG_APELL': 'Quintero',\n",
       "    'TXT_TOTAL_NAMES': 'Diego Alejandro Restrepo Quintero',\n",
       "    'TPO_NACIONALIDAD': 'C',\n",
       "    'DTA_NACIM': 'Wed, 10 Mar 1971 00:00:00 GMT',\n",
       "    'TPO_DOCUMENTO_IDENT': 'C',\n",
       "    'TPO_SEXO': 'M',\n",
       "    'COD_RH_MUN_NACIM': '0000000000',\n",
       "    'COD_MUN_NACIM': '297',\n",
       "    'NRO_DOCUMENTO_IDENT': '98554575',\n",
       "    'COD_RH_MUN_EXPED_DOC': '0000000000',\n",
       "    'COD_MUN_EXPED_DOC': '296',\n",
       "    'NRO_PASAPORTE': 'AM864262',\n",
       "    'COD_RH_RELIGION': '0000000000',\n",
       "    'SGL_PAIS_NACIM': 'COL',\n",
       "    'TPO_ESTADO_CIVIL': 'C',\n",
       "    'TPO_DIRECCION_USUAL': 'I',\n",
       "    'TPO_DOC_ACTUALIZACION': 'CCO',\n",
       "    'TPO_VER_DOC_ACTUALIZACION': '2.0.0',\n",
       "    'TXT_CITACION_BIBLIO': 'RESTREPO QUINTERO DIEGO ALEJANDRO',\n",
       "    'STA_CERTIFICADO': 'T',\n",
       "    'DTA_CERTIFICADO': 'Wed, 25 Feb 2009 00:00:00 GMT',\n",
       "    'TXT_RESPUESTA': 'greco',\n",
       "    'TXT_PREGUNTA': 'perro?',\n",
       "    'DTA_CREACION': 'Mon, 16 Dec 2002 12:21:43 GMT',\n",
       "    'DTA_ACTUALIZACION': 'Wed, 06 Apr 2022 13:37:32 GMT',\n",
       "    'COD_CERTIFICACION': '0000177733201403141215',\n",
       "    'STA_VISIBLE': 'T',\n",
       "    'TPO_PERFIL': 'IS',\n",
       "    'TXT_CONF_DATOS': 'T',\n",
       "    'COD_ORCID': '0000-0001-6455-5564',\n",
       "    'AUTOR_ID_SCP': '7005721136',\n",
       "    'STA_ACTIVO': 'A',\n",
       "    'city': [{'COD_RH_MUNICIPIO': '0000000000',\n",
       "      'COD_MUNICIPIO': '297',\n",
       "      'ID_MUNICIPIO': 433,\n",
       "      'SGL_DEPARTAMENTO': 'AN',\n",
       "      'SGL_PAIS': 'COL',\n",
       "      'COD_MUNI_DANE': '05282',\n",
       "      'TXT_NME_MUNICIPIO': 'FREDONIA',\n",
       "      'DTA_CREACION': 'Wed, 07 May 2008 12:29:11 GMT',\n",
       "      'DTA_ACTUALIZACION': 'Tue, 19 Apr 2022 11:04:53 GMT',\n",
       "      'ID_PAIS': 1,\n",
       "      'ID_DEPARTAMENTO': 31,\n",
       "      'department': [{'SGL_PAIS': 'COL',\n",
       "        'SGL_DEPARTAMENTO': 'AN',\n",
       "        'ID_DEPARTAMENTO': 31,\n",
       "        'SGL_REGION': 'NW',\n",
       "        'COD_DEPA_DANE': '05',\n",
       "        'TXT_NME_DEPARTAMENTO': 'ANTIOQUIA',\n",
       "        'DTA_CREACION': 'Fri, 24 Oct 2008 11:45:35 GMT',\n",
       "        'DTA_ACTUALIZACION': 'Tue, 19 Apr 2022 10:07:15 GMT',\n",
       "        'ID_PAIS': 1,\n",
       "        'ID': 31,\n",
       "        'country': [{'SGL_PAIS': 'COL',\n",
       "          'TXT_NME_PAIS': 'Colombia',\n",
       "          'SGL_IDIOMA': 'EN',\n",
       "          'SGL_PAIS_ISO_2': 'CO',\n",
       "          'COD_PAIS_SIGP': 19,\n",
       "          'SGL_CONTINENTE_4': 'AME',\n",
       "          'SGL_CONTINENTE': 'AME',\n",
       "          'SGL_CONTINENTE_6': 'AME',\n",
       "          'SGL_CONTINENTE_7': 'SAM',\n",
       "          'SGL_CONTINENTE_8': 'SAM',\n",
       "          'DTA_CREACION': 'Fri, 05 Jun 2015 14:54:15 GMT',\n",
       "          'DTA_ACTUALIZACION': 'Fri, 05 Jun 2015 14:54:20 GMT',\n",
       "          'TXT_NME_PAIS_ING': 'Colombia',\n",
       "          'ID': 1}]}]}]}],\n",
       "  'language': [{'SGL_IDIOMA': 'EN',\n",
       "    'TXT_NME_IDIOMA': 'Inglés',\n",
       "    'NRO_IMPORTANCIA': 2,\n",
       "    'DTA_CREACION': 'Fri, 05 Jun 2015 14:54:15 GMT',\n",
       "    'DTA_ACTUALIZACION': 'Fri, 05 Jun 2015 14:54:15 GMT'}],\n",
       "  'product_type': [{'COD_TIPO_PRODUCTO': '111',\n",
       "    'TXT_NME_TIPO_PRODUCTO': 'Publicado en revista especializada',\n",
       "    'NRO_NIVEL': 2,\n",
       "    'COD_TIPO_PRODUCTO_PADRE': '11',\n",
       "    'STA_ACTIVO': 'T',\n",
       "    'TPO_CLASE': 'NC',\n",
       "    'product_type': [{'COD_TIPO_PRODUCTO': '11',\n",
       "      'TXT_NME_TIPO_PRODUCTO': 'Artículo',\n",
       "      'NRO_NIVEL': 1,\n",
       "      'COD_TIPO_PRODUCTO_PADRE': '1',\n",
       "      'STA_ACTIVO': 'T',\n",
       "      'product_type': [{'COD_TIPO_PRODUCTO': '1',\n",
       "        'TXT_NME_TIPO_PRODUCTO': 'Producción bibliográfica',\n",
       "        'NRO_NIVEL': 0,\n",
       "        'STA_ACTIVO': 'T'}]}]}],\n",
       "  'project': [{'COD_RH': '0000177733',\n",
       "    'COD_PROYECTO': '22',\n",
       "    'TXT_NME_PROYECTO': 'Materia oscura, masas de neutrinos y rayos gamma',\n",
       "    'TXT_RESUMEN_PROYECTO': 'Postdocs Colciencias\\r\\n',\n",
       "    'TPO_PROYECTO': 'ID',\n",
       "    'NRO_MES_INICIO': 10,\n",
       "    'NRO_ANO_INICIO': 2018,\n",
       "    'NRO_MES_FIN': 2,\n",
       "    'NRO_ANO_FIN': 2020,\n",
       "    'DTA_CREACION': 'Fri, 23 Apr 2021 12:12:21 GMT',\n",
       "    'DTA_ACTUALIZACION': 'Fri, 23 Apr 2021 12:12:21 GMT',\n",
       "    'TPO_FINANCIACION': 'FI',\n",
       "    'TPO_FTE_FINAN': 'I',\n",
       "    'TPO_AMB_FINAN': 'N',\n",
       "    'STA_AVAL_INST': 'F',\n",
       "    'SGL_CATEGORIA': 'PID-PID_C'}],\n",
       "  'NRO_ID_GRUPO': '00000000001676',\n",
       "  'SEQ_PRODUCTO': 32114,\n",
       "  'DTA_VINCULACION': 'Fri, 23 Apr 2021 12:17:12 GMT',\n",
       "  'STA_HUERFANO': 'F',\n",
       "  'STA_MEDIDO': 'T',\n",
       "  'group': [{'NRO_ID_GRUPO': '00000000001676',\n",
       "    'COD_ID_GRUPO': 'COL0008423',\n",
       "    'NME_GRUPO': 'Grupo de Fenomenologia de Interacciones Fundamentales',\n",
       "    'ANO_FORMACAO': 1979,\n",
       "    'MES_FORMACAO': 12,\n",
       "    'COD_RH_AREA': '0000000000',\n",
       "    'COD_AREA_CONHEC': '1C03',\n",
       "    'COD_PROGRAMA': 5,\n",
       "    'COD_PROGRAMA_SECUND': 0,\n",
       "    'TPO_ESTADO_GR': 0,\n",
       "    'TXT_CLASIF': 'A1',\n",
       "    'DTA_CLASIF': 'Tue, 24 May 2022 00:00:00 GMT',\n",
       "    'DTA_FIN_CLASIF': 'Thu, 23 May 2024 00:00:00 GMT',\n",
       "    'TPO_GRUPO': 'T',\n",
       "    'DTA_TPO_GRUPO': 'Tue, 24 May 2022 00:00:00 GMT',\n",
       "    'STA_ELIMINADO': 'F',\n",
       "    'TXT_PLAN_TRABAJO': 'Estudio teorico de la fenomenologia del modelo estandar,\\r\\n\\r\\nAnalisis de extensiones supersimetricas del modelo estandar y de fisica mas alla del modelo estandar en general,\\r\\n\\r\\nEstudio de senales de neutrinos emitidos por supernovas (Fisica de Astroparticulas),\\r\\n\\r\\nFisica de energias intermedias.\\r\\n\\r\\nCosmología',\n",
       "    'TXT_ESTADO_ARTE': 'El modelo estandar (M E) ha pasado con exito las mas estrictas pruebas experimentales no solo a nivel clasico, sino tambien a nivel cuantico con solo una evidencia de necesidad de nueva fisica: las anomalias solar y atmosferica de neutrinos. Aun asi, el M E tiene algunas falencias teoricas que han motivado el desarrollo de una serie de modelos los cuales predicen nuevas particulas que pueden estar al alcance de los aceleradores presentes y futuros. Entre las extensiones mas estudiadas del M E en la actualidad estan las motivadas epecialmente por la solucion del problema de la jerarquia de masa del Higgs (la renormalizacion de la masa del Higgs en el ME involucra divergencias cuadraticas) como supersimetria y dimensiones extra, las cuales a su vez pueden acomodar los resultados sobre anomalias de neutrinos. Otros modelos de fisica mas alla del M E estan basados en extensiones del grupo gauge como las teorias de gran unificacion o los modelos del tipo SU(3)_cxSU(3)XU(1).\\r\\nEs importante recalcar que nuestro grupo ha venido trabajando en todos estos topicos.',\n",
       "    'TXT_OBJETIVOS': 'Contribuir al desarrollo de la física teórica y hacer investigación básica en el área de la fenomenología de las partículas elementales y los tópicos relacionados.\\r\\n\\r\\nConstruir modelos para explicar y predecir los resultados experimentales obtenidos en los aceleradores y demás laboratorios de física de partículas elementales.\\r\\n\\r\\nEstudiar y explorar nuevas teorías que expliquen el comportamiento de la materia a muy altas energías.\\r\\n\\r\\nEnseñar los tópicos de esta área de investigación a nuevos estudiantes para mantener y fortalecer el grupo de investigación.\\r\\n\\r\\nContribuir al fortalecimiento de la red nacional de investigadores en esta área del conocimiento.\\r\\n\\r\\nMejorar la percepción y entendimiento que tiene el publico en general de la física de altas energías.',\n",
       "    'TXT_PROD_DESTACADA': 'sobre propiedades electromanegticas de neutrinos: M. Hirsch, E. Nardi and D. Restrepo *Bounds on the tau and muon neutrino vector and axial vector charge radius,*  Phys Rev. D 67:033005 (2003)\\r\\n\\r\\nsobre extensiones del sector de gauge de modelo estandar que permiten generar masas para los neutrinos :R. Martinez, W.A. Ponce and L.A.Sanchez, Phys Rev. D 65 (2002) 055013 \\r\\n\\r\\nsobre la explicacion de las anomalias de neutrinos usando supersimetria: J.M.Mira, E. Nardi, D.A. Restrepo and J.W Valle, Phys lett. B 492 (2000) 81\\r\\n\\r\\nsobre implicaciones astrofisicas de neutrinos: E, Nardi and J.I. Zuluaga, astrophys. J. 549 (2001) 1076\\r\\n\\r\\nsobre la solucion del problema \\\\mu en supersimetria:J.M.Mira, E. Nardi and D.A. Restrepo\\r\\nPhys Rev. D 62 (2000) 016002\\r\\n',\n",
       "    'TXT_RETOS': 'Proyectarnos a nivel latinoamericano e internacional en los próximos dos años. Para ello necesitamos consolidar las colaboraciones que tenemos con los grupos nacionales y extranjeros en áreas de alto interés para la comunidad científica en nuestro campo como son los modelos supersimétricos para la generación de masas y mezclas para neutrinos, y las implicaciones fenomenológicas de modelos de dimensiones extras y con estructura gauge extendida tanto en sus versiones normales como supersimetrizadas. También necesitamos consolidar la formación de recurso humanos no sólo a través de la línea de doctorado y maestría sino también fomentando la formación posdoctoral de los miembros más jóvenes de nuestro grupo.',\n",
       "    'TXT_VISION': 'Ser protagonistas en la simulación e interpretación de la gran avalancha de resultados experimantales que se genera con el funcionamiento del LARGE HADRON COLLIDER en Europa , los resultados de alta luminosidad del TEVATRON en Estados Unidos, el experimento PIER AUGER en Argentina, y los diferentes experimentos de neutrinos solares con angulo de mezcla grande o MUNU en Rusia para explorar las propiedades electromagnéticas de los neutrinos y los satélites de medición precisa de las fluctuaciones de la radiación cósmica de fondo como WMAP y PLANCK y sus implicaciones en la física de neutrinos.',\n",
       "    'STA_CERTIFICADO': 'T',\n",
       "    'DTA_CERTIFICADO': 'Thu, 21 Jan 2016 00:00:00 GMT',\n",
       "    'DTA_CREACION': 'Tue, 11 Sep 2007 13:29:58 GMT',\n",
       "    'DTA_ACTUALIZACION': 'Tue, 24 May 2022 19:50:25 GMT',\n",
       "    'COD_CERTIFICACION': 'COL0008423201601211837',\n",
       "    'DTA_INI_SESION': 'Wed, 26 Jan 2022 07:30:12 GMT',\n",
       "    'TXT_CLASIF_1': 'A1',\n",
       "    'STA_CENTRO': 'F',\n",
       "    'STA_SECTOR': 'F',\n",
       "    'STA_ACTIVO': 'A',\n",
       "    'NRO_BLOQUEOS': 2,\n",
       "    'COD_AREA_CONHEC_BK': '1C',\n",
       "    'institution': [{'COD_INST': '007300000887',\n",
       "      'COD_INST_MACRO': '007300000887',\n",
       "      'NME_INST': 'UNIVERSIDAD DE ANTIOQUIA',\n",
       "      'SGL_INST': 'UdeA',\n",
       "      'COD_SECTOR_ECON': '241',\n",
       "      'SGL_PAIS': '1',\n",
       "      'SGL_DEPARTAMENTO': '31',\n",
       "      'COD_RH_MUNICIPIO': '0000000000',\n",
       "      'COD_MUNICIPIO': '786',\n",
       "      'URL_HOME_PAGE': 'http://www.udea.edu.co',\n",
       "      'TXT_DIRECCION': 'Calle 67 53-10',\n",
       "      'TXT_TELEFONO': ' 4-2195190',\n",
       "      'TXT_EMAIL': 'viceinvestigacion@udea.edu.co',\n",
       "      'TXT_NIT': '890980040',\n",
       "      'TXT_DIGITO_VERIFICADOR': '8',\n",
       "      'ID_REPRESENTANTE': 4,\n",
       "      'TPO_AVAL': '1',\n",
       "      'TXT_CIUDAD_INST': 'Medellín',\n",
       "      'TPO_CONTRIBUYENTE': 6,\n",
       "      'STA_EXPORTA': 12,\n",
       "      'COD_NIVEL': 1,\n",
       "      'COD_IES': '1201',\n",
       "      'DTA_CONSTITUCION': 'Sat, 30 May 1964 00:00:00 GMT',\n",
       "      'DTA_CREACION': 'Mon, 12 May 2008 12:34:11 GMT',\n",
       "      'DTA_ACTUALIZACION': 'Mon, 08 Feb 2021 08:46:45 GMT',\n",
       "      'COD_SECTOR_ECON2': '1011',\n",
       "      'ID_INSTITUCION': 883,\n",
       "      'STA_TERMINOS_COND': 'T',\n",
       "      'DTA_ACEPTA_TERMINOS': 'Mon, 08 Feb 2021 08:45:14 GMT'}],\n",
       "    'knowledge_area': [{'COD_RH': '0000000000',\n",
       "      'COD_AREA_CONOCIMIENTO': '1C03',\n",
       "      'TXT_NME_AREA': 'Física de Partículas y Campos',\n",
       "      'NRO_NIVEL': 2,\n",
       "      'TXT_VERIFICADO': 'T',\n",
       "      'COD_RH_PADRE': '0000000000',\n",
       "      'COD_AREA_PADRE': '1C',\n",
       "      'COD_RH_FULL': '0000000000',\n",
       "      'COD_AREA_CONOCIMIENTO_FULL': '1 - 1C - 1C03',\n",
       "      'TXT_NME_AREA_FULL': 'Ciencias Naturales -- Ciencias Físicas -- Física de Partículas y Campos',\n",
       "      'TPO_CAMBIO': 'T',\n",
       "      'DTA_CREACION': 'Thu, 31 Oct 2013 00:00:00 GMT',\n",
       "      'DTA_ACTUALIZACION': 'Thu, 31 Oct 2013 00:00:00 GMT',\n",
       "      'knowledge_area': [{'COD_RH': '0000000000',\n",
       "        'COD_AREA_CONOCIMIENTO': '1C',\n",
       "        'TXT_NME_AREA': 'Ciencias Físicas',\n",
       "        'NRO_NIVEL': 1,\n",
       "        'TXT_VERIFICADO': 'T',\n",
       "        'COD_RH_PADRE': '0000000000',\n",
       "        'COD_AREA_PADRE': '1',\n",
       "        'COD_RH_FULL': '0000000000',\n",
       "        'COD_AREA_CONOCIMIENTO_FULL': '1 - 1C',\n",
       "        'TXT_NME_AREA_FULL': 'Ciencias Naturales -- Ciencias Físicas',\n",
       "        'TPO_CAMBIO': 'T',\n",
       "        'DTA_CREACION': 'Thu, 31 Oct 2013 00:00:00 GMT',\n",
       "        'DTA_ACTUALIZACION': 'Fri, 15 Nov 2013 11:42:07 GMT',\n",
       "        'knowledge_area': [{'COD_RH': '0000000000',\n",
       "          'COD_AREA_CONOCIMIENTO': '1',\n",
       "          'TXT_NME_AREA': 'Ciencias Naturales',\n",
       "          'NRO_NIVEL': 0,\n",
       "          'TXT_VERIFICADO': 'T',\n",
       "          'COD_RH_PADRE': '0000000000',\n",
       "          'TXT_NME_AREA_FULL': 'Ciencias Naturales',\n",
       "          'TPO_CAMBIO': 'T',\n",
       "          'DTA_CREACION': 'Thu, 31 Oct 2013 00:00:00 GMT',\n",
       "          'DTA_ACTUALIZACION': 'Thu, 31 Oct 2013 00:00:00 GMT'}]}]}]}],\n",
       "  'SEQ_PROJETO': 8530,\n",
       "  'COD_PROYECTO': '22',\n",
       "  'ANO_INIC': '2018',\n",
       "  'ANO_FIM': '2020',\n",
       "  'TXT_NOME_PROJETO': 'Materia oscura, masas de neutrinos y rayos gamma',\n",
       "  'TPO_NATUREZA': 'ID',\n",
       "  'DSC_PROJETO': 'Postdocs Colciencias\\r\\n',\n",
       "  'MES_INIC': 10,\n",
       "  'MES_FIM': 2,\n",
       "  'author_others': [{'COD_RH_CREA': '0000177733',\n",
       "    'COD_RH_OTRO': '0',\n",
       "    'TXT_NME_RH': 'Diego Alejandro',\n",
       "    'TXT_PRIM_APELL': 'Restrepo',\n",
       "    'TXT_SEG_APELL': 'Quintero',\n",
       "    'SGL_PAIS': 'COL',\n",
       "    'TPO_NACIONALIDAD': 'C',\n",
       "    'DTA_NACIMIENTO': 'Wed, 10 Mar 1971 00:00:00 GMT',\n",
       "    'TPO_DOC_IDENTIFICACION': 'C',\n",
       "    'NRO_DOC_IDENTIFICACION': '98554575',\n",
       "    'NRO_ID_CNPQ': '4193202494462358',\n",
       "    'DTA_CREACION': 'Mon, 16 Dec 2002 12:21:43 GMT',\n",
       "    'DTA_ACTUALIZACION': 'Fri, 26 Jan 2018 17:04:18 GMT',\n",
       "    'TXT_TOTAL_NAMES': 'Diego Alejandro Restrepo Quintero',\n",
       "    'COD_RH_REF': '0000177733',\n",
       "    'COD_ORCID': '0000-0001-6455-5564',\n",
       "    'AUTOR_ID_SCP': '7005721136'},\n",
       "   {'COD_RH_CREA': '0000177733',\n",
       "    'COD_RH_OTRO': '58',\n",
       "    'TXT_NME_RH': 'Andrés Felipe',\n",
       "    'TXT_PRIM_APELL': 'Rivera',\n",
       "    'TXT_SEG_APELL': 'Romero',\n",
       "    'SGL_PAIS': 'COL',\n",
       "    'TPO_NACIONALIDAD': 'C',\n",
       "    'DTA_NACIMIENTO': 'Thu, 28 Oct 1982 00:00:00 GMT',\n",
       "    'TPO_DOC_IDENTIFICACION': 'P',\n",
       "    'NRO_DOC_IDENTIFICACION': '8161616',\n",
       "    'NRO_ID_CNPQ': '5824561413835230',\n",
       "    'DTA_CREACION': 'Fri, 22 Jan 2016 11:41:11 GMT',\n",
       "    'DTA_ACTUALIZACION': 'Sun, 21 Jun 2020 20:43:22 GMT',\n",
       "    'TXT_TOTAL_NAMES': 'Andrés Felipe Rivera Romero',\n",
       "    'COD_RH_REF': '0001201360',\n",
       "    'COD_ORCID': '0000-0002-6256-8545'}],\n",
       "  'details': [{'article': [{'COD_RH': '0000177733',\n",
       "      'COD_PRODUCTO': '140',\n",
       "      'COD_REVISTA': 5581,\n",
       "      'COD_RH_MUNICIPIO': '0000177733',\n",
       "      'COD_MUNICIPIO': '10',\n",
       "      'TXT_VOLUMEN_REVISTA': '1',\n",
       "      'TXT_FASCICULO_REVISTA': 'N/A',\n",
       "      'TXT_PAGINA_INICIAL': '1',\n",
       "      'TXT_PAGINA_FINAL': '26',\n",
       "      'DTA_CREACION': 'Wed, 14 Apr 2021 12:40:03 GMT',\n",
       "      'DTA_ACTUALIZACION': 'Wed, 14 Apr 2021 12:40:03 GMT',\n",
       "      'journal': [{'COD_REVISTA': 5581,\n",
       "        'TXT_ISSN_SEP': '1029-8479',\n",
       "        'TXT_ISSN': '10298479',\n",
       "        'COD_REVISTA_REF': 22535,\n",
       "        'TXT_ISSN_REF_SEP': '1126-6708',\n",
       "        'TXT_ISSN_REF': '11266708',\n",
       "        'TXT_NME_REVISTA': 'Journal of High Energy Physics',\n",
       "        'SGL_PAIS': 'RFA',\n",
       "        'TPO_REVISTA': 'E',\n",
       "        'TPO_CLASIFICACION': 'C',\n",
       "        'COD_EDITORIAL': 1313,\n",
       "        'TXT_URL': 'http://www.springer.com/physics/particle+and+nuclear+physics/journal/13130',\n",
       "        'STA_VERIFICADA': 'P',\n",
       "        'editorial': [{'COD_EDITORIAL': 1313,\n",
       "          'TXT_NME_EDITORIAL': 'Springer Netherlands',\n",
       "          'COD_RH_MUNICIPIO': '0000000000',\n",
       "          'TPO_INSTITUCION': 'IL'}]}]}]},\n",
       "   {'keywords': [{'COD_RH': '0000177733',\n",
       "      'COD_PALABRA_CLAVE': 62,\n",
       "      'TXT_NME_PALABRA_CLAVE': 'Dark Matter',\n",
       "      'DTA_CREACION': 'Thu, 09 Oct 2008 05:12:30 GMT',\n",
       "      'DTA_ACTUALIZACION': 'Thu, 09 Oct 2008 05:12:30 GMT'},\n",
       "     {'COD_RH': '0000177733',\n",
       "      'COD_PALABRA_CLAVE': 68,\n",
       "      'TXT_NME_PALABRA_CLAVE': 'Neutrinos',\n",
       "      'DTA_CREACION': 'Wed, 14 Apr 2021 12:03:32 GMT',\n",
       "      'DTA_ACTUALIZACION': 'Wed, 14 Apr 2021 12:03:32 GMT'},\n",
       "     {'COD_RH': '0000177733',\n",
       "      'COD_PALABRA_CLAVE': 69,\n",
       "      'TXT_NME_PALABRA_CLAVE': 'Scotogenic model',\n",
       "      'DTA_CREACION': 'Wed, 14 Apr 2021 12:03:46 GMT',\n",
       "      'DTA_ACTUALIZACION': 'Wed, 14 Apr 2021 12:03:46 GMT'}]}],\n",
       "  'NIVEL_MAX': '111: Publicado en revista especializada'},\n",
       " {'_id': ObjectId('637d3a28244b9f9d0fe597d3'),\n",
       "  'COD_RH': '0000707619',\n",
       "  'COD_PRODUCTO': '41',\n",
       "  'TXT_NME_PROD': 'Anomalous leptonic U(1) symmetry: Syndetic origin of the QCD axion, weak-scale dark matter, and radiative neutrino mass',\n",
       "  'SGL_IDIOMA': 'EN',\n",
       "  'COD_TIPO_PRODUCTO': '111',\n",
       "  'SGL_PAIS': 'CIN',\n",
       "  'NRO_ANO_PRESENTA': 2018,\n",
       "  'NRO_MES_PRESENTA': 1,\n",
       "  'TXT_WEB_PRODUCTO': 'https://www.worldscientific.com/doi/pdf/10.1142/S0217732318500244',\n",
       "  'TPO_MEDIO_DIVULGACION': 'I',\n",
       "  'STA_CERTIFICADO': '0',\n",
       "  'STA_VERIFICACION_AUTO': '0',\n",
       "  'STA_VERIFICACION_USUA': '4',\n",
       "  'DTA_CREACION': 'Sun, 28 Apr 2019 10:47:38 GMT',\n",
       "  'DTA_ACTUALIZACION': 'Sun, 28 Apr 2019 10:47:38 GMT',\n",
       "  'NRO_PATENTES': 0,\n",
       "  'NRO_SECRETOS': 0,\n",
       "  'TXT_DOI': '10.1142/S0217732318500244',\n",
       "  'NRO_REGISTROS': 0,\n",
       "  'SGL_CATEGORIA': 'ART-ART_A2',\n",
       "  'NRO_ARTISTICAS_DET': 0,\n",
       "  'author': [{'COD_RH': '0000707619',\n",
       "    'NRO_ID_CNPQ': '2768502538640334',\n",
       "    'TXT_NAMES_RH': 'Oscar Alberto',\n",
       "    'TXT_PRIM_APELL': 'Zapata',\n",
       "    'TXT_SEG_APELL': 'Norena',\n",
       "    'TXT_TOTAL_NAMES': 'Oscar Alberto Zapata Norena',\n",
       "    'TPO_NACIONALIDAD': 'C',\n",
       "    'DTA_NACIM': 'Fri, 25 Apr 1980 00:00:00 GMT',\n",
       "    'TPO_DOCUMENTO_IDENT': 'C',\n",
       "    'TPO_SEXO': 'M',\n",
       "    'COD_RH_MUN_NACIM': '0000000000',\n",
       "    'COD_MUN_NACIM': '249',\n",
       "    'NRO_DOCUMENTO_IDENT': '15386534',\n",
       "    'COD_RH_MUN_EXPED_DOC': '0000000000',\n",
       "    'COD_MUN_EXPED_DOC': '312',\n",
       "    'COD_RH_RELIGION': '0000000000',\n",
       "    'SGL_PAIS_NACIM': 'COL',\n",
       "    'TPO_DIRECCION_USUAL': 'I',\n",
       "    'TPO_DOC_ACTUALIZACION': 'CCO',\n",
       "    'TPO_VER_DOC_ACTUALIZACION': 'W1.0.0',\n",
       "    'TXT_CITACION_BIBLIO': 'ZAPATA NORENA OSCAR ALBERTO',\n",
       "    'STA_CERTIFICADO': 'T',\n",
       "    'DTA_CERTIFICADO': 'Mon, 02 Dec 2013 00:00:00 GMT',\n",
       "    'DTA_CREACION': 'Thu, 22 Jun 2006 10:50:12 GMT',\n",
       "    'DTA_ACTUALIZACION': 'Wed, 12 Jan 2022 09:34:29 GMT',\n",
       "    'COD_CERTIFICACION': '0000707619201403141214',\n",
       "    'STA_VISIBLE': 'T',\n",
       "    'TPO_PERFIL': 'IS',\n",
       "    'TXT_CONF_DATOS': 'T',\n",
       "    'COD_ORCID': '0000-0001-5533-4014',\n",
       "    'STA_ACTIVO': 'A',\n",
       "    'city': [{'COD_RH_MUNICIPIO': '0000000000',\n",
       "      'COD_MUNICIPIO': '249',\n",
       "      'ID_MUNICIPIO': 385,\n",
       "      'SGL_DEPARTAMENTO': 'AN',\n",
       "      'SGL_PAIS': 'COL',\n",
       "      'COD_MUNI_DANE': '05001',\n",
       "      'TXT_NME_MUNICIPIO': 'MEDELLÍN',\n",
       "      'DTA_CREACION': 'Wed, 07 May 2008 12:29:11 GMT',\n",
       "      'DTA_ACTUALIZACION': 'Tue, 19 Apr 2022 11:04:53 GMT',\n",
       "      'ID_PAIS': 1,\n",
       "      'ID_DEPARTAMENTO': 31,\n",
       "      'department': [{'SGL_PAIS': 'COL',\n",
       "        'SGL_DEPARTAMENTO': 'AN',\n",
       "        'ID_DEPARTAMENTO': 31,\n",
       "        'SGL_REGION': 'NW',\n",
       "        'COD_DEPA_DANE': '05',\n",
       "        'TXT_NME_DEPARTAMENTO': 'ANTIOQUIA',\n",
       "        'DTA_CREACION': 'Fri, 24 Oct 2008 11:45:35 GMT',\n",
       "        'DTA_ACTUALIZACION': 'Tue, 19 Apr 2022 10:07:15 GMT',\n",
       "        'ID_PAIS': 1,\n",
       "        'ID': 31,\n",
       "        'country': [{'SGL_PAIS': 'COL',\n",
       "          'TXT_NME_PAIS': 'Colombia',\n",
       "          'SGL_IDIOMA': 'EN',\n",
       "          'SGL_PAIS_ISO_2': 'CO',\n",
       "          'COD_PAIS_SIGP': 19,\n",
       "          'SGL_CONTINENTE_4': 'AME',\n",
       "          'SGL_CONTINENTE': 'AME',\n",
       "          'SGL_CONTINENTE_6': 'AME',\n",
       "          'SGL_CONTINENTE_7': 'SAM',\n",
       "          'SGL_CONTINENTE_8': 'SAM',\n",
       "          'DTA_CREACION': 'Fri, 05 Jun 2015 14:54:15 GMT',\n",
       "          'DTA_ACTUALIZACION': 'Fri, 05 Jun 2015 14:54:20 GMT',\n",
       "          'TXT_NME_PAIS_ING': 'Colombia',\n",
       "          'ID': 1}]}]}]}],\n",
       "  'language': [{'SGL_IDIOMA': 'EN',\n",
       "    'TXT_NME_IDIOMA': 'Inglés',\n",
       "    'NRO_IMPORTANCIA': 2,\n",
       "    'DTA_CREACION': 'Fri, 05 Jun 2015 14:54:15 GMT',\n",
       "    'DTA_ACTUALIZACION': 'Fri, 05 Jun 2015 14:54:15 GMT'}],\n",
       "  'product_type': [{'COD_TIPO_PRODUCTO': '111',\n",
       "    'TXT_NME_TIPO_PRODUCTO': 'Publicado en revista especializada',\n",
       "    'NRO_NIVEL': 2,\n",
       "    'COD_TIPO_PRODUCTO_PADRE': '11',\n",
       "    'STA_ACTIVO': 'T',\n",
       "    'TPO_CLASE': 'NC',\n",
       "    'product_type': [{'COD_TIPO_PRODUCTO': '11',\n",
       "      'TXT_NME_TIPO_PRODUCTO': 'Artículo',\n",
       "      'NRO_NIVEL': 1,\n",
       "      'COD_TIPO_PRODUCTO_PADRE': '1',\n",
       "      'STA_ACTIVO': 'T',\n",
       "      'product_type': [{'COD_TIPO_PRODUCTO': '1',\n",
       "        'TXT_NME_TIPO_PRODUCTO': 'Producción bibliográfica',\n",
       "        'NRO_NIVEL': 0,\n",
       "        'STA_ACTIVO': 'T'}]}]}],\n",
       "  'NRO_ID_GRUPO': '00000000001676',\n",
       "  'SEQ_PRODUCTO': 31629,\n",
       "  'DTA_VINCULACION': 'Sun, 28 Apr 2019 10:47:38 GMT',\n",
       "  'STA_HUERFANO': 'F',\n",
       "  'STA_MEDIDO': 'T',\n",
       "  'group': [{'NRO_ID_GRUPO': '00000000001676',\n",
       "    'COD_ID_GRUPO': 'COL0008423',\n",
       "    'NME_GRUPO': 'Grupo de Fenomenologia de Interacciones Fundamentales',\n",
       "    'ANO_FORMACAO': 1979,\n",
       "    'MES_FORMACAO': 12,\n",
       "    'COD_RH_AREA': '0000000000',\n",
       "    'COD_AREA_CONHEC': '1C03',\n",
       "    'COD_PROGRAMA': 5,\n",
       "    'COD_PROGRAMA_SECUND': 0,\n",
       "    'TPO_ESTADO_GR': 0,\n",
       "    'TXT_CLASIF': 'A1',\n",
       "    'DTA_CLASIF': 'Tue, 24 May 2022 00:00:00 GMT',\n",
       "    'DTA_FIN_CLASIF': 'Thu, 23 May 2024 00:00:00 GMT',\n",
       "    'TPO_GRUPO': 'T',\n",
       "    'DTA_TPO_GRUPO': 'Tue, 24 May 2022 00:00:00 GMT',\n",
       "    'STA_ELIMINADO': 'F',\n",
       "    'TXT_PLAN_TRABAJO': 'Estudio teorico de la fenomenologia del modelo estandar,\\r\\n\\r\\nAnalisis de extensiones supersimetricas del modelo estandar y de fisica mas alla del modelo estandar en general,\\r\\n\\r\\nEstudio de senales de neutrinos emitidos por supernovas (Fisica de Astroparticulas),\\r\\n\\r\\nFisica de energias intermedias.\\r\\n\\r\\nCosmología',\n",
       "    'TXT_ESTADO_ARTE': 'El modelo estandar (M E) ha pasado con exito las mas estrictas pruebas experimentales no solo a nivel clasico, sino tambien a nivel cuantico con solo una evidencia de necesidad de nueva fisica: las anomalias solar y atmosferica de neutrinos. Aun asi, el M E tiene algunas falencias teoricas que han motivado el desarrollo de una serie de modelos los cuales predicen nuevas particulas que pueden estar al alcance de los aceleradores presentes y futuros. Entre las extensiones mas estudiadas del M E en la actualidad estan las motivadas epecialmente por la solucion del problema de la jerarquia de masa del Higgs (la renormalizacion de la masa del Higgs en el ME involucra divergencias cuadraticas) como supersimetria y dimensiones extra, las cuales a su vez pueden acomodar los resultados sobre anomalias de neutrinos. Otros modelos de fisica mas alla del M E estan basados en extensiones del grupo gauge como las teorias de gran unificacion o los modelos del tipo SU(3)_cxSU(3)XU(1).\\r\\nEs importante recalcar que nuestro grupo ha venido trabajando en todos estos topicos.',\n",
       "    'TXT_OBJETIVOS': 'Contribuir al desarrollo de la física teórica y hacer investigación básica en el área de la fenomenología de las partículas elementales y los tópicos relacionados.\\r\\n\\r\\nConstruir modelos para explicar y predecir los resultados experimentales obtenidos en los aceleradores y demás laboratorios de física de partículas elementales.\\r\\n\\r\\nEstudiar y explorar nuevas teorías que expliquen el comportamiento de la materia a muy altas energías.\\r\\n\\r\\nEnseñar los tópicos de esta área de investigación a nuevos estudiantes para mantener y fortalecer el grupo de investigación.\\r\\n\\r\\nContribuir al fortalecimiento de la red nacional de investigadores en esta área del conocimiento.\\r\\n\\r\\nMejorar la percepción y entendimiento que tiene el publico en general de la física de altas energías.',\n",
       "    'TXT_PROD_DESTACADA': 'sobre propiedades electromanegticas de neutrinos: M. Hirsch, E. Nardi and D. Restrepo *Bounds on the tau and muon neutrino vector and axial vector charge radius,*  Phys Rev. D 67:033005 (2003)\\r\\n\\r\\nsobre extensiones del sector de gauge de modelo estandar que permiten generar masas para los neutrinos :R. Martinez, W.A. Ponce and L.A.Sanchez, Phys Rev. D 65 (2002) 055013 \\r\\n\\r\\nsobre la explicacion de las anomalias de neutrinos usando supersimetria: J.M.Mira, E. Nardi, D.A. Restrepo and J.W Valle, Phys lett. B 492 (2000) 81\\r\\n\\r\\nsobre implicaciones astrofisicas de neutrinos: E, Nardi and J.I. Zuluaga, astrophys. J. 549 (2001) 1076\\r\\n\\r\\nsobre la solucion del problema \\\\mu en supersimetria:J.M.Mira, E. Nardi and D.A. Restrepo\\r\\nPhys Rev. D 62 (2000) 016002\\r\\n',\n",
       "    'TXT_RETOS': 'Proyectarnos a nivel latinoamericano e internacional en los próximos dos años. Para ello necesitamos consolidar las colaboraciones que tenemos con los grupos nacionales y extranjeros en áreas de alto interés para la comunidad científica en nuestro campo como son los modelos supersimétricos para la generación de masas y mezclas para neutrinos, y las implicaciones fenomenológicas de modelos de dimensiones extras y con estructura gauge extendida tanto en sus versiones normales como supersimetrizadas. También necesitamos consolidar la formación de recurso humanos no sólo a través de la línea de doctorado y maestría sino también fomentando la formación posdoctoral de los miembros más jóvenes de nuestro grupo.',\n",
       "    'TXT_VISION': 'Ser protagonistas en la simulación e interpretación de la gran avalancha de resultados experimantales que se genera con el funcionamiento del LARGE HADRON COLLIDER en Europa , los resultados de alta luminosidad del TEVATRON en Estados Unidos, el experimento PIER AUGER en Argentina, y los diferentes experimentos de neutrinos solares con angulo de mezcla grande o MUNU en Rusia para explorar las propiedades electromagnéticas de los neutrinos y los satélites de medición precisa de las fluctuaciones de la radiación cósmica de fondo como WMAP y PLANCK y sus implicaciones en la física de neutrinos.',\n",
       "    'STA_CERTIFICADO': 'T',\n",
       "    'DTA_CERTIFICADO': 'Thu, 21 Jan 2016 00:00:00 GMT',\n",
       "    'DTA_CREACION': 'Tue, 11 Sep 2007 13:29:58 GMT',\n",
       "    'DTA_ACTUALIZACION': 'Tue, 24 May 2022 19:50:25 GMT',\n",
       "    'COD_CERTIFICACION': 'COL0008423201601211837',\n",
       "    'DTA_INI_SESION': 'Wed, 26 Jan 2022 07:30:12 GMT',\n",
       "    'TXT_CLASIF_1': 'A1',\n",
       "    'STA_CENTRO': 'F',\n",
       "    'STA_SECTOR': 'F',\n",
       "    'STA_ACTIVO': 'A',\n",
       "    'NRO_BLOQUEOS': 2,\n",
       "    'COD_AREA_CONHEC_BK': '1C',\n",
       "    'institution': [{'COD_INST': '007300000887',\n",
       "      'COD_INST_MACRO': '007300000887',\n",
       "      'NME_INST': 'UNIVERSIDAD DE ANTIOQUIA',\n",
       "      'SGL_INST': 'UdeA',\n",
       "      'COD_SECTOR_ECON': '241',\n",
       "      'SGL_PAIS': '1',\n",
       "      'SGL_DEPARTAMENTO': '31',\n",
       "      'COD_RH_MUNICIPIO': '0000000000',\n",
       "      'COD_MUNICIPIO': '786',\n",
       "      'URL_HOME_PAGE': 'http://www.udea.edu.co',\n",
       "      'TXT_DIRECCION': 'Calle 67 53-10',\n",
       "      'TXT_TELEFONO': ' 4-2195190',\n",
       "      'TXT_EMAIL': 'viceinvestigacion@udea.edu.co',\n",
       "      'TXT_NIT': '890980040',\n",
       "      'TXT_DIGITO_VERIFICADOR': '8',\n",
       "      'ID_REPRESENTANTE': 4,\n",
       "      'TPO_AVAL': '1',\n",
       "      'TXT_CIUDAD_INST': 'Medellín',\n",
       "      'TPO_CONTRIBUYENTE': 6,\n",
       "      'STA_EXPORTA': 12,\n",
       "      'COD_NIVEL': 1,\n",
       "      'COD_IES': '1201',\n",
       "      'DTA_CONSTITUCION': 'Sat, 30 May 1964 00:00:00 GMT',\n",
       "      'DTA_CREACION': 'Mon, 12 May 2008 12:34:11 GMT',\n",
       "      'DTA_ACTUALIZACION': 'Mon, 08 Feb 2021 08:46:45 GMT',\n",
       "      'COD_SECTOR_ECON2': '1011',\n",
       "      'ID_INSTITUCION': 883,\n",
       "      'STA_TERMINOS_COND': 'T',\n",
       "      'DTA_ACEPTA_TERMINOS': 'Mon, 08 Feb 2021 08:45:14 GMT'}],\n",
       "    'knowledge_area': [{'COD_RH': '0000000000',\n",
       "      'COD_AREA_CONOCIMIENTO': '1C03',\n",
       "      'TXT_NME_AREA': 'Física de Partículas y Campos',\n",
       "      'NRO_NIVEL': 2,\n",
       "      'TXT_VERIFICADO': 'T',\n",
       "      'COD_RH_PADRE': '0000000000',\n",
       "      'COD_AREA_PADRE': '1C',\n",
       "      'COD_RH_FULL': '0000000000',\n",
       "      'COD_AREA_CONOCIMIENTO_FULL': '1 - 1C - 1C03',\n",
       "      'TXT_NME_AREA_FULL': 'Ciencias Naturales -- Ciencias Físicas -- Física de Partículas y Campos',\n",
       "      'TPO_CAMBIO': 'T',\n",
       "      'DTA_CREACION': 'Thu, 31 Oct 2013 00:00:00 GMT',\n",
       "      'DTA_ACTUALIZACION': 'Thu, 31 Oct 2013 00:00:00 GMT',\n",
       "      'knowledge_area': [{'COD_RH': '0000000000',\n",
       "        'COD_AREA_CONOCIMIENTO': '1C',\n",
       "        'TXT_NME_AREA': 'Ciencias Físicas',\n",
       "        'NRO_NIVEL': 1,\n",
       "        'TXT_VERIFICADO': 'T',\n",
       "        'COD_RH_PADRE': '0000000000',\n",
       "        'COD_AREA_PADRE': '1',\n",
       "        'COD_RH_FULL': '0000000000',\n",
       "        'COD_AREA_CONOCIMIENTO_FULL': '1 - 1C',\n",
       "        'TXT_NME_AREA_FULL': 'Ciencias Naturales -- Ciencias Físicas',\n",
       "        'TPO_CAMBIO': 'T',\n",
       "        'DTA_CREACION': 'Thu, 31 Oct 2013 00:00:00 GMT',\n",
       "        'DTA_ACTUALIZACION': 'Fri, 15 Nov 2013 11:42:07 GMT',\n",
       "        'knowledge_area': [{'COD_RH': '0000000000',\n",
       "          'COD_AREA_CONOCIMIENTO': '1',\n",
       "          'TXT_NME_AREA': 'Ciencias Naturales',\n",
       "          'NRO_NIVEL': 0,\n",
       "          'TXT_VERIFICADO': 'T',\n",
       "          'COD_RH_PADRE': '0000000000',\n",
       "          'TXT_NME_AREA_FULL': 'Ciencias Naturales',\n",
       "          'TPO_CAMBIO': 'T',\n",
       "          'DTA_CREACION': 'Thu, 31 Oct 2013 00:00:00 GMT',\n",
       "          'DTA_ACTUALIZACION': 'Thu, 31 Oct 2013 00:00:00 GMT'}]}]}]}],\n",
       "  'author_others': [{'COD_RH_CREA': '0000707619',\n",
       "    'COD_RH_OTRO': '0',\n",
       "    'TXT_NME_RH': 'Oscar Alberto',\n",
       "    'TXT_PRIM_APELL': 'Zapata',\n",
       "    'TXT_SEG_APELL': 'Norena',\n",
       "    'SGL_PAIS': 'COL',\n",
       "    'TPO_NACIONALIDAD': 'C',\n",
       "    'DTA_NACIMIENTO': 'Fri, 25 Apr 1980 00:00:00 GMT',\n",
       "    'TPO_DOC_IDENTIFICACION': 'C',\n",
       "    'NRO_DOC_IDENTIFICACION': '15386534',\n",
       "    'NRO_ID_CNPQ': '2768502538640334',\n",
       "    'DTA_CREACION': 'Thu, 22 Jun 2006 10:50:12 GMT',\n",
       "    'DTA_ACTUALIZACION': 'Sat, 20 Dec 2014 01:35:20 GMT',\n",
       "    'TXT_TOTAL_NAMES': 'Oscar Alberto Zapata Norena',\n",
       "    'COD_RH_REF': '0000707619'},\n",
       "   {'COD_RH_CREA': '0000707619',\n",
       "    'COD_RH_OTRO': '2',\n",
       "    'TXT_NME_RH': 'Diego Alejandro',\n",
       "    'TXT_PRIM_APELL': 'Restrepo',\n",
       "    'TXT_SEG_APELL': 'Quintero',\n",
       "    'SGL_PAIS': 'COL',\n",
       "    'TPO_NACIONALIDAD': 'C',\n",
       "    'DTA_NACIMIENTO': 'Wed, 10 Mar 1971 00:00:00 GMT',\n",
       "    'TPO_DOC_IDENTIFICACION': 'C',\n",
       "    'NRO_DOC_IDENTIFICACION': '98554575',\n",
       "    'NRO_ID_CNPQ': '4193202494462358',\n",
       "    'DTA_CREACION': 'Fri, 14 Aug 2009 10:54:03 GMT',\n",
       "    'DTA_ACTUALIZACION': 'Fri, 26 Jan 2018 17:04:18 GMT',\n",
       "    'TXT_TOTAL_NAMES': 'Diego Alejandro Restrepo Quintero',\n",
       "    'COD_RH_REF': '0000177733',\n",
       "    'COD_ORCID': '0000-0001-6455-5564',\n",
       "    'AUTOR_ID_SCP': '7005721136'}],\n",
       "  'details': [{'article': [{'COD_RH': '0000707619',\n",
       "      'COD_PRODUCTO': '41',\n",
       "      'COD_REVISTA': 2175,\n",
       "      'COD_RH_MUNICIPIO': 'X000000001',\n",
       "      'COD_MUNICIPIO': '4692',\n",
       "      'TXT_VOLUMEN_REVISTA': '33',\n",
       "      'TXT_FASCICULO_REVISTA': '1850024',\n",
       "      'TXT_PAGINA_INICIAL': '1',\n",
       "      'TXT_PAGINA_FINAL': '9',\n",
       "      'DTA_CREACION': 'Fri, 26 Apr 2019 09:07:33 GMT',\n",
       "      'DTA_ACTUALIZACION': 'Sat, 30 Apr 2022 11:36:11 GMT',\n",
       "      'journal': [{'COD_REVISTA': 2175,\n",
       "        'TXT_ISSN_SEP': '0217-7323',\n",
       "        'TXT_ISSN': '02177323',\n",
       "        'COD_REVISTA_REF': 102826,\n",
       "        'TXT_ISSN_REF_SEP': '1793-6632',\n",
       "        'TXT_ISSN_REF': '17936632',\n",
       "        'TXT_NME_REVISTA': 'Modern Physics Letters A',\n",
       "        'SGL_PAIS': 'CIN',\n",
       "        'TPO_REVISTA': 'P',\n",
       "        'TPO_CLASIFICACION': 'A2',\n",
       "        'COD_EDITORIAL': 6362,\n",
       "        'TXT_FRECUENCIA': 'Mensual',\n",
       "        'TXT_LUGAR_PUBLICACION': 'Singapore',\n",
       "        'TXT_MEDIO_DIVULGACION': 'Papel',\n",
       "        'STA_VERIFICADA': 'P',\n",
       "        'editorial': [{'COD_EDITORIAL': 6362,\n",
       "          'TXT_NME_EDITORIAL': 'World Scientific Publ Co Pte Ltd',\n",
       "          'COD_RH_MUNICIPIO': '0000000000',\n",
       "          'TPO_INSTITUCION': 'IL',\n",
       "          'TXT_REFERENCIA': 'BC'}]}]}]}],\n",
       "  'NIVEL_MAX': '111: Publicado en revista especializada'}]"
      ]
     },
     "execution_count": 6,
     "metadata": {},
     "output_type": "execute_result"
    }
   ],
   "source": [
    "list(scienti_works.find())"
   ]
  },
  {
   "cell_type": "code",
   "execution_count": null,
   "id": "ae9f3384-f3d6-4484-80f3-1070bb3dee5e",
   "metadata": {},
   "outputs": [],
   "source": []
  }
 ],
 "metadata": {
  "kernelspec": {
   "display_name": "Python 3 (ipykernel)",
   "language": "python",
   "name": "python3"
  },
  "language_info": {
   "codemirror_mode": {
    "name": "ipython",
    "version": 3
   },
   "file_extension": ".py",
   "mimetype": "text/x-python",
   "name": "python",
   "nbconvert_exporter": "python",
   "pygments_lexer": "ipython3",
   "version": "3.10.12"
  }
 },
 "nbformat": 4,
 "nbformat_minor": 5
}
