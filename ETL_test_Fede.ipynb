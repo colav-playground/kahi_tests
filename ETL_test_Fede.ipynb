{
 "cells": [
  {
   "cell_type": "code",
   "execution_count": 1,
   "id": "06e2f631-d25a-4762-893f-2525812bd6a0",
   "metadata": {
    "tags": []
   },
   "outputs": [],
   "source": [
    "from bson.objectid import ObjectId\n",
    "from pymongo import MongoClient\n",
    "import json\n",
    "from datetime import datetime as dt, timezone\n",
    "from re import match\n",
    "from IPython.display import JSON"
   ]
  },
  {
   "cell_type": "code",
   "execution_count": 54,
   "id": "bb60d3c4-4c0b-4d35-a4cd-f43db8058829",
   "metadata": {
    "tags": []
   },
   "outputs": [],
   "source": [
    "db_uri=\"mongodb://localhost:27017/\"\n",
    "\n",
    "dbclient = MongoClient(db_uri)\n",
    "\n",
    "kahi_test_db = dbclient['kahi_test']\n",
    "works = kahi_test_db['works']\n",
    "works_list = list(works.find())\n",
    "json_works = json.dumps(works_list, default=str)"
   ]
  },
  {
   "cell_type": "code",
   "execution_count": 55,
   "id": "15e9bed1-f7ea-4e5a-b3a2-dfba933a5103",
   "metadata": {
    "tags": []
   },
   "outputs": [
    {
     "data": {
      "application/json": [
       {
        "_id": "65a701a4ebfc9155073cf2b2",
        "abstract": "",
        "author_count": 4,
        "authors": [
         {
          "affiliations": [
           {
            "id": "65a697415f73b42e4ffc76e7",
            "name": "Grupo de Fenomenologia de Interacciones Fundamentales",
            "types": [
             {
              "source": "scienti",
              "type": "group"
             }
            ]
           },
           {
            "id": "65a696255f73b42e4ff92e98",
            "name": "University of Antioquia",
            "types": [
             {
              "source": "ror",
              "type": "Education"
             },
             {
              "source": "openalex",
              "type": "education"
             }
            ]
           }
          ],
          "full_name": "Diego Alejandro Restrepo Quintero",
          "id": "65a697725f73b42e4ffc9270"
         },
         {
          "affiliations": [
           {
            "external_ids": [
             {
              "id": "https://openalex.org/I35961687",
              "source": "openalex"
             },
             {
              "id": "https://ror.org/03bp5hc83",
              "source": "ror"
             }
            ],
            "name": "University of Antioquia"
           }
          ],
          "external_ids": [
           {
            "id": "https://openalex.org/A2306595523",
            "source": "openalex"
           },
           {
            "id": "0000-0001-6455-5564",
            "source": "orcid"
           }
          ],
          "full_name": "Diego Restrepo",
          "types": []
         },
         {
          "affiliations": [
           {
            "external_ids": [
             {
              "id": "https://openalex.org/I35961687",
              "source": "openalex"
             },
             {
              "id": "https://ror.org/03bp5hc83",
              "source": "ror"
             }
            ],
            "name": "University of Antioquia"
           }
          ],
          "external_ids": [
           {
            "id": "https://openalex.org/A2485835366",
            "source": "openalex"
           },
           {
            "id": "0000-0002-6256-8545",
            "source": "orcid"
           }
          ],
          "full_name": "Andrés Rivera",
          "types": []
         },
         {
          "affiliations": [
           {
            "external_ids": [
             {
              "id": "https://openalex.org/I1925986",
              "source": "openalex"
             },
             {
              "id": "https://ror.org/04b6x2g63",
              "source": "ror"
             }
            ],
            "name": "Loyola University Chicago"
           }
          ],
          "external_ids": [
           {
            "id": "https://openalex.org/A69032489",
            "source": "openalex"
           },
           {
            "id": "0000-0002-4808-3277",
            "source": "orcid"
           }
          ],
          "full_name": "Walter Tangarife",
          "types": []
         }
        ],
        "bibliographic_info": {
         "end_page": "035029-11",
         "is_open_acess": true,
         "issue": "3",
         "open_access_status": "hybrid",
         "start_page": "035029-1",
         "volume": "100"
        },
        "citations": [],
        "citations_by_year": [],
        "citations_count": [
         {
          "count": 17,
          "source": "openalex"
         },
         {
          "count": 1,
          "source": "wos"
         },
         {
          "count": 17,
          "source": "scholar"
         }
        ],
        "date_published": null,
        "external_ids": [
         {
          "id": "0000177733",
          "source": "COD_RH"
         },
         {
          "id": "139",
          "source": "COD_PRODUCTO"
         },
         {
          "id": "10.1103/physrevd.100.035029",
          "source": "doi"
         },
         {
          "id": "https://openalex.org/W2951068726",
          "source": "openalex"
         },
         {
          "id": "2951068726",
          "source": "mag"
         },
         {
          "id": "000482583400008",
          "source": "wos"
         },
         {
          "id": "R7BJTFZ0Bd8J",
          "source": "scholar"
         }
        ],
        "external_urls": [
         {
          "source": "scienti",
          "url": "https://doi.org/10.1103/PhysRevD.100.035029"
         },
         {
          "source": "oa",
          "url": "http://link.aps.org/pdf/10.1103/PhysRevD.100.035029"
         },
         {
          "source": "scholar citations",
          "url": "/scholar?cites=16070378759337390151&as_sdt=2005&sciodt=0,5&hl=en"
         },
         {
          "source": "pdf",
          "url": "https://link.aps.org/pdf/10.1103/PhysRevD.100.035029"
         }
        ],
        "keywords": [],
        "ranking": [
         {
          "date": "",
          "rank": "PID-PID_C",
          "source": "scienti"
         }
        ],
        "references": [],
        "references_count": null,
        "source": {
         "id": "65a68e165f73b42e4ff04649",
         "name": "Physical review"
        },
        "subjects": [
         {
          "source": "openalex",
          "subjects": [
           {
            "id": "65a693e55f73b42e4ff71d36",
            "level": 0,
            "name": "Physics"
           },
           {
            "id": "65a693e45f73b42e4ff715cb",
            "level": 1,
            "name": "Particle physics"
           },
           {
            "id": "65a693eb5f73b42e4ff7448f",
            "level": 2,
            "name": "Neutrino"
           },
           {
            "id": "65a693e85f73b42e4ff73416",
            "level": 2,
            "name": "Dark matter"
           },
           {
            "id": "65a6941e5f73b42e4ff7f6b3",
            "level": 3,
            "name": "Dirac (video compression format)"
           },
           {
            "id": "65a693ea5f73b42e4ff74068",
            "level": 3,
            "name": "Lepton"
           },
           {
            "id": "65a693e45f73b42e4ff714fd",
            "level": 3,
            "name": "Neutrino oscillation"
           },
           {
            "id": "65a6941b5f73b42e4ff7ef4d",
            "level": 2,
            "name": "Fermion"
           }
          ]
         }
        ],
        "subtitle": "",
        "titles": [
         {
          "lang": "en",
          "source": "scienti",
          "title": "Singlet-doublet Dirac dark matter and neutrino masses"
         },
         {
          "lang": "en",
          "source": "openalex",
          "title": "Singlet-doublet Dirac dark matter and neutrino masses"
         },
         {
          "lang": "en",
          "source": "wos",
          "title": "Singlet-doublet Dirac dark matter and neutrino masses"
         },
         {
          "lang": "en",
          "source": "scholar",
          "title": "Singlet-doublet Dirac dark matter and neutrino masses"
         }
        ],
        "types": [
         {
          "source": "scienti",
          "type": "Publicado en revista especializada"
         },
         {
          "source": "scienti",
          "type": "Artículo"
         },
         {
          "source": "openalex",
          "type": "journal-article"
         },
         {
          "source": "wos",
          "type": "article"
         },
         {
          "source": "scholar",
          "type": "article"
         }
        ],
        "updated": [
         {
          "source": "scienti",
          "time": 1705443727
         },
         {
          "source": "openalex",
          "time": 1705443753
         },
         {
          "source": "wos",
          "time": 1705443758
         },
         {
          "source": "scholar",
          "time": 1705443762
         }
        ],
        "year_published": null
       },
       {
        "_id": "65a701a4ebfc9155073cf2b3",
        "abstract": "",
        "author_count": 5,
        "authors": [
         {
          "affiliations": [
           {
            "id": "65a697415f73b42e4ffc76e7",
            "name": "Grupo de Fenomenologia de Interacciones Fundamentales",
            "types": [
             {
              "source": "scienti",
              "type": "group"
             }
            ]
           },
           {
            "id": "65a696255f73b42e4ff92e98",
            "name": "University of Antioquia",
            "types": [
             {
              "source": "ror",
              "type": "Education"
             },
             {
              "source": "openalex",
              "type": "education"
             }
            ]
           }
          ],
          "full_name": "Diego Alejandro Restrepo Quintero",
          "id": "65a697725f73b42e4ffc9270"
         },
         {
          "affiliations": [
           {
            "external_ids": [
             {
              "id": "https://openalex.org/I91045830",
              "source": "openalex"
             },
             {
              "id": "https://ror.org/01f5ytq51",
              "source": "ror"
             }
            ],
            "name": "Texas A&M University"
           }
          ],
          "external_ids": [
           {
            "id": "https://openalex.org/A3118419912",
            "source": "openalex"
           },
           {
            "id": "0000-0002-0192-8885",
            "source": "orcid"
           }
          ],
          "full_name": "Bhaskar Dutta",
          "types": []
         },
         {
          "affiliations": [
           {
            "external_ids": [
             {
              "id": "https://openalex.org/I35961687",
              "source": "openalex"
             },
             {
              "id": "https://ror.org/03bp5hc83",
              "source": "ror"
             }
            ],
            "name": "University of Antioquia"
           }
          ],
          "external_ids": [
           {
            "id": "https://openalex.org/A2525387733",
            "source": "openalex"
           },
           {
            "id": "0000-0002-9742-4031",
            "source": "orcid"
           }
          ],
          "full_name": "Guillermo Palacio",
          "types": []
         },
         {
          "affiliations": [
           {
            "external_ids": [
             {
              "id": "https://openalex.org/I35961687",
              "source": "openalex"
             },
             {
              "id": "https://ror.org/03bp5hc83",
              "source": "ror"
             }
            ],
            "name": "University of Antioquia"
           }
          ],
          "external_ids": [
           {
            "id": "https://openalex.org/A2306595523",
            "source": "openalex"
           },
           {
            "id": "0000-0001-6455-5564",
            "source": "orcid"
           }
          ],
          "full_name": "Diego Restrepo",
          "types": []
         },
         {
          "affiliations": [
           {
            "external_ids": [
             {
              "id": "https://openalex.org/I162096671",
              "source": "openalex"
             },
             {
              "id": "https://ror.org/02mhbdp94",
              "source": "ror"
             }
            ],
            "name": "Universidad de Los Andes"
           }
          ],
          "external_ids": [
           {
            "id": "https://openalex.org/A3112189428",
            "source": "openalex"
           }
          ],
          "full_name": "José D. Ruiz-Álvarez",
          "types": []
         }
        ],
        "bibliographic_info": {
         "end_page": "8",
         "is_open_acess": true,
         "issue": "055045",
         "open_access_status": "hybrid",
         "start_page": "1",
         "volume": "97"
        },
        "citations": [],
        "citations_by_year": [],
        "citations_count": [
         {
          "count": 25,
          "source": "openalex"
         },
         {
          "count": 5,
          "source": "wos"
         },
         {
          "count": 24,
          "source": "scholar"
         }
        ],
        "date_published": null,
        "external_ids": [
         {
          "id": "0000177733",
          "source": "COD_RH"
         },
         {
          "id": "132",
          "source": "COD_PRODUCTO"
         },
         {
          "id": "10.1103/physrevd.97.055045",
          "source": "doi"
         },
         {
          "id": "https://openalex.org/W2758844066",
          "source": "openalex"
         },
         {
          "id": "2758844066",
          "source": "mag"
         },
         {
          "id": "000428650300005",
          "source": "wos"
         },
         {
          "id": "wLolZnsKpgsJ",
          "source": "scholar"
         }
        ],
        "external_urls": [
         {
          "source": "scienti",
          "url": "http://doi.org/10.1103/PhysRevD.97.055045"
         },
         {
          "source": "oa",
          "url": "http://link.aps.org/pdf/10.1103/PhysRevD.97.055045"
         },
         {
          "source": "scholar citations",
          "url": "/scholar?cites=839369905662180032&as_sdt=2005&sciodt=0,5&hl=en"
         },
         {
          "source": "pdf",
          "url": "https://link.aps.org/pdf/10.1103/PhysRevD.97.055045"
         }
        ],
        "keywords": [],
        "ranking": [
         {
          "date": "",
          "rank": "PID-PID_C",
          "source": "scienti"
         }
        ],
        "references": [],
        "references_count": null,
        "source": {
         "id": "65a68e165f73b42e4ff04649",
         "name": "Physical review"
        },
        "subjects": [
         {
          "source": "openalex",
          "subjects": [
           {
            "id": "65a694235f73b42e4ff801bd",
            "level": 2,
            "name": "Boson"
           },
           {
            "id": "65a693ec5f73b42e4ff74e2d",
            "level": 2,
            "name": "Annihilation"
           },
           {
            "id": "65a693eb5f73b42e4ff743fb",
            "level": 1,
            "name": "Nuclear physics"
           }
          ]
         }
        ],
        "subtitle": "",
        "titles": [
         {
          "lang": "en",
          "source": "scienti",
          "title": "Vector Boson Fusion in the Inert Doublet Model"
         },
         {
          "lang": "en",
          "source": "ranking_udea",
          "title": "VECTOR BOSON FUSION IN THE INERT DOUBLET MODEL."
         },
         {
          "lang": "en",
          "source": "openalex",
          "title": "Vector boson fusion in the inert doublet model"
         },
         {
          "lang": "en",
          "source": "wos",
          "title": "Vector boson fusion in the inert doublet model"
         },
         {
          "lang": "en",
          "source": "scholar",
          "title": "Vector boson fusion in the inert doublet model"
         }
        ],
        "types": [
         {
          "source": "scienti",
          "type": "Publicado en revista especializada"
         },
         {
          "source": "scienti",
          "type": "Artículo"
         },
         {
          "source": "openalex",
          "type": "journal-article"
         },
         {
          "source": "wos",
          "type": "article"
         },
         {
          "source": "scholar",
          "type": "article"
         }
        ],
        "updated": [
         {
          "source": "scienti",
          "time": 1705443727
         },
         {
          "source": "ranking_udea",
          "time": 1705443749
         },
         {
          "source": "openalex",
          "time": 1705443753
         },
         {
          "source": "wos",
          "time": 1705443758
         },
         {
          "source": "scholar",
          "time": 1705443762
         }
        ],
        "year_published": null
       },
       {
        "_id": "65a701a4ebfc9155073cf2b4",
        "abstract": "",
        "author_count": 4,
        "authors": [
         {
          "affiliations": [
           {
            "id": "65a697415f73b42e4ffc76e7",
            "name": "Grupo de Fenomenologia de Interacciones Fundamentales",
            "types": [
             {
              "source": "scienti",
              "type": "group"
             }
            ]
           },
           {
            "id": "65a696255f73b42e4ff92e98",
            "name": "University of Antioquia",
            "types": [
             {
              "source": "ror",
              "type": "Education"
             },
             {
              "source": "openalex",
              "type": "education"
             }
            ]
           }
          ],
          "full_name": "Oscar Alberto Zapata Norena",
          "id": "65a697735f73b42e4ffc9604"
         },
         {
          "affiliations": [
           {
            "external_ids": [
             {
              "id": "https://openalex.org/I35961687",
              "source": "openalex"
             },
             {
              "id": "https://ror.org/03bp5hc83",
              "source": "ror"
             }
            ],
            "name": "University of Antioquia"
           }
          ],
          "external_ids": [
           {
            "id": "https://openalex.org/A2800453689",
            "source": "openalex"
           },
           {
            "id": "0000-0001-6705-057X",
            "source": "orcid"
           }
          ],
          "full_name": "Julián Calle",
          "types": []
         },
         {
          "affiliations": [
           {
            "external_ids": [
             {
              "id": "https://openalex.org/I35961687",
              "source": "openalex"
             },
             {
              "id": "https://ror.org/03bp5hc83",
              "source": "ror"
             }
            ],
            "name": "University of Antioquia"
           },
           {
            "external_ids": [
             {
              "id": "https://openalex.org/I35046152",
              "source": "openalex"
             },
             {
              "id": "https://ror.org/04wn09761",
              "source": "ror"
             }
            ],
            "name": "Federal University of Rio Grande do Norte"
           }
          ],
          "external_ids": [
           {
            "id": "https://openalex.org/A2306595523",
            "source": "openalex"
           },
           {
            "id": "0000-0001-6455-5564",
            "source": "orcid"
           }
          ],
          "full_name": "Diego Restrepo",
          "types": []
         },
         {
          "affiliations": [
           {
            "external_ids": [
             {
              "id": "https://openalex.org/I12323705",
              "source": "openalex"
             },
             {
              "id": "https://ror.org/009gyvm78",
              "source": "ror"
             }
            ],
            "name": "International Centre for Theoretical Physics"
           },
           {
            "external_ids": [
             {
              "id": "https://openalex.org/I35961687",
              "source": "openalex"
             },
             {
              "id": "https://ror.org/03bp5hc83",
              "source": "ror"
             }
            ],
            "name": "University of Antioquia"
           }
          ],
          "external_ids": [
           {
            "id": "https://openalex.org/A2047011875",
            "source": "openalex"
           },
           {
            "id": "0000-0001-5533-4014",
            "source": "orcid"
           }
          ],
          "full_name": "Óscar Zapata",
          "types": []
         }
        ],
        "bibliographic_info": {
         "end_page": "035004-10",
         "is_open_acess": true,
         "issue": "035004",
         "open_access_status": "hybrid",
         "start_page": "035004-1",
         "volume": "101"
        },
        "citations": [],
        "citations_by_year": [],
        "citations_count": [
         {
          "count": 14,
          "source": "openalex"
         },
         {
          "count": 0,
          "source": "wos"
         },
         {
          "count": 13,
          "source": "scholar"
         }
        ],
        "date_published": null,
        "external_ids": [
         {
          "id": "0000707619",
          "source": "COD_RH"
         },
         {
          "id": "52",
          "source": "COD_PRODUCTO"
         },
         {
          "id": "10.1103/physrevd.101.035004",
          "source": "doi"
         },
         {
          "id": "https://openalex.org/W2974772295",
          "source": "openalex"
         },
         {
          "id": "2974772295",
          "source": "mag"
         },
         {
          "id": "000511446300002",
          "source": "wos"
         },
         {
          "id": "0UBo6ZcLtU4J",
          "source": "scholar"
         }
        ],
        "external_urls": [
         {
          "source": "scienti",
          "url": "https://inspirehep.net/files/5418d90c632fd004307d586f307a226e"
         },
         {
          "source": "oa",
          "url": "https://journals.aps.org/prd/pdf/10.1103/PhysRevD.101.035004"
         },
         {
          "source": "scholar citations",
          "url": "/scholar?cites=5671452052826898641&as_sdt=2005&sciodt=0,5&hl=en"
         },
         {
          "source": "pdf",
          "url": "https://link.aps.org/pdf/10.1103/PhysRevD.101.035004"
         }
        ],
        "keywords": [],
        "ranking": [
         {
          "date": "",
          "rank": "ART-ART_A1",
          "source": "scienti"
         }
        ],
        "references": [],
        "references_count": null,
        "source": {
         "id": "65a68e165f73b42e4ff04649",
         "name": "Physical review"
        },
        "subjects": [
         {
          "source": "openalex",
          "subjects": [
           {
            "id": "65a693e55f73b42e4ff71d36",
            "level": 0,
            "name": "Physics"
           },
           {
            "id": "65a693f75f73b42e4ff78b21",
            "level": 3,
            "name": "MAJORANA"
           },
           {
            "id": "65a693eb5f73b42e4ff7448f",
            "level": 2,
            "name": "Neutrino"
           },
           {
            "id": "65a693e45f73b42e4ff715cb",
            "level": 1,
            "name": "Particle physics"
           },
           {
            "id": "65a6941e5f73b42e4ff7f6b3",
            "level": 3,
            "name": "Dirac (video compression format)"
           },
           {
            "id": "65a694185f73b42e4ff7e9d6",
            "level": 5,
            "name": "Majorana equation"
           }
          ]
         }
        ],
        "subtitle": "",
        "titles": [
         {
          "lang": "en",
          "source": "scienti",
          "title": "Dirac neutrino mass generation from a Majorana messenger"
         },
         {
          "lang": "en",
          "source": "openalex",
          "title": "Dirac neutrino mass generation from a Majorana messenger"
         },
         {
          "lang": null,
          "source": "wos",
          "title": "Dirac neutrino mass generation from a Majorana messenger"
         },
         {
          "lang": null,
          "source": "scholar",
          "title": "Dirac neutrino mass generation from a Majorana messenger"
         }
        ],
        "types": [
         {
          "source": "scienti",
          "type": "Publicado en revista especializada"
         },
         {
          "source": "scienti",
          "type": "Artículo"
         },
         {
          "source": "openalex",
          "type": "journal-article"
         },
         {
          "source": "wos",
          "type": "article"
         },
         {
          "source": "scholar",
          "type": "article"
         }
        ],
        "updated": [
         {
          "source": "scienti",
          "time": 1705443727
         },
         {
          "source": "openalex",
          "time": 1705443753
         },
         {
          "source": "wos",
          "time": 1705443758
         },
         {
          "source": "scholar",
          "time": 1705443762
         }
        ],
        "year_published": null
       },
       {
        "_id": "65a701a4ebfc9155073cf2b5",
        "abstract": "",
        "author_count": 5,
        "authors": [
         {
          "affiliations": [
           {
            "id": "65a697415f73b42e4ffc76e7",
            "name": "Grupo de Fenomenologia de Interacciones Fundamentales",
            "types": [
             {
              "source": "scienti",
              "type": "group"
             }
            ]
           },
           {
            "id": "65a696255f73b42e4ff92e98",
            "name": "University of Antioquia",
            "types": [
             {
              "source": "ror",
              "type": "Education"
             },
             {
              "source": "openalex",
              "type": "education"
             }
            ]
           }
          ],
          "full_name": "Diego Alejandro Restrepo Quintero",
          "id": "65a697725f73b42e4ffc9270"
         },
         {
          "affiliations": [
           {
            "external_ids": [
             {
              "id": "https://openalex.org/I16097986",
              "source": "openalex"
             },
             {
              "id": "https://ror.org/043nxc105",
              "source": "ror"
             }
            ],
            "name": "University of Valencia"
           }
          ],
          "external_ids": [
           {
            "id": "https://openalex.org/A2493378674",
            "source": "openalex"
           }
          ],
          "full_name": "Mario Reig",
          "types": []
         },
         {
          "affiliations": [
           {
            "external_ids": [
             {
              "id": "https://openalex.org/I12323705",
              "source": "openalex"
             },
             {
              "id": "https://ror.org/009gyvm78",
              "source": "ror"
             }
            ],
            "name": "International Centre for Theoretical Physics"
           },
           {
            "external_ids": [
             {
              "id": "https://openalex.org/I35961687",
              "source": "openalex"
             },
             {
              "id": "https://ror.org/03bp5hc83",
              "source": "ror"
             }
            ],
            "name": "University of Antioquia"
           }
          ],
          "external_ids": [
           {
            "id": "https://openalex.org/A2306595523",
            "source": "openalex"
           },
           {
            "id": "0000-0001-6455-5564",
            "source": "orcid"
           }
          ],
          "full_name": "Diego Restrepo",
          "types": []
         },
         {
          "affiliations": [
           {
            "external_ids": [
             {
              "id": "https://openalex.org/I16097986",
              "source": "openalex"
             },
             {
              "id": "https://ror.org/043nxc105",
              "source": "ror"
             }
            ],
            "name": "University of Valencia"
           }
          ],
          "external_ids": [
           {
            "id": "https://openalex.org/A2308752787",
            "source": "openalex"
           },
           {
            "id": "0000-0002-1881-5094",
            "source": "orcid"
           }
          ],
          "full_name": "José W. F. Valle",
          "types": []
         },
         {
          "affiliations": [
           {
            "external_ids": [
             {
              "id": "https://openalex.org/I35961687",
              "source": "openalex"
             },
             {
              "id": "https://ror.org/03bp5hc83",
              "source": "ror"
             }
            ],
            "name": "University of Antioquia"
           }
          ],
          "external_ids": [
           {
            "id": "https://openalex.org/A2047011875",
            "source": "openalex"
           },
           {
            "id": "0000-0001-5533-4014",
            "source": "orcid"
           }
          ],
          "full_name": "Óscar Zapata",
          "types": []
         }
        ],
        "bibliographic_info": {
         "end_page": "307",
         "is_open_acess": true,
         "open_access_status": "gold",
         "start_page": "303",
         "volume": "790"
        },
        "citations": [],
        "citations_by_year": [],
        "citations_count": [
         {
          "count": 22,
          "source": "openalex"
         },
         {
          "count": 3,
          "source": "wos"
         },
         {
          "count": 24,
          "source": "scholar"
         }
        ],
        "date_published": null,
        "external_ids": [
         {
          "id": "0000707619",
          "source": "COD_RH"
         },
         {
          "id": "129",
          "source": "COD_PRODUCTO"
         },
         {
          "id": "10.1016/j.physletb.2019.01.023",
          "source": "doi"
         },
         {
          "id": "https://openalex.org/W2963957043",
          "source": "openalex"
         },
         {
          "id": "2963957043",
          "source": "mag"
         },
         {
          "id": "000460118200034",
          "source": "wos"
         },
         {
          "id": "DjBfF4Xdq0kJ",
          "source": "scholar"
         }
        ],
        "external_urls": [
         {
          "source": "scienti",
          "url": "http://doi.org/10.1016/j.physletb.2019.01.023"
         },
         {
          "source": "oa",
          "url": "https://doi.org/10.1016/j.physletb.2019.01.023"
         },
         {
          "source": "scholar citations",
          "url": "/scholar?cites=5308580149478764558&as_sdt=2005&sciodt=0,5&hl=en"
         },
         {
          "source": "pdf",
          "url": "https://www.sciencedirect.com/science/article/pii/S0370269319300395"
         }
        ],
        "keywords": [],
        "ranking": [
         {
          "date": "",
          "rank": "PID-PID_C",
          "source": "scienti"
         }
        ],
        "references": [],
        "references_count": null,
        "source": {
         "id": "65a68e135f73b42e4ff03fa1",
         "name": "Physics Letters B"
        },
        "subjects": [
         {
          "source": "openalex",
          "subjects": [
           {
            "id": "65a693e55f73b42e4ff71d36",
            "level": 0,
            "name": "Physics"
           },
           {
            "id": "65a693f75f73b42e4ff78b21",
            "level": 3,
            "name": "MAJORANA"
           },
           {
            "id": "65a693eb5f73b42e4ff7448f",
            "level": 2,
            "name": "Neutrino"
           },
           {
            "id": "65a693e45f73b42e4ff715cb",
            "level": 1,
            "name": "Particle physics"
           },
           {
            "id": "65a693e35f73b42e4ff7120a",
            "level": 4,
            "name": "Sterile neutrino"
           },
           {
            "id": "65a694185f73b42e4ff7e9d6",
            "level": 5,
            "name": "Majorana equation"
           },
           {
            "id": "65a693e85f73b42e4ff73416",
            "level": 2,
            "name": "Dark matter"
           },
           {
            "id": "65a6941b5f73b42e4ff7ef4d",
            "level": 2,
            "name": "Fermion"
           },
           {
            "id": "65a693e45f73b42e4ff714fd",
            "level": 3,
            "name": "Neutrino oscillation"
           },
           {
            "id": "65a693e95f73b42e4ff73d31",
            "level": 2,
            "name": "Bound state"
           },
           {
            "id": "65a693ea5f73b42e4ff74068",
            "level": 3,
            "name": "Lepton"
           }
          ]
         }
        ],
        "subtitle": "",
        "titles": [
         {
          "lang": "en",
          "source": "scienti",
          "title": "Bound-state dark matter with Majorana neutrinos"
         },
         {
          "lang": "en",
          "source": "ranking_udea",
          "title": "BOUND-STATE DARK MATTER WITH MAJORANA NEUTRINOS."
         },
         {
          "lang": "en",
          "source": "openalex",
          "title": "Bound-state dark matter with Majorana neutrinos"
         },
         {
          "lang": "en",
          "source": "wos",
          "title": "Bound-state dark matter with Majorana neutrinos"
         },
         {
          "lang": "en",
          "source": "scholar",
          "title": "Bound-state dark matter with Majorana neutrinos"
         }
        ],
        "types": [
         {
          "source": "scienti",
          "type": "Publicado en revista especializada"
         },
         {
          "source": "scienti",
          "type": "Artículo"
         },
         {
          "source": "openalex",
          "type": "journal-article"
         },
         {
          "source": "wos",
          "type": "article"
         },
         {
          "source": "scholar",
          "type": "article"
         }
        ],
        "updated": [
         {
          "source": "scienti",
          "time": 1705443727
         },
         {
          "source": "ranking_udea",
          "time": 1705443749
         },
         {
          "source": "openalex",
          "time": 1705443753
         },
         {
          "source": "wos",
          "time": 1705443758
         },
         {
          "source": "scholar",
          "time": 1705443762
         }
        ],
        "year_published": null
       },
       {
        "_id": "65a701a4ebfc9155073cf2b6",
        "abstract": "",
        "author_count": 6,
        "authors": [
         {
          "affiliations": [
           {
            "id": "65a697415f73b42e4ffc76e7",
            "name": "Grupo de Fenomenologia de Interacciones Fundamentales",
            "types": [
             {
              "source": "scienti",
              "type": "group"
             }
            ]
           },
           {
            "id": "65a696255f73b42e4ff92e98",
            "name": "University of Antioquia",
            "types": [
             {
              "source": "ror",
              "type": "Education"
             },
             {
              "source": "openalex",
              "type": "education"
             }
            ]
           }
          ],
          "full_name": "Diego Alejandro Restrepo Quintero",
          "id": "65a697725f73b42e4ffc9270"
         },
         {
          "affiliations": [
           {
            "external_ids": [
             {
              "id": "https://openalex.org/I162096671",
              "source": "openalex"
             },
             {
              "id": "https://ror.org/02mhbdp94",
              "source": "ror"
             }
            ],
            "name": "Universidad de Los Andes"
           }
          ],
          "external_ids": [
           {
            "id": "https://openalex.org/A2124785054",
            "source": "openalex"
           },
           {
            "id": "0000-0002-3222-0249",
            "source": "orcid"
           }
          ],
          "full_name": "Andrés Flórez",
          "types": []
         },
         {
          "affiliations": [
           {
            "external_ids": [
             {
              "id": "https://openalex.org/I200719446",
              "source": "openalex"
             },
             {
              "id": "https://ror.org/02vm5rt34",
              "source": "ror"
             }
            ],
            "name": "Vanderbilt University"
           }
          ],
          "external_ids": [
           {
            "id": "https://openalex.org/A2965415481",
            "source": "openalex"
           }
          ],
          "full_name": "Kaiwen Gui",
          "types": []
         },
         {
          "affiliations": [
           {
            "external_ids": [
             {
              "id": "https://openalex.org/I200719446",
              "source": "openalex"
             },
             {
              "id": "https://ror.org/02vm5rt34",
              "source": "ror"
             }
            ],
            "name": "Vanderbilt University"
           }
          ],
          "external_ids": [
           {
            "id": "https://openalex.org/A2061696993",
            "source": "openalex"
           }
          ],
          "full_name": "Alfredo Gurrola",
          "types": []
         },
         {
          "affiliations": [
           {
            "external_ids": [
             {
              "id": "https://openalex.org/I162096671",
              "source": "openalex"
             },
             {
              "id": "https://ror.org/02mhbdp94",
              "source": "ror"
             }
            ],
            "name": "Universidad de Los Andes"
           }
          ],
          "external_ids": [
           {
            "id": "https://openalex.org/A2657054383",
            "source": "openalex"
           }
          ],
          "full_name": "Carlos Patiño",
          "types": []
         },
         {
          "affiliations": [
           {
            "external_ids": [
             {
              "id": "https://openalex.org/I35961687",
              "source": "openalex"
             },
             {
              "id": "https://ror.org/03bp5hc83",
              "source": "ror"
             }
            ],
            "name": "University of Antioquia"
           }
          ],
          "external_ids": [
           {
            "id": "https://openalex.org/A2306595523",
            "source": "openalex"
           },
           {
            "id": "0000-0001-6455-5564",
            "source": "orcid"
           }
          ],
          "full_name": "Diego Restrepo",
          "types": []
         }
        ],
        "bibliographic_info": {
         "end_page": "100",
         "is_open_acess": true,
         "open_access_status": "gold",
         "start_page": "94",
         "volume": "778"
        },
        "citations": [],
        "citations_by_year": [],
        "citations_count": [
         {
          "count": 14,
          "source": "openalex"
         },
         {
          "count": 7,
          "source": "wos"
         },
         {
          "count": 23,
          "source": "scholar"
         }
        ],
        "date_published": null,
        "external_ids": [
         {
          "id": "0000177733",
          "source": "COD_RH"
         },
         {
          "id": "133",
          "source": "COD_PRODUCTO"
         },
         {
          "id": "10.1016/j.physletb.2018.01.009",
          "source": "doi"
         },
         {
          "id": "https://openalex.org/W2742667923",
          "source": "openalex"
         },
         {
          "id": "2742667923",
          "source": "mag"
         },
         {
          "id": "000426436700015",
          "source": "wos"
         },
         {
          "id": "HueyvYdrP1UJ",
          "source": "scholar"
         }
        ],
        "external_urls": [
         {
          "source": "scienti",
          "url": "http://doi.org/10.1016/j.physletb.2018.01.009"
         },
         {
          "source": "oa",
          "url": "https://doi.org/10.1016/j.physletb.2018.01.009"
         },
         {
          "source": "scholar citations",
          "url": "/scholar?cites=6142746647504021278&as_sdt=2005&sciodt=0,5&hl=en"
         },
         {
          "source": "pdf",
          "url": "https://www.sciencedirect.com/science/article/pii/S0370269318300169"
         }
        ],
        "keywords": [],
        "ranking": [
         {
          "date": "",
          "rank": "ART-ART_A1",
          "source": "scienti"
         }
        ],
        "references": [],
        "references_count": null,
        "source": {
         "id": "65a68e135f73b42e4ff03fa1",
         "name": "Physics Letters B"
        },
        "subjects": [
         {
          "source": "openalex",
          "subjects": [
           {
            "id": "65a693e55f73b42e4ff71d36",
            "level": 0,
            "name": "Physics"
           },
           {
            "id": "65a693e45f73b42e4ff715cb",
            "level": 1,
            "name": "Particle physics"
           },
           {
            "id": "65a693eb5f73b42e4ff7448f",
            "level": 2,
            "name": "Neutrino"
           },
           {
            "id": "65a693f75f73b42e4ff78b21",
            "level": 3,
            "name": "MAJORANA"
           },
           {
            "id": "65a693ea5f73b42e4ff74068",
            "level": 3,
            "name": "Lepton"
           },
           {
            "id": "65a693eb5f73b42e4ff7439b",
            "level": 2,
            "name": "Physics beyond the Standard Model"
           },
           {
            "id": "65a694265f73b42e4ff806d3",
            "level": 2,
            "name": "Large Hadron Collider"
           },
           {
            "id": "65a693eb5f73b42e4ff743fb",
            "level": 1,
            "name": "Nuclear physics"
           },
           {
            "id": "65a693fa5f73b42e4ff795c2",
            "level": 2,
            "name": "Context (archaeology)"
           },
           {
            "id": "65a693e35f73b42e4ff71102",
            "level": 3,
            "name": "Standard Model (mathematical formulation)"
           },
           {
            "id": "65a693ff5f73b42e4ff7aa8e",
            "level": 3,
            "name": "Compact Muon Solenoid"
           },
           {
            "id": "65a693e35f73b42e4ff7120a",
            "level": 4,
            "name": "Sterile neutrino"
           },
           {
            "id": "65a693ed5f73b42e4ff75049",
            "level": 2,
            "name": "Muon"
           }
          ]
         }
        ],
        "subtitle": "",
        "titles": [
         {
          "lang": "en",
          "source": "scienti",
          "title": "Expanding the Reach of Heavy Neutrino Searches at the LHC"
         },
         {
          "lang": "en",
          "source": "openalex",
          "title": "Expanding the Reach of Heavy Neutrino Searches at the LHC"
         },
         {
          "lang": "en",
          "source": "wos",
          "title": "Expanding the reach of heavy neutrino searches at the LHC"
         },
         {
          "lang": "en",
          "source": "scholar",
          "title": "Expanding the reach of heavy neutrino searches at the LHC"
         }
        ],
        "types": [
         {
          "source": "scienti",
          "type": "Publicado en revista especializada"
         },
         {
          "source": "scienti",
          "type": "Artículo"
         },
         {
          "source": "openalex",
          "type": "journal-article"
         },
         {
          "source": "wos",
          "type": "article"
         },
         {
          "source": "scholar",
          "type": "article"
         }
        ],
        "updated": [
         {
          "source": "scienti",
          "time": 1705443727
         },
         {
          "source": "openalex",
          "time": 1705443753
         },
         {
          "source": "wos",
          "time": 1705443758
         },
         {
          "source": "scholar",
          "time": 1705443762
         }
        ],
        "year_published": null
       },
       {
        "_id": "65a701a4ebfc9155073cf2b7",
        "abstract": "",
        "author_count": 6,
        "authors": [
         {
          "affiliations": [
           {
            "id": "65a697415f73b42e4ffc76e7",
            "name": "Grupo de Fenomenologia de Interacciones Fundamentales",
            "types": [
             {
              "source": "scienti",
              "type": "group"
             }
            ]
           },
           {
            "id": "65a696255f73b42e4ff92e98",
            "name": "University of Antioquia",
            "types": [
             {
              "source": "ror",
              "type": "Education"
             },
             {
              "source": "openalex",
              "type": "education"
             }
            ]
           }
          ],
          "full_name": "Diego Alejandro Restrepo Quintero",
          "id": "65a697725f73b42e4ffc9270"
         },
         {
          "affiliations": [
           {
            "external_ids": [
             {
              "id": "https://openalex.org/I2801613365",
              "source": "openalex"
             },
             {
              "id": "https://ror.org/03ds72003",
              "source": "ror"
             }
            ],
            "name": "Mitchell Institute"
           }
          ],
          "external_ids": [
           {
            "id": "https://openalex.org/A3144130048",
            "source": "openalex"
           },
           {
            "id": "0000-0003-3926-150X",
            "source": "orcid"
           }
          ],
          "full_name": "Mohammad Abdullah",
          "types": []
         },
         {
          "affiliations": [
           {
            "external_ids": [
             {
              "id": "https://openalex.org/I35961687",
              "source": "openalex"
             },
             {
              "id": "https://ror.org/03bp5hc83",
              "source": "ror"
             }
            ],
            "name": "University of Antioquia"
           }
          ],
          "external_ids": [
           {
            "id": "https://openalex.org/A2800453689",
            "source": "openalex"
           },
           {
            "id": "0000-0001-6705-057X",
            "source": "orcid"
           }
          ],
          "full_name": "Julián Calle",
          "types": []
         },
         {
          "affiliations": [
           {
            "external_ids": [
             {
              "id": "https://openalex.org/I2801613365",
              "source": "openalex"
             },
             {
              "id": "https://ror.org/03ds72003",
              "source": "ror"
             }
            ],
            "name": "Mitchell Institute"
           }
          ],
          "external_ids": [
           {
            "id": "https://openalex.org/A3118419912",
            "source": "openalex"
           },
           {
            "id": "0000-0002-0192-8885",
            "source": "orcid"
           }
          ],
          "full_name": "Bhaskar Dutta",
          "types": []
         },
         {
          "affiliations": [
           {
            "external_ids": [
             {
              "id": "https://openalex.org/I162096671",
              "source": "openalex"
             },
             {
              "id": "https://ror.org/02mhbdp94",
              "source": "ror"
             }
            ],
            "name": "Universidad de Los Andes"
           }
          ],
          "external_ids": [
           {
            "id": "https://openalex.org/A2124785054",
            "source": "openalex"
           },
           {
            "id": "0000-0002-3222-0249",
            "source": "orcid"
           }
          ],
          "full_name": "Andrés Flórez",
          "types": []
         },
         {
          "affiliations": [
           {
            "external_ids": [
             {
              "id": "https://openalex.org/I35961687",
              "source": "openalex"
             },
             {
              "id": "https://ror.org/03bp5hc83",
              "source": "ror"
             }
            ],
            "name": "University of Antioquia"
           }
          ],
          "external_ids": [
           {
            "id": "https://openalex.org/A2306595523",
            "source": "openalex"
           },
           {
            "id": "0000-0001-6455-5564",
            "source": "orcid"
           }
          ],
          "full_name": "Diego Restrepo",
          "types": []
         }
        ],
        "bibliographic_info": {
         "end_page": "8",
         "is_open_acess": true,
         "issue": "055016",
         "open_access_status": "hybrid",
         "start_page": "1",
         "volume": "98"
        },
        "citations": [],
        "citations_by_year": [],
        "citations_count": [
         {
          "count": 21,
          "source": "openalex"
         },
         {
          "count": 11,
          "source": "wos"
         },
         {
          "count": 47,
          "source": "scholar"
         }
        ],
        "date_published": null,
        "external_ids": [
         {
          "id": "0000177733",
          "source": "COD_RH"
         },
         {
          "id": "130",
          "source": "COD_PRODUCTO"
         },
         {
          "id": "10.1103/physrevd.98.055016",
          "source": "doi"
         },
         {
          "id": "https://openalex.org/W2801044354",
          "source": "openalex"
         },
         {
          "id": "2801044354",
          "source": "mag"
         },
         {
          "id": "000444599100004",
          "source": "wos"
         },
         {
          "id": "FmFmJElKyH8J",
          "source": "scholar"
         }
        ],
        "external_urls": [
         {
          "source": "scienti",
          "url": "http://doi.org/10.1103/PhysRevD.98.055016"
         },
         {
          "source": "oa",
          "url": "http://link.aps.org/pdf/10.1103/PhysRevD.98.055016"
         },
         {
          "source": "scholar citations",
          "url": "/scholar?cites=9207691116162736406&as_sdt=2005&sciodt=0,5&hl=en"
         },
         {
          "source": "pdf",
          "url": "https://link.aps.org/pdf/10.1103/PhysRevD.98.055016"
         }
        ],
        "keywords": [],
        "ranking": [
         {
          "date": "",
          "rank": "ART-ART_A1",
          "source": "scienti"
         }
        ],
        "references": [],
        "references_count": null,
        "source": {
         "id": "65a68e165f73b42e4ff04649",
         "name": "Physical review"
        },
        "subjects": [
         {
          "source": "openalex",
          "subjects": [
           {
            "id": "65a693e55f73b42e4ff71d36",
            "level": 0,
            "name": "Physics"
           },
           {
            "id": "65a693ea5f73b42e4ff74068",
            "level": 3,
            "name": "Lepton"
           },
           {
            "id": "65a693e45f73b42e4ff715cb",
            "level": 1,
            "name": "Particle physics"
           },
           {
            "id": "65a694225f73b42e4ff7ffc6",
            "level": 2,
            "name": "Quark"
           },
           {
            "id": "65a693f95f73b42e4ff790e8",
            "level": 4,
            "name": "Missing energy"
           },
           {
            "id": "65a694265f73b42e4ff806d3",
            "level": 2,
            "name": "Large Hadron Collider"
           },
           {
            "id": "65a694255f73b42e4ff805df",
            "level": 3,
            "name": "Charm quark"
           },
           {
            "id": "65a694045f73b42e4ff7b948",
            "level": 2,
            "name": "Charm (quantum number)"
           },
           {
            "id": "65a693ed5f73b42e4ff75243",
            "level": 2,
            "name": "Sensitivity (control systems)"
           },
           {
            "id": "65a694165f73b42e4ff7e380",
            "level": 3,
            "name": "B meson"
           },
           {
            "id": "65a693ec5f73b42e4ff74d02",
            "level": 2,
            "name": "Meson"
           },
           {
            "id": "65a693eb5f73b42e4ff743fb",
            "level": 1,
            "name": "Nuclear physics"
           }
          ]
         }
        ],
        "subtitle": "",
        "titles": [
         {
          "lang": "en",
          "source": "scienti",
          "title": "Probing a simplified, $W^{\\prime}$ model of $R(D^{(\\ast)})$ anomalies using $b$-tags, $\\tau$ leptons and missing energy"
         },
         {
          "lang": "en",
          "source": "openalex",
          "title": "Probing a simplified W ′ model of R ( D ( * ) ) anomalies using b tags, τ leptons, and missing energy"
         },
         {
          "lang": "en",
          "source": "wos",
          "title": "Probing a simplified W ' model of R(D-(*())) anomalies using b tags, tau leptons, and missing energy"
         },
         {
          "lang": "en",
          "source": "scholar",
          "title": "Probing a simplified W′ model of R (D (*)) anomalies using b tags, $τ$ leptons, and missing energy"
         }
        ],
        "types": [
         {
          "source": "scienti",
          "type": "Publicado en revista especializada"
         },
         {
          "source": "scienti",
          "type": "Artículo"
         },
         {
          "source": "openalex",
          "type": "journal-article"
         },
         {
          "source": "wos",
          "type": "article"
         },
         {
          "source": "scholar",
          "type": "article"
         }
        ],
        "updated": [
         {
          "source": "scienti",
          "time": 1705443727
         },
         {
          "source": "openalex",
          "time": 1705443754
         },
         {
          "source": "wos",
          "time": 1705443758
         },
         {
          "source": "scholar",
          "time": 1705443762
         }
        ],
        "year_published": null
       },
       {
        "_id": "65a701a4ebfc9155073cf2b8",
        "abstract": "",
        "author_count": 4,
        "authors": [
         {
          "affiliations": [
           {
            "id": "65a697415f73b42e4ffc76e7",
            "name": "Grupo de Fenomenologia de Interacciones Fundamentales",
            "types": [
             {
              "source": "scienti",
              "type": "group"
             }
            ]
           },
           {
            "id": "65a696255f73b42e4ff92e98",
            "name": "University of Antioquia",
            "types": [
             {
              "source": "ror",
              "type": "Education"
             },
             {
              "source": "openalex",
              "type": "education"
             }
            ]
           }
          ],
          "full_name": "Oscar Alberto Zapata Norena",
          "id": "65a697735f73b42e4ffc9604"
         },
         {
          "affiliations": [
           {
            "external_ids": [
             {
              "id": "https://openalex.org/I103635307",
              "source": "openalex"
             },
             {
              "id": "https://ror.org/03nawhv43",
              "source": "ror"
             }
            ],
            "name": "University of California, Riverside"
           }
          ],
          "external_ids": [
           {
            "id": "https://openalex.org/A3089176172",
            "source": "openalex"
           }
          ],
          "full_name": "Ernest Ma",
          "types": []
         },
         {
          "affiliations": [
           {
            "external_ids": [
             {
              "id": "https://openalex.org/I35961687",
              "source": "openalex"
             },
             {
              "id": "https://ror.org/03bp5hc83",
              "source": "ror"
             }
            ],
            "name": "University of Antioquia"
           }
          ],
          "external_ids": [
           {
            "id": "https://openalex.org/A2306595523",
            "source": "openalex"
           },
           {
            "id": "0000-0001-6455-5564",
            "source": "orcid"
           }
          ],
          "full_name": "Diego Restrepo",
          "types": []
         },
         {
          "affiliations": [
           {
            "external_ids": [
             {
              "id": "https://openalex.org/I35961687",
              "source": "openalex"
             },
             {
              "id": "https://ror.org/03bp5hc83",
              "source": "ror"
             }
            ],
            "name": "University of Antioquia"
           }
          ],
          "external_ids": [
           {
            "id": "https://openalex.org/A2047011875",
            "source": "openalex"
           },
           {
            "id": "0000-0001-5533-4014",
            "source": "orcid"
           }
          ],
          "full_name": "Óscar Zapata",
          "types": []
         }
        ],
        "bibliographic_info": {
         "end_page": "9",
         "is_open_acess": true,
         "issue": "1850024",
         "open_access_status": "green",
         "start_page": "1",
         "volume": "33"
        },
        "citations": [],
        "citations_by_year": [],
        "citations_count": [
         {
          "count": 11,
          "source": "openalex"
         },
         {
          "count": 7,
          "source": "scopus"
         },
         {
          "count": 5,
          "source": "wos"
         },
         {
          "count": 15,
          "source": "scholar"
         }
        ],
        "date_published": null,
        "external_ids": [
         {
          "id": "0000707619",
          "source": "COD_RH"
         },
         {
          "id": "41",
          "source": "COD_PRODUCTO"
         },
         {
          "id": "10.1142/s0217732318500244",
          "source": "doi"
         },
         {
          "id": "https://openalex.org/W3100627084",
          "source": "openalex"
         },
         {
          "id": "3100627084",
          "source": "mag"
         },
         {
          "id": "2-s2.0-85040862223",
          "source": "scopus"
         },
         {
          "id": "000423488200007",
          "source": "wos"
         },
         {
          "id": "CoxEtYWH7qgJ",
          "source": "scholar"
         }
        ],
        "external_urls": [
         {
          "source": "scienti",
          "url": "https://www.worldscientific.com/doi/pdf/10.1142/S0217732318500244"
         },
         {
          "source": "oa",
          "url": "http://arxiv.org/pdf/1706.08240"
         },
         {
          "source": "scopus",
          "url": "https://www.scopus.com/inward/record.uri?eid=2-s2.0-85040862223&doi=10.1142%2fS0217732318500244&partnerID=40&md5=b6b843a4e108522d1ac77c5c15b1e2c6"
         },
         {
          "source": "scholar citations",
          "url": "/scholar?cites=12172815851170597898&as_sdt=2005&sciodt=0,5&hl=en"
         },
         {
          "source": "pdf",
          "url": "https://arxiv.org/pdf/1706.08240"
         }
        ],
        "keywords": [],
        "ranking": [
         {
          "date": "",
          "rank": "ART-ART_A2",
          "source": "scienti"
         }
        ],
        "references": [],
        "references_count": null,
        "source": {
         "id": "65a68e185f73b42e4ff04c88",
         "name": "Modern Physics Letters A"
        },
        "subjects": [
         {
          "source": "openalex",
          "subjects": [
           {
            "id": "65a693e55f73b42e4ff71d36",
            "level": 0,
            "name": "Physics"
           },
           {
            "id": "65a693e45f73b42e4ff715cb",
            "level": 1,
            "name": "Particle physics"
           },
           {
            "id": "65a693e45f73b42e4ff7187a",
            "level": 3,
            "name": "Axion"
           },
           {
            "id": "65a693eb5f73b42e4ff7448f",
            "level": 2,
            "name": "Neutrino"
           },
           {
            "id": "65a693e85f73b42e4ff73416",
            "level": 2,
            "name": "Dark matter"
           },
           {
            "id": "65a693e55f73b42e4ff71a8a",
            "level": 2,
            "name": "Quantum chromodynamics"
           },
           {
            "id": "65a693ea5f73b42e4ff74068",
            "level": 3,
            "name": "Lepton"
           },
           {
            "id": "65a694225f73b42e4ff7ffc6",
            "level": 2,
            "name": "Quark"
           },
           {
            "id": "65a6941b5f73b42e4ff7ef4d",
            "level": 2,
            "name": "Fermion"
           },
           {
            "id": "65a693e35f73b42e4ff71102",
            "level": 3,
            "name": "Standard Model (mathematical formulation)"
           },
           {
            "id": "65a6941d5f73b42e4ff7f4ba",
            "level": 2,
            "name": "Scalar (mathematics)"
           },
           {
            "id": "65a693e35f73b42e4ff7120a",
            "level": 4,
            "name": "Sterile neutrino"
           },
           {
            "id": "65a693e45f73b42e4ff7151e",
            "level": 4,
            "name": "Lepton number"
           }
          ]
         }
        ],
        "subtitle": "",
        "titles": [
         {
          "lang": "en",
          "source": "scienti",
          "title": "Anomalous leptonic U(1) symmetry: Syndetic origin of the QCD axion, weak-scale dark matter, and radiative neutrino mass"
         },
         {
          "lang": "en",
          "source": "ranking_udea",
          "title": "ANOMALOUS LEPTONIC U(1) SYMMETRY: SYNDETIC ORIGIN OF THE QCD AXION, WEAK-SCALE DARK MATTER, AND RADIATIVE NEUTRINO MASS."
         },
         {
          "lang": "en",
          "source": "openalex",
          "title": "Anomalous leptonic U(1) symmetry: Syndetic origin of the QCD axion, weak-scale dark matter, and radiative neutrino mass"
         },
         {
          "lang": "en",
          "source": "scopus",
          "title": "Anomalous leptonic U(1) symmetry: Syndetic origin of the QCD axion, weak-scale dark matter, and radiative neutrino mass"
         },
         {
          "lang": "en",
          "source": "wos",
          "title": "Anomalous leptonic U(1) symmetry: Syndetic origin of the QCD axion, weak-scale dark matter, and radiative neutrino mass"
         },
         {
          "lang": "en",
          "source": "scholar",
          "title": "Anomalous leptonic U (1) symmetry: Syndetic origin of the QCD axion, weak-scale dark matter, and radiative neutrino mass"
         }
        ],
        "types": [
         {
          "source": "scienti",
          "type": "Publicado en revista especializada"
         },
         {
          "source": "scienti",
          "type": "Artículo"
         },
         {
          "source": "openalex",
          "type": "journal-article"
         },
         {
          "source": "scopus",
          "type": "Article"
         },
         {
          "source": "wos",
          "type": "article"
         },
         {
          "source": "scholar",
          "type": "article"
         }
        ],
        "updated": [
         {
          "source": "scienti",
          "time": 1705443727
         },
         {
          "source": "ranking_udea",
          "time": 1705443749
         },
         {
          "source": "openalex",
          "time": 1705443754
         },
         {
          "source": "scopus",
          "time": 1705443754
         },
         {
          "source": "wos",
          "time": 1705443758
         },
         {
          "source": "scholar",
          "time": 1705443762
         }
        ],
        "year_published": null
       },
       {
        "_id": "65a701a4ebfc9155073cf2b9",
        "abstract": "",
        "author_count": 3,
        "authors": [
         {
          "affiliations": [
           {
            "id": "65a697415f73b42e4ffc76e7",
            "name": "Grupo de Fenomenologia de Interacciones Fundamentales",
            "types": [
             {
              "source": "scienti",
              "type": "group"
             }
            ]
           },
           {
            "id": "65a696255f73b42e4ff92e98",
            "name": "University of Antioquia",
            "types": [
             {
              "source": "ror",
              "type": "Education"
             },
             {
              "source": "openalex",
              "type": "education"
             }
            ]
           }
          ],
          "full_name": "Diego Alejandro Restrepo Quintero",
          "id": "65a697725f73b42e4ffc9270"
         },
         {
          "affiliations": [
           {
            "external_ids": [
             {
              "id": "https://openalex.org/I35961687",
              "source": "openalex"
             },
             {
              "id": "https://ror.org/03bp5hc83",
              "source": "ror"
             }
            ],
            "name": "University of Antioquia"
           }
          ],
          "external_ids": [
           {
            "id": "https://openalex.org/A2306595523",
            "source": "openalex"
           },
           {
            "id": "0000-0001-6455-5564",
            "source": "orcid"
           }
          ],
          "full_name": "Diego Restrepo",
          "types": []
         },
         {
          "affiliations": [
           {
            "external_ids": [
             {
              "id": "https://openalex.org/I35961687",
              "source": "openalex"
             },
             {
              "id": "https://ror.org/03bp5hc83",
              "source": "ror"
             }
            ],
            "name": "University of Antioquia"
           }
          ],
          "external_ids": [
           {
            "id": "https://openalex.org/A2485835366",
            "source": "openalex"
           },
           {
            "id": "0000-0002-6256-8545",
            "source": "orcid"
           }
          ],
          "full_name": "Andrés Rivera",
          "types": []
         }
        ],
        "bibliographic_info": {
         "end_page": "26",
         "is_open_acess": true,
         "issue": "N/A",
         "open_access_status": "gold",
         "start_page": "1",
         "volume": "1"
        },
        "citations": [],
        "citations_by_year": [],
        "citations_count": [
         {
          "count": 6,
          "source": "openalex"
         },
         {
          "count": 15,
          "source": "scholar"
         }
        ],
        "date_published": null,
        "external_ids": [
         {
          "id": "0000177733",
          "source": "COD_RH"
         },
         {
          "id": "140",
          "source": "COD_PRODUCTO"
         },
         {
          "id": "10.1007/jhep04(2020)134",
          "source": "doi"
         },
         {
          "id": "https://openalex.org/W3099207013",
          "source": "openalex"
         },
         {
          "id": "3099207013",
          "source": "mag"
         },
         {
          "id": "2-s2.0-85083642740",
          "source": "scopus"
         },
         {
          "id": "sPHiod0jAaUJ",
          "source": "scholar"
         }
        ],
        "external_urls": [
         {
          "source": "scienti",
          "url": "https://link.springer.com/article/10.1007/JHEP04(2020)134"
         },
         {
          "source": "oa",
          "url": "https://link.springer.com/content/pdf/10.1007/JHEP04(2020)134.pdf"
         },
         {
          "source": "scopus",
          "url": "https://www.scopus.com/inward/record.uri?eid=2-s2.0-85083642740&doi=10.1007%2fJHEP04%282020%29134&partnerID=40&md5=e1bd5332a8440e225401d90181a246b5"
         },
         {
          "source": "scholar citations",
          "url": "/scholar?cites=11889823926045569456&as_sdt=2005&sciodt=0,5&hl=en"
         },
         {
          "source": "pdf",
          "url": "https://link.springer.com/content/pdf/10.1007/JHEP04(2020)134.pdf"
         }
        ],
        "keywords": [],
        "ranking": [
         {
          "date": "",
          "rank": "PID-PID_C",
          "source": "scienti"
         }
        ],
        "references": [],
        "references_count": null,
        "source": {
         "id": "65a691a25f73b42e4ff0c097",
         "name": "Journal of High Energy Physics"
        },
        "subjects": [
         {
          "source": "openalex",
          "subjects": [
           {
            "id": "65a693e55f73b42e4ff71d36",
            "level": 0,
            "name": "Physics"
           },
           {
            "id": "65a693e45f73b42e4ff715cb",
            "level": 1,
            "name": "Particle physics"
           },
           {
            "id": "65a693e85f73b42e4ff73416",
            "level": 2,
            "name": "Dark matter"
           },
           {
            "id": "65a693eb5f73b42e4ff7448f",
            "level": 2,
            "name": "Neutrino"
           },
           {
            "id": "65a693ec5f73b42e4ff74e2d",
            "level": 2,
            "name": "Annihilation"
           },
           {
            "id": "65a694225f73b42e4ff7fe45",
            "level": 2,
            "name": "Parameter space"
           },
           {
            "id": "65a693eb5f73b42e4ff744cd",
            "level": 2,
            "name": "Fermi Gamma-ray Space Telescope"
           },
           {
            "id": "65a693e95f73b42e4ff73c64",
            "level": 2,
            "name": "Nucleon"
           },
           {
            "id": "65a693ea5f73b42e4ff74068",
            "level": 3,
            "name": "Lepton"
           },
           {
            "id": "65a693e35f73b42e4ff71102",
            "level": 3,
            "name": "Standard Model (mathematical formulation)"
           },
           {
            "id": "65a693eb5f73b42e4ff7439b",
            "level": 2,
            "name": "Physics beyond the Standard Model"
           },
           {
            "id": "65a694155f73b42e4ff7e1e0",
            "level": 3,
            "name": "Singlet state"
           },
           {
            "id": "65a693eb5f73b42e4ff743fb",
            "level": 1,
            "name": "Nuclear physics"
           }
          ]
         }
        ],
        "subtitle": "",
        "titles": [
         {
          "lang": "en",
          "source": "scienti",
          "title": "Phenomenological consistency of the singlet-triplet scotogenic model"
         },
         {
          "lang": "en",
          "source": "openalex",
          "title": "Phenomenological consistency of the singlet-triplet scotogenic model"
         },
         {
          "lang": "en",
          "source": "scopus",
          "title": "Phenomenological consistency of the singlet-triplet scotogenic model"
         },
         {
          "lang": "en",
          "source": "scholar",
          "title": "Phenomenological consistency of the singlet-triplet scotogenic model"
         }
        ],
        "types": [
         {
          "source": "scienti",
          "type": "Publicado en revista especializada"
         },
         {
          "source": "scienti",
          "type": "Artículo"
         },
         {
          "source": "openalex",
          "type": "journal-article"
         },
         {
          "source": "scopus",
          "type": "Article"
         },
         {
          "source": "scholar",
          "type": "article"
         }
        ],
        "updated": [
         {
          "source": "scienti",
          "time": 1705443727
         },
         {
          "source": "openalex",
          "time": 1705443753
         },
         {
          "source": "scopus",
          "time": 1705443754
         },
         {
          "source": "scholar",
          "time": 1705443762
         }
        ],
        "year_published": null
       },
       {
        "_id": "65a701a5ebfc9155073cf2c0",
        "abstract": "",
        "author_count": 5,
        "authors": [
         {
          "affiliations": [
           {
            "id": "65a696255f73b42e4ff92e98",
            "name": "University of Antioquia",
            "types": [
             {
              "source": "ror",
              "type": "Education"
             },
             {
              "source": "openalex",
              "type": "education"
             }
            ]
           }
          ],
          "full_name": "Oscar Alberto Zapata Norena",
          "id": "65a697735f73b42e4ffc9604"
         },
         {
          "affiliations": [
           {
            "external_ids": [
             {
              "id": "https://openalex.org/I16097986",
              "source": "openalex"
             },
             {
              "id": "https://ror.org/043nxc105",
              "source": "ror"
             }
            ],
            "name": "University of Valencia"
           }
          ],
          "external_ids": [
           {
            "id": "https://openalex.org/A2493378674",
            "source": "openalex"
           }
          ],
          "full_name": "Mario Reig",
          "types": []
         },
         {
          "affiliations": [
           {
            "external_ids": [
             {
              "id": "https://openalex.org/I35961687",
              "source": "openalex"
             },
             {
              "id": "https://ror.org/03bp5hc83",
              "source": "ror"
             }
            ],
            "name": "University of Antioquia"
           }
          ],
          "external_ids": [
           {
            "id": "https://openalex.org/A2306595523",
            "source": "openalex"
           },
           {
            "id": "0000-0001-6455-5564",
            "source": "orcid"
           }
          ],
          "full_name": "Diego Restrepo",
          "types": []
         },
         {
          "affiliations": [
           {
            "external_ids": [
             {
              "id": "https://openalex.org/I16097986",
              "source": "openalex"
             },
             {
              "id": "https://ror.org/043nxc105",
              "source": "ror"
             }
            ],
            "name": "University of Valencia"
           }
          ],
          "external_ids": [
           {
            "id": "https://openalex.org/A2308752787",
            "source": "openalex"
           },
           {
            "id": "0000-0002-1881-5094",
            "source": "orcid"
           }
          ],
          "full_name": "José W. F. Valle",
          "types": []
         },
         {
          "affiliations": [
           {
            "external_ids": [
             {
              "id": "https://openalex.org/I35961687",
              "source": "openalex"
             },
             {
              "id": "https://ror.org/03bp5hc83",
              "source": "ror"
             }
            ],
            "name": "University of Antioquia"
           }
          ],
          "external_ids": [
           {
            "id": "https://openalex.org/A2047011875",
            "source": "openalex"
           },
           {
            "id": "0000-0001-5533-4014",
            "source": "orcid"
           }
          ],
          "full_name": "Óscar Zapata",
          "types": []
         }
        ],
        "bibliographic_info": {
         "is_open_acess": true,
         "issue": "11",
         "open_access_status": "hybrid",
         "start_page": "115032",
         "volume": "97"
        },
        "citations": [],
        "citations_by_year": [],
        "citations_count": [
         {
          "count": 33,
          "source": "openalex"
         },
         {
          "count": 12,
          "source": "wos"
         },
         {
          "count": 41,
          "source": "scholar"
         }
        ],
        "date_published": null,
        "external_ids": [
         {
          "id": "10.1103/physrevd.97.115032",
          "source": "doi"
         },
         {
          "id": "https://openalex.org/W2795094497",
          "source": "openalex"
         },
         {
          "id": "2795094497",
          "source": "mag"
         },
         {
          "id": "000435548100003",
          "source": "wos"
         },
         {
          "id": "-SDZ0tP-mbwJ",
          "source": "scholar"
         }
        ],
        "external_urls": [
         {
          "source": "oa",
          "url": "http://link.aps.org/pdf/10.1103/PhysRevD.97.115032"
         },
         {
          "source": "scholar citations",
          "url": "/scholar?cites=13590173536296182009&as_sdt=2005&sciodt=0,5&hl=en"
         },
         {
          "source": "pdf",
          "url": "https://link.aps.org/pdf/10.1103/PhysRevD.97.115032"
         }
        ],
        "keywords": [],
        "ranking": [],
        "references": [],
        "references_count": null,
        "source": {
         "id": "65a691ac5f73b42e4ff0c42c",
         "name": "Physical Review D - Particles, Fields, Gravitation and Cosmology"
        },
        "subjects": [
         {
          "source": "openalex",
          "subjects": [
           {
            "id": "65a693e55f73b42e4ff71d36",
            "level": 0,
            "name": "Physics"
           },
           {
            "id": "65a693e45f73b42e4ff715cb",
            "level": 1,
            "name": "Particle physics"
           },
           {
            "id": "65a693eb5f73b42e4ff7448f",
            "level": 2,
            "name": "Neutrino"
           },
           {
            "id": "65a693e85f73b42e4ff73416",
            "level": 2,
            "name": "Dark matter"
           },
           {
            "id": "65a693e35f73b42e4ff7120a",
            "level": 4,
            "name": "Sterile neutrino"
           },
           {
            "id": "65a693e45f73b42e4ff718ba",
            "level": 5,
            "name": "Warm dark matter"
           },
           {
            "id": "65a6941e5f73b42e4ff7f6b3",
            "level": 3,
            "name": "Dirac (video compression format)"
           },
           {
            "id": "65a693eb5f73b42e4ff743fb",
            "level": 1,
            "name": "Nuclear physics"
           }
          ]
         }
        ],
        "subtitle": "",
        "titles": [
         {
          "lang": "en",
          "source": "ranking_udea",
          "title": "BOUND-STATE DARK MATTER AND DIRAC NEUTRINO MASSES"
         },
         {
          "lang": "en",
          "source": "openalex",
          "title": "Bound-state dark matter and Dirac neutrino masses"
         },
         {
          "lang": "en",
          "source": "wos",
          "title": "Bound-state dark matter and Dirac neutrino masses"
         },
         {
          "lang": "en",
          "source": "scholar",
          "title": "Bound-state dark matter and Dirac neutrino masses"
         }
        ],
        "types": [
         {
          "source": "openalex",
          "type": "journal-article"
         },
         {
          "source": "wos",
          "type": "article"
         },
         {
          "source": "scholar",
          "type": "article"
         }
        ],
        "updated": [
         {
          "source": "ranking_udea",
          "time": 1705443749
         },
         {
          "source": "openalex",
          "time": 1705443753
         },
         {
          "source": "wos",
          "time": 1705443758
         },
         {
          "source": "scholar",
          "time": 1705443762
         }
        ],
        "year_published": 2018
       },
       {
        "_id": "65a701aaebfc9155073cf2d0",
        "abstract": "",
        "author_count": 4,
        "authors": [
         {
          "affiliations": [
           {
            "id": "65a6965c5f73b42e4ff9ea4d",
            "name": "Universidad Antonio Nariño",
            "types": [
             {
              "source": "ror",
              "type": "Education"
             },
             {
              "source": "openalex",
              "type": "education"
             }
            ]
           }
          ],
          "full_name": "Nicolás Bernal",
          "id": "65a69e145f73b42e4ffcd85f"
         },
         {
          "affiliations": [
           {
            "id": "65a696255f73b42e4ff92e98",
            "name": "University of Antioquia",
            "types": [
             {
              "source": "ror",
              "type": "Education"
             },
             {
              "source": "openalex",
              "type": "education"
             }
            ]
           },
           {
            "id": "65a696f85f73b42e4ffbe656",
            "name": "International Centre for Theoretical Physics",
            "types": [
             {
              "source": "ror",
              "type": "Facility"
             },
             {
              "source": "openalex",
              "type": "facility"
             }
            ]
           }
          ],
          "full_name": "Diego Restrepo",
          "id": "65a69ef45f73b42e4fff5acb"
         },
         {
          "affiliations": [
           {
            "id": "65a697055f73b42e4ffc12f4",
            "name": "Pedagogical and Technological University of Colombia",
            "types": [
             {
              "source": "ror",
              "type": "Education"
             },
             {
              "source": "openalex",
              "type": "education"
             }
            ]
           }
          ],
          "full_name": "Carlos E. Yaguna",
          "id": "65a6a0635f73b42e4f02ff0a"
         },
         {
          "affiliations": [
           {
            "id": "65a696255f73b42e4ff92e98",
            "name": "University of Antioquia",
            "types": [
             {
              "source": "ror",
              "type": "Education"
             },
             {
              "source": "openalex",
              "type": "education"
             }
            ]
           }
          ],
          "full_name": "Óscar Zapata",
          "id": "65a69e325f73b42e4ffd2f17"
         }
        ],
        "bibliographic_info": {
         "is_open_access": true,
         "issue": "1",
         "open_access_status": "hybrid",
         "start_page": "015038",
         "volume": "99"
        },
        "citations": [],
        "citations_by_year": [
         {
          "cited_by_count": 6,
          "year": 2022
         },
         {
          "cited_by_count": 10,
          "year": 2021
         },
         {
          "cited_by_count": 5,
          "year": 2020
         },
         {
          "cited_by_count": 6,
          "year": 2019
         }
        ],
        "citations_count": [
         {
          "count": 27,
          "source": "openalex"
         },
         {
          "count": 6,
          "source": "wos"
         },
         {
          "count": 34,
          "source": "scholar"
         }
        ],
        "date_published": 1548824400,
        "external_ids": [
         {
          "id": "https://openalex.org/W2886932741",
          "source": "openalex"
         },
         {
          "id": "10.1103/physrevd.99.015038",
          "source": "doi"
         },
         {
          "id": "2886932741",
          "source": "mag"
         },
         {
          "id": "000457136800007",
          "source": "wos"
         },
         {
          "id": "LgYqjQIeCnYJ",
          "source": "scholar"
         }
        ],
        "external_urls": [
         {
          "source": "oa",
          "url": "http://link.aps.org/pdf/10.1103/PhysRevD.99.015038"
         },
         {
          "source": "scholar citations",
          "url": "/scholar?cites=8505643842549712430&as_sdt=2005&sciodt=0,5&hl=en"
         },
         {
          "source": "pdf",
          "url": "https://link.aps.org/pdf/10.1103/PhysRevD.99.015038"
         }
        ],
        "keywords": [],
        "ranking": [],
        "references": [],
        "references_count": null,
        "source": {
         "id": "65a68e165f73b42e4ff04649",
         "name": "Physical review"
        },
        "subjects": [
         {
          "source": "openalex",
          "subjects": [
           {
            "id": "65a693e55f73b42e4ff71d36",
            "level": 0,
            "name": "Physics"
           },
           {
            "id": "65a6941c5f73b42e4ff7f274",
            "level": 2,
            "name": "Massless particle"
           },
           {
            "id": "65a693eb5f73b42e4ff7448f",
            "level": 2,
            "name": "Neutrino"
           },
           {
            "id": "65a693e45f73b42e4ff715cb",
            "level": 1,
            "name": "Particle physics"
           },
           {
            "id": "65a693e85f73b42e4ff73416",
            "level": 2,
            "name": "Dark matter"
           },
           {
            "id": "65a693e95f73b42e4ff7399d",
            "level": 2,
            "name": "Component (thermodynamics)"
           },
           {
            "id": "65a693e45f73b42e4ff718ba",
            "level": 5,
            "name": "Warm dark matter"
           },
           {
            "id": "65a693eb5f73b42e4ff743fb",
            "level": 1,
            "name": "Nuclear physics"
           }
          ]
         }
        ],
        "subtitle": "",
        "titles": [
         {
          "lang": null,
          "source": "openalex",
          "title": "www.w3.org/1998/Math/MathML\" display=\"inline\"><mml:mi>B</mml:mi><mml:mo>−</mml:mo><mml:mi>L</mml:mi></mml:math> model"
         },
         {
          "lang": "en",
          "source": "wos",
          "title": "Two-component dark matter and a massless neutrino in a new B - L model"
         },
         {
          "lang": "en",
          "source": "scholar",
          "title": "Two-component dark matter and a massless neutrino in a new B- L model"
         }
        ],
        "types": [
         {
          "source": "openalex",
          "type": "journal-article"
         },
         {
          "source": "wos",
          "type": "article"
         },
         {
          "source": "scholar",
          "type": "article"
         }
        ],
        "updated": [
         {
          "source": "openalex",
          "time": 1705443750
         },
         {
          "source": "wos",
          "time": 1705443758
         },
         {
          "source": "scholar",
          "time": 1705443762
         }
        ],
        "year_published": 2019
       }
      ],
      "text/plain": [
       "<IPython.core.display.JSON object>"
      ]
     },
     "execution_count": 55,
     "metadata": {
      "application/json": {
       "expanded": false,
       "root": "root"
      }
     },
     "output_type": "execute_result"
    }
   ],
   "source": [
    "JSON(json_works)"
   ]
  },
  {
   "cell_type": "code",
   "execution_count": 40,
   "id": "d6cb5081-7708-4c6b-a3b2-ff4db4dda0c0",
   "metadata": {
    "tags": []
   },
   "outputs": [],
   "source": [
    "kahi_sample_db = dbclient['kahi_sample_works']\n",
    "works_collection = kahi_sample_db['scienti_works']\n",
    "works_collection_list = list(works_collection.find())\n",
    "json_works_collection = json.dumps(works_collection_list, default=str)"
   ]
  },
  {
   "cell_type": "code",
   "execution_count": null,
   "id": "6223db8f-08a0-4be1-b8d9-55ca794e9301",
   "metadata": {
    "tags": []
   },
   "outputs": [],
   "source": [
    "JSON(json_works_collection)"
   ]
  },
  {
   "cell_type": "code",
   "execution_count": 6,
   "id": "e12a536a-9ce4-4153-a4b1-7b6b67750279",
   "metadata": {
    "tags": []
   },
   "outputs": [],
   "source": [
    "#Antes de correr ETL"
   ]
  },
  {
   "cell_type": "code",
   "execution_count": 23,
   "id": "29a487a2-29f8-4d9f-b67b-7f198a1d972e",
   "metadata": {
    "tags": []
   },
   "outputs": [],
   "source": [
    "log_collection = kahi_test_db['log']\n",
    "log_collection_list = list(log_collection.find())\n",
    "json_log_collection = json.dumps(log_collection_list, default=str)"
   ]
  },
  {
   "cell_type": "code",
   "execution_count": null,
   "id": "1a165e41-7af5-4e49-9f68-fbdb11484708",
   "metadata": {
    "tags": []
   },
   "outputs": [],
   "source": [
    "JSON(json_log_collection)"
   ]
  },
  {
   "cell_type": "code",
   "execution_count": null,
   "id": "d37fae14-b6ab-454f-909b-4bcfe5cec3f6",
   "metadata": {
    "tags": []
   },
   "outputs": [],
   "source": [
    "for col in kahi_test_db.list_collections():\n",
    "    print(col)"
   ]
  },
  {
   "cell_type": "code",
   "execution_count": 53,
   "id": "61594227-81fb-4eb7-a711-165239ae0b74",
   "metadata": {
    "tags": []
   },
   "outputs": [
    {
     "data": {
      "text/plain": [
       "<pymongo.results.DeleteResult at 0x7f01934c7ee0>"
      ]
     },
     "execution_count": 53,
     "metadata": {},
     "output_type": "execute_result"
    }
   ],
   "source": [
    "kahi_test_db.drop_collection('works')\n",
    "\n",
    "log_collection.delete_one({ \"_id\": \"openalex_works\" })\n",
    "log_collection.delete_one({ \"_id\": \"scienti_works\" })\n",
    "log_collection.delete_one({ \"_id\": \"ranking_udea_works\" })\n",
    "log_collection.delete_one({ \"_id\": \"scopus_works\" })\n",
    "log_collection.delete_one({ \"_id\": \"wos_works\" })\n",
    "log_collection.delete_one({ \"_id\": \"scholar_works\" })"
   ]
  },
  {
   "cell_type": "code",
   "execution_count": null,
   "id": "a5a9923d-6c26-4727-a984-9882e60d54ad",
   "metadata": {},
   "outputs": [],
   "source": []
  }
 ],
 "metadata": {
  "kernelspec": {
   "display_name": "Python 3 (ipykernel)",
   "language": "python",
   "name": "python3"
  },
  "language_info": {
   "codemirror_mode": {
    "name": "ipython",
    "version": 3
   },
   "file_extension": ".py",
   "mimetype": "text/x-python",
   "name": "python",
   "nbconvert_exporter": "python",
   "pygments_lexer": "ipython3",
   "version": "3.10.12"
  }
 },
 "nbformat": 4,
 "nbformat_minor": 5
}
