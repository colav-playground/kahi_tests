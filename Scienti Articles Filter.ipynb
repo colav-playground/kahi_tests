{
 "cells": [
  {
   "cell_type": "code",
   "execution_count": 1,
   "metadata": {},
   "outputs": [],
   "source": [
    "from pymongo import MongoClient"
   ]
  },
  {
   "cell_type": "code",
   "execution_count": 10,
   "metadata": {},
   "outputs": [],
   "source": [
    "institutions = [\"udea\",\"uec\",\"unaula\",\"univalle\"]\n",
    "products = [\"111\",\"112\",\"113\",\"114\"]\n",
    "for inst in institutions:\n",
    "    db_in = MongoClient(readPreference='secondaryPreferred')[f\"scienti_{inst}_2023\"]\n",
    "    col_in = db_in[\"product\"]\n",
    "\n",
    "    db_out = MongoClient()[f\"scienti_\"+\"_\".join(products)]\n",
    "    col_out = db_out[f\"product_{inst}\"]\n",
    "    for prod in products:\n",
    "        for rec in db_in.product.find({\"COD_TIPO_PRODUCTO\":prod}):\n",
    "            col_out.insert_one(rec)"
   ]
  },
  {
   "cell_type": "code",
   "execution_count": null,
   "metadata": {},
   "outputs": [],
   "source": []
  },
  {
   "cell_type": "code",
   "execution_count": null,
   "metadata": {},
   "outputs": [],
   "source": []
  }
 ],
 "metadata": {
  "kernelspec": {
   "display_name": "Python 3",
   "language": "python",
   "name": "python3"
  },
  "language_info": {
   "codemirror_mode": {
    "name": "ipython",
    "version": 3
   },
   "file_extension": ".py",
   "mimetype": "text/x-python",
   "name": "python",
   "nbconvert_exporter": "python",
   "pygments_lexer": "ipython3",
   "version": "3.10.12"
  }
 },
 "nbformat": 4,
 "nbformat_minor": 2
}
